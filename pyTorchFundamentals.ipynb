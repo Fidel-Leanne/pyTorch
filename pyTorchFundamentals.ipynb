{
  "nbformat": 4,
  "nbformat_minor": 0,
  "metadata": {
    "colab": {
      "provenance": [],
      "gpuType": "T4",
      "authorship_tag": "ABX9TyNAwj60opdIX4L2arEyj7fh",
      "include_colab_link": true
    },
    "kernelspec": {
      "name": "python3",
      "display_name": "Python 3"
    },
    "language_info": {
      "name": "python"
    }
  },
  "cells": [
    {
      "cell_type": "markdown",
      "metadata": {
        "id": "view-in-github",
        "colab_type": "text"
      },
      "source": [
        "<a href=\"https://colab.research.google.com/github/Fidel-Leanne/pyTorch/blob/master/pyTorchFundamentals.ipynb\" target=\"_parent\"><img src=\"https://colab.research.google.com/assets/colab-badge.svg\" alt=\"Open In Colab\"/></a>"
      ]
    },
    {
      "cell_type": "markdown",
      "source": [
        "pyTorch intro"
      ],
      "metadata": {
        "id": "l48euTLa7IjC"
      }
    },
    {
      "cell_type": "code",
      "source": [
        "import torch\n",
        "import pandas as pd\n",
        "import matplotlib.pyplot as plt\n",
        "import numpy as np\n",
        "\n",
        "print(torch.__version__)"
      ],
      "metadata": {
        "colab": {
          "base_uri": "https://localhost:8080/"
        },
        "id": "u7AkQqy57OhP",
        "outputId": "97342368-447e-4ab1-ff77-d990f77bf2d1"
      },
      "execution_count": 52,
      "outputs": [
        {
          "output_type": "stream",
          "name": "stdout",
          "text": [
            "2.0.1+cu118\n"
          ]
        }
      ]
    },
    {
      "cell_type": "markdown",
      "source": [
        "Introduction to Tensors:"
      ],
      "metadata": {
        "id": "ivmEgReu8yER"
      }
    },
    {
      "cell_type": "markdown",
      "source": [
        "Creating Tensors"
      ],
      "metadata": {
        "id": "icqD-TuO9EFe"
      }
    },
    {
      "cell_type": "code",
      "source": [
        "# scalar\n",
        "\n",
        "scalar= torch.tensor(7)\n",
        "scalar"
      ],
      "metadata": {
        "colab": {
          "base_uri": "https://localhost:8080/"
        },
        "id": "4agoO1wK9MQM",
        "outputId": "4113313a-dcef-4d82-85a0-bc9a8b4786d9"
      },
      "execution_count": 53,
      "outputs": [
        {
          "output_type": "execute_result",
          "data": {
            "text/plain": [
              "tensor(7)"
            ]
          },
          "metadata": {},
          "execution_count": 53
        }
      ]
    },
    {
      "cell_type": "code",
      "source": [
        "scalar.ndim"
      ],
      "metadata": {
        "colab": {
          "base_uri": "https://localhost:8080/"
        },
        "id": "OXxaLWUN-5mw",
        "outputId": "b671663a-b9e6-425f-8bd6-71ca9d52b7bc"
      },
      "execution_count": 54,
      "outputs": [
        {
          "output_type": "execute_result",
          "data": {
            "text/plain": [
              "0"
            ]
          },
          "metadata": {},
          "execution_count": 54
        }
      ]
    },
    {
      "cell_type": "code",
      "source": [
        "scalar.item()"
      ],
      "metadata": {
        "colab": {
          "base_uri": "https://localhost:8080/"
        },
        "id": "78z8XtGM_QIN",
        "outputId": "d0e55a6d-7038-46ac-d9cc-076e6e28a83e"
      },
      "execution_count": 55,
      "outputs": [
        {
          "output_type": "execute_result",
          "data": {
            "text/plain": [
              "7"
            ]
          },
          "metadata": {},
          "execution_count": 55
        }
      ]
    },
    {
      "cell_type": "code",
      "source": [
        "#vector\n",
        "\n",
        "vector= torch.tensor([7, 7])\n",
        "vector"
      ],
      "metadata": {
        "colab": {
          "base_uri": "https://localhost:8080/"
        },
        "id": "eQInpGyz_ZwI",
        "outputId": "4599985f-a624-413e-d5a0-43f5d813da08"
      },
      "execution_count": 56,
      "outputs": [
        {
          "output_type": "execute_result",
          "data": {
            "text/plain": [
              "tensor([7, 7])"
            ]
          },
          "metadata": {},
          "execution_count": 56
        }
      ]
    },
    {
      "cell_type": "code",
      "source": [
        "vector.ndim"
      ],
      "metadata": {
        "colab": {
          "base_uri": "https://localhost:8080/"
        },
        "id": "6ANGQnOO_3Kr",
        "outputId": "a5bd4dfb-5742-491f-c186-917331ca4424"
      },
      "execution_count": 57,
      "outputs": [
        {
          "output_type": "execute_result",
          "data": {
            "text/plain": [
              "1"
            ]
          },
          "metadata": {},
          "execution_count": 57
        }
      ]
    },
    {
      "cell_type": "code",
      "source": [
        "vector.shape"
      ],
      "metadata": {
        "colab": {
          "base_uri": "https://localhost:8080/"
        },
        "id": "XVuY6wPSADjq",
        "outputId": "ffaef806-c6be-48a5-e040-99bc28f8e470"
      },
      "execution_count": 58,
      "outputs": [
        {
          "output_type": "execute_result",
          "data": {
            "text/plain": [
              "torch.Size([2])"
            ]
          },
          "metadata": {},
          "execution_count": 58
        }
      ]
    },
    {
      "cell_type": "code",
      "source": [
        "#MATRIX\n",
        "MATRIX = torch.tensor([[8 , 0],\n",
        "                      [7, 9]])\n",
        "\n",
        "MATRIX\n"
      ],
      "metadata": {
        "colab": {
          "base_uri": "https://localhost:8080/"
        },
        "id": "sru8CQSMALTB",
        "outputId": "3702ddb0-5e2c-4ace-f394-626b148ac60d"
      },
      "execution_count": 59,
      "outputs": [
        {
          "output_type": "execute_result",
          "data": {
            "text/plain": [
              "tensor([[8, 0],\n",
              "        [7, 9]])"
            ]
          },
          "metadata": {},
          "execution_count": 59
        }
      ]
    },
    {
      "cell_type": "code",
      "source": [
        "MATRIX.ndim"
      ],
      "metadata": {
        "colab": {
          "base_uri": "https://localhost:8080/"
        },
        "id": "2NUkdFigAqSD",
        "outputId": "4fc5e01d-e1a8-43bb-e8b6-8777e950807b"
      },
      "execution_count": 60,
      "outputs": [
        {
          "output_type": "execute_result",
          "data": {
            "text/plain": [
              "2"
            ]
          },
          "metadata": {},
          "execution_count": 60
        }
      ]
    },
    {
      "cell_type": "code",
      "source": [
        "MATRIX[0]"
      ],
      "metadata": {
        "colab": {
          "base_uri": "https://localhost:8080/"
        },
        "id": "6kPDSnqDAvxK",
        "outputId": "6773f754-ff7f-4fb8-b2b7-e66f049a331d"
      },
      "execution_count": 61,
      "outputs": [
        {
          "output_type": "execute_result",
          "data": {
            "text/plain": [
              "tensor([8, 0])"
            ]
          },
          "metadata": {},
          "execution_count": 61
        }
      ]
    },
    {
      "cell_type": "code",
      "source": [
        "MATRIX.shape"
      ],
      "metadata": {
        "colab": {
          "base_uri": "https://localhost:8080/"
        },
        "id": "69cRLFgLA2bf",
        "outputId": "4ad16c21-20e3-4660-d35b-108d31e319db"
      },
      "execution_count": 62,
      "outputs": [
        {
          "output_type": "execute_result",
          "data": {
            "text/plain": [
              "torch.Size([2, 2])"
            ]
          },
          "metadata": {},
          "execution_count": 62
        }
      ]
    },
    {
      "cell_type": "code",
      "source": [
        "#TENSOR\n",
        "TENSOR = torch.tensor([[[5, 9 ,7],\n",
        "                        [7, 8, 0],\n",
        "                        [8, 9, 9]]])\n",
        "\n",
        "TENSOR"
      ],
      "metadata": {
        "colab": {
          "base_uri": "https://localhost:8080/"
        },
        "id": "xfNSXLI9A-Io",
        "outputId": "48d480c3-a15c-41c7-b180-878d75c2fa1f"
      },
      "execution_count": 63,
      "outputs": [
        {
          "output_type": "execute_result",
          "data": {
            "text/plain": [
              "tensor([[[5, 9, 7],\n",
              "         [7, 8, 0],\n",
              "         [8, 9, 9]]])"
            ]
          },
          "metadata": {},
          "execution_count": 63
        }
      ]
    },
    {
      "cell_type": "code",
      "source": [
        "TENSOR.ndim"
      ],
      "metadata": {
        "colab": {
          "base_uri": "https://localhost:8080/"
        },
        "id": "pDE7ubJiBhjX",
        "outputId": "d683301e-a956-43c8-96e7-bc1933f7ecc2"
      },
      "execution_count": 64,
      "outputs": [
        {
          "output_type": "execute_result",
          "data": {
            "text/plain": [
              "3"
            ]
          },
          "metadata": {},
          "execution_count": 64
        }
      ]
    },
    {
      "cell_type": "code",
      "source": [
        "TENSOR.shape"
      ],
      "metadata": {
        "colab": {
          "base_uri": "https://localhost:8080/"
        },
        "id": "Yj24sV3TBu1Y",
        "outputId": "8ef7280d-7a13-4077-dcf1-407f154b3174"
      },
      "execution_count": 65,
      "outputs": [
        {
          "output_type": "execute_result",
          "data": {
            "text/plain": [
              "torch.Size([1, 3, 3])"
            ]
          },
          "metadata": {},
          "execution_count": 65
        }
      ]
    },
    {
      "cell_type": "markdown",
      "source": [
        "Random Tensors\n",
        "\n",
        "'start with random numbers -> look at data->update random numbers -> look at data- update random numbers"
      ],
      "metadata": {
        "id": "j7lc-FP7FnrH"
      }
    },
    {
      "cell_type": "code",
      "source": [
        "# create a random tensor\n",
        "\n",
        "random_tensor = torch.rand(7, 7)\n",
        "random_tensor"
      ],
      "metadata": {
        "colab": {
          "base_uri": "https://localhost:8080/"
        },
        "id": "aLeSmdI9FrFY",
        "outputId": "b76588bc-3656-481b-9d9c-15bb13c33e51"
      },
      "execution_count": 66,
      "outputs": [
        {
          "output_type": "execute_result",
          "data": {
            "text/plain": [
              "tensor([[0.5054, 0.4855, 0.3359, 0.1059, 0.2322, 0.0397, 0.3210],\n",
              "        [0.6332, 0.3999, 0.2544, 0.9005, 0.8989, 0.9587, 0.2513],\n",
              "        [0.6976, 0.0332, 0.3220, 0.5859, 0.4047, 0.0819, 0.9393],\n",
              "        [0.4322, 0.9097, 0.6155, 0.9280, 0.9198, 0.8400, 0.1758],\n",
              "        [0.7802, 0.1186, 0.7868, 0.9983, 0.6354, 0.5919, 0.3314],\n",
              "        [0.8396, 0.2286, 0.6314, 0.1856, 0.5689, 0.4987, 0.2083],\n",
              "        [0.0387, 0.6147, 0.3509, 0.2345, 0.0324, 0.9556, 0.1198]])"
            ]
          },
          "metadata": {},
          "execution_count": 66
        }
      ]
    },
    {
      "cell_type": "code",
      "source": [
        "random_tensor.ndim"
      ],
      "metadata": {
        "colab": {
          "base_uri": "https://localhost:8080/"
        },
        "id": "kCUVU8-EHDT0",
        "outputId": "d2457ab3-59f4-44ef-c8f9-b856f06e4ed9"
      },
      "execution_count": 67,
      "outputs": [
        {
          "output_type": "execute_result",
          "data": {
            "text/plain": [
              "2"
            ]
          },
          "metadata": {},
          "execution_count": 67
        }
      ]
    },
    {
      "cell_type": "code",
      "source": [
        "#create a random tensor with similar shape to an image tensor\n",
        "\n",
        "random_image_size_tensor= torch.rand(size =(222,223, 8))#height, width,color channel\n",
        "random_image_size_tensor.shape , random_image_size_tensor.ndim"
      ],
      "metadata": {
        "colab": {
          "base_uri": "https://localhost:8080/"
        },
        "id": "Uma53_K7HRMB",
        "outputId": "61995cd2-09e2-4988-9c8a-9e3ecc99d5c6"
      },
      "execution_count": 68,
      "outputs": [
        {
          "output_type": "execute_result",
          "data": {
            "text/plain": [
              "(torch.Size([222, 223, 8]), 3)"
            ]
          },
          "metadata": {},
          "execution_count": 68
        }
      ]
    },
    {
      "cell_type": "code",
      "source": [
        "random_image_size_tensor"
      ],
      "metadata": {
        "colab": {
          "base_uri": "https://localhost:8080/"
        },
        "id": "FFALX49jH8EV",
        "outputId": "7ad1c145-6c94-4498-9361-9aba1b54c621"
      },
      "execution_count": 69,
      "outputs": [
        {
          "output_type": "execute_result",
          "data": {
            "text/plain": [
              "tensor([[[0.9247, 0.0883, 0.7054,  ..., 0.1606, 0.6829, 0.3264],\n",
              "         [0.4324, 0.4954, 0.5890,  ..., 0.6081, 0.2105, 0.0501],\n",
              "         [0.9749, 0.3181, 0.2030,  ..., 0.1060, 0.5420, 0.5137],\n",
              "         ...,\n",
              "         [0.0397, 0.6865, 0.1200,  ..., 0.1122, 0.1850, 0.9912],\n",
              "         [0.0685, 0.3535, 0.3672,  ..., 0.2338, 0.7852, 0.9629],\n",
              "         [0.0152, 0.6124, 0.6980,  ..., 0.2143, 0.0706, 0.5554]],\n",
              "\n",
              "        [[0.5517, 0.5852, 0.5777,  ..., 0.9564, 0.9864, 0.3880],\n",
              "         [0.8660, 0.2576, 0.5356,  ..., 0.3357, 0.9225, 0.5887],\n",
              "         [0.0669, 0.5661, 0.8964,  ..., 0.7709, 0.3521, 0.5678],\n",
              "         ...,\n",
              "         [0.2915, 0.8658, 0.3757,  ..., 0.1573, 0.8299, 0.9389],\n",
              "         [0.6610, 0.2312, 0.1153,  ..., 0.3874, 0.4174, 0.2238],\n",
              "         [0.8854, 0.2326, 0.1714,  ..., 0.7737, 0.3635, 0.2381]],\n",
              "\n",
              "        [[0.3144, 0.9329, 0.1237,  ..., 0.7843, 0.1547, 0.9094],\n",
              "         [0.7505, 0.6856, 0.4686,  ..., 0.8878, 0.5844, 0.6234],\n",
              "         [0.5407, 0.3106, 0.2983,  ..., 0.2146, 0.9933, 0.1715],\n",
              "         ...,\n",
              "         [0.7010, 0.4161, 0.6933,  ..., 0.8000, 0.9019, 0.3456],\n",
              "         [0.0364, 0.1029, 0.9843,  ..., 0.7037, 0.8233, 0.0539],\n",
              "         [0.6423, 0.3269, 0.1828,  ..., 0.2156, 0.3780, 0.3089]],\n",
              "\n",
              "        ...,\n",
              "\n",
              "        [[0.1705, 0.8807, 0.8019,  ..., 0.6752, 0.9400, 0.4176],\n",
              "         [0.8918, 0.4308, 0.4907,  ..., 0.7854, 0.8467, 0.5606],\n",
              "         [0.8786, 0.3289, 0.5035,  ..., 0.8871, 0.9480, 0.7183],\n",
              "         ...,\n",
              "         [0.7189, 0.7063, 0.9406,  ..., 0.4564, 0.1097, 0.3796],\n",
              "         [0.5048, 0.9104, 0.9082,  ..., 0.7981, 0.3879, 0.5636],\n",
              "         [0.7525, 0.3222, 0.7825,  ..., 0.6498, 0.9805, 0.2117]],\n",
              "\n",
              "        [[0.6446, 0.8520, 0.2586,  ..., 0.1680, 0.0158, 0.3216],\n",
              "         [0.7021, 0.1116, 0.3182,  ..., 0.5885, 0.2250, 0.6661],\n",
              "         [0.2596, 0.4730, 0.1033,  ..., 0.4445, 0.3495, 0.8621],\n",
              "         ...,\n",
              "         [0.1036, 0.1385, 0.5337,  ..., 0.9812, 0.0924, 0.3324],\n",
              "         [0.2969, 0.4881, 0.0917,  ..., 0.0693, 0.8048, 0.9588],\n",
              "         [0.4602, 0.9302, 0.5572,  ..., 0.6338, 0.6104, 0.9204]],\n",
              "\n",
              "        [[0.2936, 0.8240, 0.6027,  ..., 0.1917, 0.5252, 0.5158],\n",
              "         [0.7377, 0.0261, 0.4504,  ..., 0.7808, 0.9743, 0.7487],\n",
              "         [0.6008, 0.4085, 0.2266,  ..., 0.0225, 0.3988, 0.8793],\n",
              "         ...,\n",
              "         [0.7611, 0.7721, 0.2848,  ..., 0.9635, 0.4584, 0.7390],\n",
              "         [0.6703, 0.2070, 0.6441,  ..., 0.9251, 0.1037, 0.4651],\n",
              "         [0.1615, 0.3956, 0.6003,  ..., 0.2077, 0.7585, 0.9573]]])"
            ]
          },
          "metadata": {},
          "execution_count": 69
        }
      ]
    },
    {
      "cell_type": "code",
      "source": [
        "#create a tensor of all zeros\n",
        "\n",
        "zeros = torch.zeros(size=(7, 7))\n",
        "zeros"
      ],
      "metadata": {
        "colab": {
          "base_uri": "https://localhost:8080/"
        },
        "id": "h3AbkgOlIMqg",
        "outputId": "02025592-bc08-4d3f-e07c-3c191cef1736"
      },
      "execution_count": 70,
      "outputs": [
        {
          "output_type": "execute_result",
          "data": {
            "text/plain": [
              "tensor([[0., 0., 0., 0., 0., 0., 0.],\n",
              "        [0., 0., 0., 0., 0., 0., 0.],\n",
              "        [0., 0., 0., 0., 0., 0., 0.],\n",
              "        [0., 0., 0., 0., 0., 0., 0.],\n",
              "        [0., 0., 0., 0., 0., 0., 0.],\n",
              "        [0., 0., 0., 0., 0., 0., 0.],\n",
              "        [0., 0., 0., 0., 0., 0., 0.]])"
            ]
          },
          "metadata": {},
          "execution_count": 70
        }
      ]
    },
    {
      "cell_type": "code",
      "source": [
        "#create a tensor of all ones\n",
        "\n",
        "ones= torch.ones(size=(3, 4))\n",
        "ones"
      ],
      "metadata": {
        "colab": {
          "base_uri": "https://localhost:8080/"
        },
        "id": "qriy4rHOI4Hb",
        "outputId": "73cfa609-2c58-491c-e3fc-4ef139616455"
      },
      "execution_count": 71,
      "outputs": [
        {
          "output_type": "execute_result",
          "data": {
            "text/plain": [
              "tensor([[1., 1., 1., 1.],\n",
              "        [1., 1., 1., 1.],\n",
              "        [1., 1., 1., 1.]])"
            ]
          },
          "metadata": {},
          "execution_count": 71
        }
      ]
    },
    {
      "cell_type": "code",
      "source": [
        "#use torch.range\n",
        "torch.range(0, 10)"
      ],
      "metadata": {
        "colab": {
          "base_uri": "https://localhost:8080/"
        },
        "id": "UVo3AU_gJkM5",
        "outputId": "714307af-63ce-4fa2-dc5f-a43b15f3cd1f"
      },
      "execution_count": 72,
      "outputs": [
        {
          "output_type": "stream",
          "name": "stderr",
          "text": [
            "<ipython-input-72-a089c3bf7207>:2: UserWarning: torch.range is deprecated and will be removed in a future release because its behavior is inconsistent with Python's range builtin. Instead, use torch.arange, which produces values in [start, end).\n",
            "  torch.range(0, 10)\n"
          ]
        },
        {
          "output_type": "execute_result",
          "data": {
            "text/plain": [
              "tensor([ 0.,  1.,  2.,  3.,  4.,  5.,  6.,  7.,  8.,  9., 10.])"
            ]
          },
          "metadata": {},
          "execution_count": 72
        }
      ]
    },
    {
      "cell_type": "code",
      "source": [
        "one_to_ten= torch.arange(start=0, end= 10000, step=100)\n",
        "one_to_ten"
      ],
      "metadata": {
        "colab": {
          "base_uri": "https://localhost:8080/"
        },
        "id": "IVbC4HI5lez_",
        "outputId": "7381f9ec-824b-4b51-b655-771a7ae60fcf"
      },
      "execution_count": 73,
      "outputs": [
        {
          "output_type": "execute_result",
          "data": {
            "text/plain": [
              "tensor([   0,  100,  200,  300,  400,  500,  600,  700,  800,  900, 1000, 1100,\n",
              "        1200, 1300, 1400, 1500, 1600, 1700, 1800, 1900, 2000, 2100, 2200, 2300,\n",
              "        2400, 2500, 2600, 2700, 2800, 2900, 3000, 3100, 3200, 3300, 3400, 3500,\n",
              "        3600, 3700, 3800, 3900, 4000, 4100, 4200, 4300, 4400, 4500, 4600, 4700,\n",
              "        4800, 4900, 5000, 5100, 5200, 5300, 5400, 5500, 5600, 5700, 5800, 5900,\n",
              "        6000, 6100, 6200, 6300, 6400, 6500, 6600, 6700, 6800, 6900, 7000, 7100,\n",
              "        7200, 7300, 7400, 7500, 7600, 7700, 7800, 7900, 8000, 8100, 8200, 8300,\n",
              "        8400, 8500, 8600, 8700, 8800, 8900, 9000, 9100, 9200, 9300, 9400, 9500,\n",
              "        9600, 9700, 9800, 9900])"
            ]
          },
          "metadata": {},
          "execution_count": 73
        }
      ]
    },
    {
      "cell_type": "code",
      "source": [
        "#creating tensors like\n",
        "\n",
        "ten_zeros= torch.zeros_like(input=one_to_ten)\n",
        "ten_zeros"
      ],
      "metadata": {
        "colab": {
          "base_uri": "https://localhost:8080/"
        },
        "id": "-t320D_nxgMO",
        "outputId": "b43fd013-0905-4da2-f0c4-665492239dfc"
      },
      "execution_count": 74,
      "outputs": [
        {
          "output_type": "execute_result",
          "data": {
            "text/plain": [
              "tensor([0, 0, 0, 0, 0, 0, 0, 0, 0, 0, 0, 0, 0, 0, 0, 0, 0, 0, 0, 0, 0, 0, 0, 0,\n",
              "        0, 0, 0, 0, 0, 0, 0, 0, 0, 0, 0, 0, 0, 0, 0, 0, 0, 0, 0, 0, 0, 0, 0, 0,\n",
              "        0, 0, 0, 0, 0, 0, 0, 0, 0, 0, 0, 0, 0, 0, 0, 0, 0, 0, 0, 0, 0, 0, 0, 0,\n",
              "        0, 0, 0, 0, 0, 0, 0, 0, 0, 0, 0, 0, 0, 0, 0, 0, 0, 0, 0, 0, 0, 0, 0, 0,\n",
              "        0, 0, 0, 0])"
            ]
          },
          "metadata": {},
          "execution_count": 74
        }
      ]
    },
    {
      "cell_type": "markdown",
      "source": [
        "TENSOR DATATYPES\n",
        "\n",
        "Note ❎Tensor datatypes are one of the 3 big issues you will run into with PyTorch and deep learning\n",
        "\n",
        "1. Tensors not the right datatype\n",
        "2. Tensors not the right shape\n",
        "3. tensors not on the right devices"
      ],
      "metadata": {
        "id": "W1xhcBo0yFuK"
      }
    },
    {
      "cell_type": "code",
      "source": [
        "float_32_tensor= torch.tensor([3.0, 6.0, 7.0],\n",
        "                              dtype=torch.float32,\n",
        "                              device= None,\n",
        "                              requires_grad=False\n",
        "                              )\n",
        "\n",
        "float_32_tensor"
      ],
      "metadata": {
        "colab": {
          "base_uri": "https://localhost:8080/"
        },
        "id": "D-hfiKRNx91P",
        "outputId": "e22bd401-68fe-488d-f6ed-1df6d2484535"
      },
      "execution_count": 75,
      "outputs": [
        {
          "output_type": "execute_result",
          "data": {
            "text/plain": [
              "tensor([3., 6., 7.])"
            ]
          },
          "metadata": {},
          "execution_count": 75
        }
      ]
    },
    {
      "cell_type": "code",
      "source": [
        "float_16_tensor= float_32_tensor.type(torch.float16)\n",
        "float_16_tensor"
      ],
      "metadata": {
        "colab": {
          "base_uri": "https://localhost:8080/"
        },
        "id": "scN1o8iR3-h8",
        "outputId": "6bea490b-1a58-4abf-cb9a-d943fb5b00cf"
      },
      "execution_count": 76,
      "outputs": [
        {
          "output_type": "execute_result",
          "data": {
            "text/plain": [
              "tensor([3., 6., 7.], dtype=torch.float16)"
            ]
          },
          "metadata": {},
          "execution_count": 76
        }
      ]
    },
    {
      "cell_type": "code",
      "source": [
        "float_32_tensor*float_16_tensor"
      ],
      "metadata": {
        "colab": {
          "base_uri": "https://localhost:8080/"
        },
        "id": "PNEpA5Dv4TNb",
        "outputId": "8dd5f5a0-ffdf-40ba-82df-acc8c6dd9713"
      },
      "execution_count": 77,
      "outputs": [
        {
          "output_type": "execute_result",
          "data": {
            "text/plain": [
              "tensor([ 9., 36., 49.])"
            ]
          },
          "metadata": {},
          "execution_count": 77
        }
      ]
    },
    {
      "cell_type": "code",
      "source": [
        "int_32_tensor= torch.tensor([3, 6, 9],\n",
        "                            dtype= torch.long)\n",
        "int_32_tensor"
      ],
      "metadata": {
        "colab": {
          "base_uri": "https://localhost:8080/"
        },
        "id": "EMB17aRS4cYA",
        "outputId": "e44eb550-3bb8-4e89-dd4c-1bc26d53fa39"
      },
      "execution_count": 78,
      "outputs": [
        {
          "output_type": "execute_result",
          "data": {
            "text/plain": [
              "tensor([3, 6, 9])"
            ]
          },
          "metadata": {},
          "execution_count": 78
        }
      ]
    },
    {
      "cell_type": "code",
      "source": [
        "float_32_tensor*int_32_tensor"
      ],
      "metadata": {
        "colab": {
          "base_uri": "https://localhost:8080/"
        },
        "id": "3bg8rAy847kR",
        "outputId": "a3998e32-9b6e-4aa4-dc54-08dadb0b2675"
      },
      "execution_count": 79,
      "outputs": [
        {
          "output_type": "execute_result",
          "data": {
            "text/plain": [
              "tensor([ 9., 36., 63.])"
            ]
          },
          "metadata": {},
          "execution_count": 79
        }
      ]
    },
    {
      "cell_type": "code",
      "source": [
        "float_32_tensor.shape"
      ],
      "metadata": {
        "colab": {
          "base_uri": "https://localhost:8080/"
        },
        "id": "cvHKxIrW6A5Y",
        "outputId": "9b438620-e4e6-473c-806e-829ef2ebc90f"
      },
      "execution_count": 80,
      "outputs": [
        {
          "output_type": "execute_result",
          "data": {
            "text/plain": [
              "torch.Size([3])"
            ]
          },
          "metadata": {},
          "execution_count": 80
        }
      ]
    },
    {
      "cell_type": "markdown",
      "source": [
        "GETTING INFORMATION FROM TENSORS"
      ],
      "metadata": {
        "id": "tSnrSszpO2qq"
      }
    },
    {
      "cell_type": "code",
      "source": [
        "some_tensor= torch.rand(5, 7)\n",
        "some_tensor"
      ],
      "metadata": {
        "colab": {
          "base_uri": "https://localhost:8080/"
        },
        "id": "Lh0YhrHAOZd4",
        "outputId": "7be9764b-0161-418f-c2e9-30b840caae1a"
      },
      "execution_count": 81,
      "outputs": [
        {
          "output_type": "execute_result",
          "data": {
            "text/plain": [
              "tensor([[0.7799, 0.7949, 0.2040, 0.9860, 0.1874, 0.9595, 0.8192],\n",
              "        [0.0076, 0.4184, 0.1784, 0.4318, 0.1959, 0.2680, 0.0543],\n",
              "        [0.6932, 0.8864, 0.1083, 0.5740, 0.4398, 0.5184, 0.7587],\n",
              "        [0.1432, 0.8250, 0.9688, 0.2923, 0.6198, 0.3368, 0.8917],\n",
              "        [0.4138, 0.6851, 0.8725, 0.9201, 0.3806, 0.0110, 0.4440]])"
            ]
          },
          "metadata": {},
          "execution_count": 81
        }
      ]
    },
    {
      "cell_type": "code",
      "source": [
        "print(some_tensor)\n",
        "print(f\"Datatype is {some_tensor.dtype}\"  )\n",
        "print(f\"shape is {some_tensor.shape}\" )\n",
        "print(f\"device is {some_tensor.device}\" )\n",
        "\n"
      ],
      "metadata": {
        "colab": {
          "base_uri": "https://localhost:8080/"
        },
        "id": "hG8GCW2TPUV9",
        "outputId": "478dfdd6-9b55-4a61-fcd6-0c07cdecd4de"
      },
      "execution_count": 82,
      "outputs": [
        {
          "output_type": "stream",
          "name": "stdout",
          "text": [
            "tensor([[0.7799, 0.7949, 0.2040, 0.9860, 0.1874, 0.9595, 0.8192],\n",
            "        [0.0076, 0.4184, 0.1784, 0.4318, 0.1959, 0.2680, 0.0543],\n",
            "        [0.6932, 0.8864, 0.1083, 0.5740, 0.4398, 0.5184, 0.7587],\n",
            "        [0.1432, 0.8250, 0.9688, 0.2923, 0.6198, 0.3368, 0.8917],\n",
            "        [0.4138, 0.6851, 0.8725, 0.9201, 0.3806, 0.0110, 0.4440]])\n",
            "Datatype is torch.float32\n",
            "shape is torch.Size([5, 7])\n",
            "device is cpu\n"
          ]
        }
      ]
    },
    {
      "cell_type": "markdown",
      "source": [
        "MANIPULATING TENSORS\n",
        "\n",
        "one can multiply\n",
        "divide\n",
        "add\n",
        "subtract\n",
        "matrix multiplication"
      ],
      "metadata": {
        "id": "U8HR6TTmSScP"
      }
    },
    {
      "cell_type": "code",
      "source": [
        "#create tensor\n",
        "\n",
        "tensor= torch.tensor([7, 7, 8])\n",
        "tensor+ 100"
      ],
      "metadata": {
        "colab": {
          "base_uri": "https://localhost:8080/"
        },
        "id": "zePa3kGeQgrI",
        "outputId": "519cb74f-3547-4f9d-a5ce-9704d7b8b712"
      },
      "execution_count": 83,
      "outputs": [
        {
          "output_type": "execute_result",
          "data": {
            "text/plain": [
              "tensor([107, 107, 108])"
            ]
          },
          "metadata": {},
          "execution_count": 83
        }
      ]
    },
    {
      "cell_type": "code",
      "source": [
        "tensor + 10"
      ],
      "metadata": {
        "colab": {
          "base_uri": "https://localhost:8080/"
        },
        "id": "1fzuMdIXQRMe",
        "outputId": "65fbe02c-78f7-49f5-dccd-e25ec54a30ee"
      },
      "execution_count": 84,
      "outputs": [
        {
          "output_type": "execute_result",
          "data": {
            "text/plain": [
              "tensor([17, 17, 18])"
            ]
          },
          "metadata": {},
          "execution_count": 84
        }
      ]
    },
    {
      "cell_type": "code",
      "source": [
        "tensor/2"
      ],
      "metadata": {
        "colab": {
          "base_uri": "https://localhost:8080/"
        },
        "id": "BYUv9c8DTDKv",
        "outputId": "64fcb5d3-9cf5-4ca9-81ed-284b1a44504c"
      },
      "execution_count": 85,
      "outputs": [
        {
          "output_type": "execute_result",
          "data": {
            "text/plain": [
              "tensor([3.5000, 3.5000, 4.0000])"
            ]
          },
          "metadata": {},
          "execution_count": 85
        }
      ]
    },
    {
      "cell_type": "code",
      "source": [
        "tensor- 10"
      ],
      "metadata": {
        "colab": {
          "base_uri": "https://localhost:8080/"
        },
        "id": "ZWS_H7U6TIVl",
        "outputId": "f6aa198c-6807-47a9-ad27-ff444053cfc4"
      },
      "execution_count": 86,
      "outputs": [
        {
          "output_type": "execute_result",
          "data": {
            "text/plain": [
              "tensor([-3, -3, -2])"
            ]
          },
          "metadata": {},
          "execution_count": 86
        }
      ]
    },
    {
      "cell_type": "code",
      "source": [
        "# using pytorch in built functions\n",
        "\n",
        "print(torch.add(tensor, 20))\n",
        "print(torch.mul(tensor, 2))\n",
        "print(torch.sub(tensor, 2))\n",
        "print(torch.div(tensor, 7))"
      ],
      "metadata": {
        "colab": {
          "base_uri": "https://localhost:8080/"
        },
        "id": "r-jEVuOdTNtX",
        "outputId": "ce962c42-bcca-4a13-f083-fc2fb7c77c9c"
      },
      "execution_count": 87,
      "outputs": [
        {
          "output_type": "stream",
          "name": "stdout",
          "text": [
            "tensor([27, 27, 28])\n",
            "tensor([14, 14, 16])\n",
            "tensor([5, 5, 6])\n",
            "tensor([1.0000, 1.0000, 1.1429])\n"
          ]
        }
      ]
    },
    {
      "cell_type": "code",
      "source": [
        "#MATRIX MULTIPLICATION/ dot product\n",
        "print(tensor , \"*\", tensor)\n",
        "print(f\"equals: {tensor*tensor}\")\n"
      ],
      "metadata": {
        "id": "dcTTUOOxTmf9",
        "colab": {
          "base_uri": "https://localhost:8080/"
        },
        "outputId": "b1cb7016-aa26-4888-9b54-0f7728998c3b"
      },
      "execution_count": 88,
      "outputs": [
        {
          "output_type": "stream",
          "name": "stdout",
          "text": [
            "tensor([7, 7, 8]) * tensor([7, 7, 8])\n",
            "equals: tensor([49, 49, 64])\n"
          ]
        }
      ]
    },
    {
      "cell_type": "code",
      "source": [
        "torch.matmul(tensor, tensor)"
      ],
      "metadata": {
        "colab": {
          "base_uri": "https://localhost:8080/"
        },
        "id": "XDExtJcbW_re",
        "outputId": "799e2e6e-e88d-4be2-f685-e029196fd812"
      },
      "execution_count": 89,
      "outputs": [
        {
          "output_type": "execute_result",
          "data": {
            "text/plain": [
              "tensor(162)"
            ]
          },
          "metadata": {},
          "execution_count": 89
        }
      ]
    },
    {
      "cell_type": "markdown",
      "source": [
        "One of the most common errors in deep learning: shape errors"
      ],
      "metadata": {
        "id": "CgW_PxkfbiOe"
      }
    },
    {
      "cell_type": "code",
      "source": [
        "#Shapes for matrix multiplication\n",
        "tensor_A= torch.tensor([[1,4],\n",
        "                       [7,7],\n",
        "                       [8,9]])\n",
        "\n",
        "tensor_B= torch.tensor([[1,8],\n",
        "                        [8,0],\n",
        "                        [9,8]])\n",
        "\n",
        "torch.mm(tensor_A,tensor_B)"
      ],
      "metadata": {
        "colab": {
          "base_uri": "https://localhost:8080/",
          "height": 200
        },
        "id": "xiBYOAXVXKrf",
        "outputId": "0b1bd25d-86a1-4e0b-912c-2cd53c10f251"
      },
      "execution_count": 90,
      "outputs": [
        {
          "output_type": "error",
          "ename": "RuntimeError",
          "evalue": "ignored",
          "traceback": [
            "\u001b[0;31m---------------------------------------------------------------------------\u001b[0m",
            "\u001b[0;31mRuntimeError\u001b[0m                              Traceback (most recent call last)",
            "\u001b[0;32m<ipython-input-90-7afecf4259d7>\u001b[0m in \u001b[0;36m<cell line: 10>\u001b[0;34m()\u001b[0m\n\u001b[1;32m      8\u001b[0m                         [9,8]])\n\u001b[1;32m      9\u001b[0m \u001b[0;34m\u001b[0m\u001b[0m\n\u001b[0;32m---> 10\u001b[0;31m \u001b[0mtorch\u001b[0m\u001b[0;34m.\u001b[0m\u001b[0mmm\u001b[0m\u001b[0;34m(\u001b[0m\u001b[0mtensor_A\u001b[0m\u001b[0;34m,\u001b[0m\u001b[0mtensor_B\u001b[0m\u001b[0;34m)\u001b[0m\u001b[0;34m\u001b[0m\u001b[0;34m\u001b[0m\u001b[0m\n\u001b[0m",
            "\u001b[0;31mRuntimeError\u001b[0m: mat1 and mat2 shapes cannot be multiplied (3x2 and 3x2)"
          ]
        }
      ]
    },
    {
      "cell_type": "code",
      "source": [
        "tensor_B.shape , tensor_A.shape"
      ],
      "metadata": {
        "colab": {
          "base_uri": "https://localhost:8080/"
        },
        "id": "UonhJp2vcqPv",
        "outputId": "53ef0163-b3c3-4a96-ed74-bc9b82a7d26b"
      },
      "execution_count": 91,
      "outputs": [
        {
          "output_type": "execute_result",
          "data": {
            "text/plain": [
              "(torch.Size([3, 2]), torch.Size([3, 2]))"
            ]
          },
          "metadata": {},
          "execution_count": 91
        }
      ]
    },
    {
      "cell_type": "markdown",
      "source": [
        "to fix the shape issues , we can multiply the shape of one of our tensors using a **transpose**\n",
        "\n",
        "**Transpose **switches axis of one the tensors"
      ],
      "metadata": {
        "id": "SpoPeomac7yt"
      }
    },
    {
      "cell_type": "code",
      "source": [
        "tensor_A.T"
      ],
      "metadata": {
        "colab": {
          "base_uri": "https://localhost:8080/"
        },
        "id": "V7akRqNNc3Xn",
        "outputId": "b5f83a1b-c4e7-4719-b43e-e7d9b9a84cd2"
      },
      "execution_count": 92,
      "outputs": [
        {
          "output_type": "execute_result",
          "data": {
            "text/plain": [
              "tensor([[1, 7, 8],\n",
              "        [4, 7, 9]])"
            ]
          },
          "metadata": {},
          "execution_count": 92
        }
      ]
    },
    {
      "cell_type": "code",
      "source": [
        "torch.mm(tensor_A.T, tensor_B)"
      ],
      "metadata": {
        "colab": {
          "base_uri": "https://localhost:8080/"
        },
        "id": "coi-PW2Mde98",
        "outputId": "419e3542-ee60-48bc-b533-663b1571dad6"
      },
      "execution_count": 93,
      "outputs": [
        {
          "output_type": "execute_result",
          "data": {
            "text/plain": [
              "tensor([[129,  72],\n",
              "        [141, 104]])"
            ]
          },
          "metadata": {},
          "execution_count": 93
        }
      ]
    },
    {
      "cell_type": "code",
      "source": [
        "tensor_C=(tensor_B.T)\n",
        "tensor_C.shape"
      ],
      "metadata": {
        "colab": {
          "base_uri": "https://localhost:8080/"
        },
        "id": "DyLDAjLld4-q",
        "outputId": "9a354fa9-3cf0-4fad-9268-4358735c2069"
      },
      "execution_count": 94,
      "outputs": [
        {
          "output_type": "execute_result",
          "data": {
            "text/plain": [
              "torch.Size([2, 3])"
            ]
          },
          "metadata": {},
          "execution_count": 94
        }
      ]
    },
    {
      "cell_type": "markdown",
      "source": [
        "TENSOR AGGREGATION"
      ],
      "metadata": {
        "id": "y7YpO5o8R1le"
      }
    },
    {
      "cell_type": "code",
      "source": [
        "x=torch.arange(0, 1000, 100)\n",
        "x"
      ],
      "metadata": {
        "colab": {
          "base_uri": "https://localhost:8080/"
        },
        "id": "Hir1dkqjRzKA",
        "outputId": "89c0ddbb-e2e5-440c-b5e2-a77042d451a8"
      },
      "execution_count": 95,
      "outputs": [
        {
          "output_type": "execute_result",
          "data": {
            "text/plain": [
              "tensor([  0, 100, 200, 300, 400, 500, 600, 700, 800, 900])"
            ]
          },
          "metadata": {},
          "execution_count": 95
        }
      ]
    },
    {
      "cell_type": "code",
      "source": [
        "torch.min(x)\n",
        "x.min()"
      ],
      "metadata": {
        "colab": {
          "base_uri": "https://localhost:8080/"
        },
        "id": "aZKul-Y-vbTk",
        "outputId": "3e5981a2-b95e-4ea0-d8ec-6492ac32e93a"
      },
      "execution_count": 96,
      "outputs": [
        {
          "output_type": "execute_result",
          "data": {
            "text/plain": [
              "tensor(0)"
            ]
          },
          "metadata": {},
          "execution_count": 96
        }
      ]
    },
    {
      "cell_type": "code",
      "source": [
        "x.max()"
      ],
      "metadata": {
        "colab": {
          "base_uri": "https://localhost:8080/"
        },
        "id": "0vZtQHMxvp7N",
        "outputId": "4f54a23a-d74e-42f0-c155-22d52799f6af"
      },
      "execution_count": 100,
      "outputs": [
        {
          "output_type": "execute_result",
          "data": {
            "text/plain": [
              "tensor(900)"
            ]
          },
          "metadata": {},
          "execution_count": 100
        }
      ]
    },
    {
      "cell_type": "code",
      "source": [
        "torch.mean(x.type(torch.float32))\n",
        "x.type(torch.float32).mean()"
      ],
      "metadata": {
        "colab": {
          "base_uri": "https://localhost:8080/"
        },
        "id": "UyqpoHnnvuL5",
        "outputId": "c758806f-4dd3-4fa7-8aef-b2f9a58c18bd"
      },
      "execution_count": 97,
      "outputs": [
        {
          "output_type": "execute_result",
          "data": {
            "text/plain": [
              "tensor(450.)"
            ]
          },
          "metadata": {},
          "execution_count": 97
        }
      ]
    },
    {
      "cell_type": "code",
      "source": [
        "x.sum()"
      ],
      "metadata": {
        "colab": {
          "base_uri": "https://localhost:8080/"
        },
        "id": "luFLxFf3z8qR",
        "outputId": "0ce440ba-d432-401e-9861-a0e5829f52b4"
      },
      "execution_count": 99,
      "outputs": [
        {
          "output_type": "execute_result",
          "data": {
            "text/plain": [
              "tensor(4500)"
            ]
          },
          "metadata": {},
          "execution_count": 99
        }
      ]
    },
    {
      "cell_type": "code",
      "source": [
        " x.argmin()"
      ],
      "metadata": {
        "colab": {
          "base_uri": "https://localhost:8080/"
        },
        "id": "7m_bEBYr0Bxv",
        "outputId": "3bafb8c8-5437-4e8a-f183-915f3843676f"
      },
      "execution_count": 98,
      "outputs": [
        {
          "output_type": "execute_result",
          "data": {
            "text/plain": [
              "tensor(0)"
            ]
          },
          "metadata": {},
          "execution_count": 98
        }
      ]
    },
    {
      "cell_type": "code",
      "source": [
        "x.argmax()"
      ],
      "metadata": {
        "colab": {
          "base_uri": "https://localhost:8080/"
        },
        "id": "O03ln3wM1424",
        "outputId": "44676e9f-5d08-462e-9bf4-9f8fb8de154d"
      },
      "execution_count": 101,
      "outputs": [
        {
          "output_type": "execute_result",
          "data": {
            "text/plain": [
              "tensor(9)"
            ]
          },
          "metadata": {},
          "execution_count": 101
        }
      ]
    },
    {
      "cell_type": "markdown",
      "source": [
        "\n",
        "RESHAPING, STACKING, SQUEEZING & UNSQUEEZING TENSORS\n",
        "> Reshaping:\n",
        "Reshaping refers to changing the shape of a tensor while preserving the total number of elements. It allows you to reorganize the dimensions of a tensor. For example, you can reshape a 2D tensor into a 1D tensor or vice versa. Reshaping is commonly used when the input shape of a layer in a neural network does not match the desired shape, and you need to reshape the tensor to fit the layer's requirements.\n",
        "\n",
        "Stacking:\n",
        "Stacking involves combining multiple tensors along a new dimension. It is used to concatenate tensors together. For example, if you have two tensors of shape (3, 4) and you stack them along a new dimension, the resulting tensor will have the shape (2, 3, 4). Stacking is commonly used when you want to combine multiple samples or batches of data together.\n",
        "\n",
        "Squeezing:\n",
        "Squeezing is the operation of removing dimensions or axes with a size of 1 from a tensor. It reduces the rank (number of dimensions) of the tensor. For example, if you have a tensor of shape (1, 3, 1, 5), squeezing it will remove the dimensions with size 1, resulting in a tensor of shape (3, 5). Squeezing is useful when you want to remove unnecessary singleton dimensions and simplify the tensor's shape.\n",
        "\n",
        "Unsqueezing:\n",
        "Unsqueezing is the opposite operation of squeezing. It adds dimensions with a size of 1 to a tensor, increasing its rank. Unsqueezing allows you to insert singleton dimensions to match the expected shape for certain operations. For example, unsqueezing a tensor of shape (3, 5) along dimension 0 will result in a tensor of shape (1, 3, 5). Unsqueezing is commonly used when you want to broadcast a tensor across another tensor with a different shape.\n",
        "\n"
      ],
      "metadata": {
        "id": "bF-8FtJNcITu"
      }
    },
    {
      "cell_type": "code",
      "source": [
        "#Create tensor\n",
        "\n",
        "y= torch.arange(1., 10.)\n",
        "y , y.shape"
      ],
      "metadata": {
        "id": "kTgPuC1k2YcY",
        "colab": {
          "base_uri": "https://localhost:8080/"
        },
        "outputId": "eb9cffda-08f4-4baa-dfdf-af8accfa5d44"
      },
      "execution_count": 102,
      "outputs": [
        {
          "output_type": "execute_result",
          "data": {
            "text/plain": [
              "(tensor([1., 2., 3., 4., 5., 6., 7., 8., 9.]), torch.Size([9]))"
            ]
          },
          "metadata": {},
          "execution_count": 102
        }
      ]
    },
    {
      "cell_type": "code",
      "source": [
        "y_reshaped= y.reshape(1, 9)\n",
        "y_reshaped , y_reshaped.shape"
      ],
      "metadata": {
        "colab": {
          "base_uri": "https://localhost:8080/"
        },
        "id": "U0LRy0wMdsfD",
        "outputId": "e6dbdfd0-714b-4998-b938-ad1b04640102"
      },
      "execution_count": 106,
      "outputs": [
        {
          "output_type": "execute_result",
          "data": {
            "text/plain": [
              "(tensor([[1., 2., 3., 4., 5., 6., 7., 8., 9.]]), torch.Size([1, 9]))"
            ]
          },
          "metadata": {},
          "execution_count": 106
        }
      ]
    },
    {
      "cell_type": "code",
      "source": [
        "z= y.view(1, 9)\n",
        "z , z.shape\n",
        "\n",
        "#a view of a tensor shares the same memory with the original tensor"
      ],
      "metadata": {
        "colab": {
          "base_uri": "https://localhost:8080/"
        },
        "id": "llRLsHNSeW2g",
        "outputId": "27b80cd8-c489-4367-a4e6-34e759f2a4ed"
      },
      "execution_count": 107,
      "outputs": [
        {
          "output_type": "execute_result",
          "data": {
            "text/plain": [
              "(tensor([[1., 2., 3., 4., 5., 6., 7., 8., 9.]]), torch.Size([1, 9]))"
            ]
          },
          "metadata": {},
          "execution_count": 107
        }
      ]
    },
    {
      "cell_type": "code",
      "source": [
        "#stack tensors on top of each other\n",
        "\n",
        "y_stacked= torch.stack([y, y, y, y], dim=0)\n",
        "y_stacked"
      ],
      "metadata": {
        "colab": {
          "base_uri": "https://localhost:8080/"
        },
        "id": "QvY4o9j-e-cs",
        "outputId": "14564f91-26c2-404f-9023-daf0576f7c64"
      },
      "execution_count": 110,
      "outputs": [
        {
          "output_type": "execute_result",
          "data": {
            "text/plain": [
              "tensor([[1., 2., 3., 4., 5., 6., 7., 8., 9.],\n",
              "        [1., 2., 3., 4., 5., 6., 7., 8., 9.],\n",
              "        [1., 2., 3., 4., 5., 6., 7., 8., 9.],\n",
              "        [1., 2., 3., 4., 5., 6., 7., 8., 9.]])"
            ]
          },
          "metadata": {},
          "execution_count": 110
        }
      ]
    },
    {
      "cell_type": "code",
      "source": [
        "#Squeezing and unsqueezing\n",
        "print(f\"previous tensor {y_reshaped}\")\n",
        "print(f\"previous shape { y_reshaped.shape}\")\n",
        "print(f\"new tensor { y_reshaped.squeeze()}\")\n",
        "print(f\"{y_reshaped.squeeze().size()}\")\n",
        "print(f\"{y_reshaped.unsqueeze(dim=0)}\")"
      ],
      "metadata": {
        "colab": {
          "base_uri": "https://localhost:8080/"
        },
        "id": "Z07yHClNf-xb",
        "outputId": "bbf57ae8-f105-4ce8-a670-27e15c7ecb0a"
      },
      "execution_count": 115,
      "outputs": [
        {
          "output_type": "stream",
          "name": "stdout",
          "text": [
            "previous tensor tensor([[1., 2., 3., 4., 5., 6., 7., 8., 9.]])\n",
            "previous shape torch.Size([1, 9])\n",
            "new tensor tensor([1., 2., 3., 4., 5., 6., 7., 8., 9.])\n",
            "torch.Size([9])\n",
            "tensor([[[1., 2., 3., 4., 5., 6., 7., 8., 9.]]])\n"
          ]
        }
      ]
    },
    {
      "cell_type": "markdown",
      "source": [],
      "metadata": {
        "id": "IqlwIbotkR10"
      }
    },
    {
      "cell_type": "code",
      "source": [
        "#torch.permute returns a  view of the original tensor input with its dimensions permuted\n",
        "y_original = torch.rand(size=(224, 224, 3)) # height , width , colour channels\n",
        "\n",
        "#Permutation\n",
        "y_original_permuted= y_original.permute(2, 0, 1)#shifts axis 0-> 1, 1->2, 2->0\n",
        "\n",
        "print(f\"Previous shape {y_original.shape}\")\n",
        "print(f\"new shape {y_original_permuted.shape}\")"
      ],
      "metadata": {
        "colab": {
          "base_uri": "https://localhost:8080/"
        },
        "id": "rpKsP8zliXSO",
        "outputId": "36625530-fd06-437f-af39-d842ec5a8c41"
      },
      "execution_count": 117,
      "outputs": [
        {
          "output_type": "stream",
          "name": "stdout",
          "text": [
            "Previous shape torch.Size([224, 224, 3])\n",
            "new shape torch.Size([3, 224, 224])\n"
          ]
        }
      ]
    },
    {
      "cell_type": "code",
      "source": [],
      "metadata": {
        "id": "5r4Ska-Hkowf"
      },
      "execution_count": null,
      "outputs": []
    }
  ]
}