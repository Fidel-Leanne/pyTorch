{
  "nbformat": 4,
  "nbformat_minor": 0,
  "metadata": {
    "colab": {
      "provenance": [],
      "gpuType": "T4",
      "authorship_tag": "ABX9TyNvyc1GHkcqx2sNLuo9wEfu",
      "include_colab_link": true
    },
    "kernelspec": {
      "name": "python3",
      "display_name": "Python 3"
    },
    "language_info": {
      "name": "python"
    }
  },
  "cells": [
    {
      "cell_type": "markdown",
      "metadata": {
        "id": "view-in-github",
        "colab_type": "text"
      },
      "source": [
        "<a href=\"https://colab.research.google.com/github/Fidel-Leanne/pyTorch/blob/master/pyTorchFundamentals.ipynb\" target=\"_parent\"><img src=\"https://colab.research.google.com/assets/colab-badge.svg\" alt=\"Open In Colab\"/></a>"
      ]
    },
    {
      "cell_type": "markdown",
      "source": [
        "pyTorch intro"
      ],
      "metadata": {
        "id": "l48euTLa7IjC"
      }
    },
    {
      "cell_type": "code",
      "source": [
        "import torch\n",
        "import pandas as pd\n",
        "import matplotlib.pyplot as plt\n",
        "import numpy as np\n",
        "\n",
        "print(torch.__version__)"
      ],
      "metadata": {
        "colab": {
          "base_uri": "https://localhost:8080/"
        },
        "id": "u7AkQqy57OhP",
        "outputId": "f0f524d6-68c5-4baf-ed71-46d8a47ba313"
      },
      "execution_count": 1,
      "outputs": [
        {
          "output_type": "stream",
          "name": "stdout",
          "text": [
            "2.0.1+cu118\n"
          ]
        }
      ]
    },
    {
      "cell_type": "markdown",
      "source": [
        "Introduction to Tensors:"
      ],
      "metadata": {
        "id": "ivmEgReu8yER"
      }
    },
    {
      "cell_type": "markdown",
      "source": [
        "Creating Tensors"
      ],
      "metadata": {
        "id": "icqD-TuO9EFe"
      }
    },
    {
      "cell_type": "code",
      "source": [
        "# scalar\n",
        "\n",
        "scalar= torch.tensor(7)\n",
        "scalar"
      ],
      "metadata": {
        "colab": {
          "base_uri": "https://localhost:8080/"
        },
        "id": "4agoO1wK9MQM",
        "outputId": "3c2068b2-f0e2-4a41-ecc8-8584d02f5a63"
      },
      "execution_count": 2,
      "outputs": [
        {
          "output_type": "execute_result",
          "data": {
            "text/plain": [
              "tensor(7)"
            ]
          },
          "metadata": {},
          "execution_count": 2
        }
      ]
    },
    {
      "cell_type": "code",
      "source": [
        "scalar.ndim"
      ],
      "metadata": {
        "colab": {
          "base_uri": "https://localhost:8080/"
        },
        "id": "OXxaLWUN-5mw",
        "outputId": "0133b65e-d3e1-4ecc-f110-f3db1c6e4f90"
      },
      "execution_count": 3,
      "outputs": [
        {
          "output_type": "execute_result",
          "data": {
            "text/plain": [
              "0"
            ]
          },
          "metadata": {},
          "execution_count": 3
        }
      ]
    },
    {
      "cell_type": "code",
      "source": [
        "scalar.item()"
      ],
      "metadata": {
        "colab": {
          "base_uri": "https://localhost:8080/"
        },
        "id": "78z8XtGM_QIN",
        "outputId": "bd3a1359-fd26-40fb-b4f9-8479fabb6a0f"
      },
      "execution_count": 4,
      "outputs": [
        {
          "output_type": "execute_result",
          "data": {
            "text/plain": [
              "7"
            ]
          },
          "metadata": {},
          "execution_count": 4
        }
      ]
    },
    {
      "cell_type": "code",
      "source": [
        "#vector \n",
        "\n",
        "vector= torch.tensor([7, 7])\n",
        "vector"
      ],
      "metadata": {
        "colab": {
          "base_uri": "https://localhost:8080/"
        },
        "id": "eQInpGyz_ZwI",
        "outputId": "4eceef25-a96d-429d-9973-3faf2de2f985"
      },
      "execution_count": 5,
      "outputs": [
        {
          "output_type": "execute_result",
          "data": {
            "text/plain": [
              "tensor([7, 7])"
            ]
          },
          "metadata": {},
          "execution_count": 5
        }
      ]
    },
    {
      "cell_type": "code",
      "source": [
        "vector.ndim"
      ],
      "metadata": {
        "colab": {
          "base_uri": "https://localhost:8080/"
        },
        "id": "6ANGQnOO_3Kr",
        "outputId": "c28260e3-93c0-4920-a3e6-eb68b28dc2b2"
      },
      "execution_count": 6,
      "outputs": [
        {
          "output_type": "execute_result",
          "data": {
            "text/plain": [
              "1"
            ]
          },
          "metadata": {},
          "execution_count": 6
        }
      ]
    },
    {
      "cell_type": "code",
      "source": [
        "vector.shape"
      ],
      "metadata": {
        "colab": {
          "base_uri": "https://localhost:8080/"
        },
        "id": "XVuY6wPSADjq",
        "outputId": "e93142d5-40f7-4729-dc9b-a61ade5c05be"
      },
      "execution_count": 7,
      "outputs": [
        {
          "output_type": "execute_result",
          "data": {
            "text/plain": [
              "torch.Size([2])"
            ]
          },
          "metadata": {},
          "execution_count": 7
        }
      ]
    },
    {
      "cell_type": "code",
      "source": [
        "#MATRIX\n",
        "MATRIX = torch.tensor([[8 , 0],\n",
        "                      [7, 9]])\n",
        "\n",
        "MATRIX\n"
      ],
      "metadata": {
        "colab": {
          "base_uri": "https://localhost:8080/"
        },
        "id": "sru8CQSMALTB",
        "outputId": "85e39521-f52a-455f-a06d-13e778563736"
      },
      "execution_count": 8,
      "outputs": [
        {
          "output_type": "execute_result",
          "data": {
            "text/plain": [
              "tensor([[8, 0],\n",
              "        [7, 9]])"
            ]
          },
          "metadata": {},
          "execution_count": 8
        }
      ]
    },
    {
      "cell_type": "code",
      "source": [
        "MATRIX.ndim"
      ],
      "metadata": {
        "colab": {
          "base_uri": "https://localhost:8080/"
        },
        "id": "2NUkdFigAqSD",
        "outputId": "e7cb19eb-adb9-41e1-cbdc-c93ef782c1e3"
      },
      "execution_count": 9,
      "outputs": [
        {
          "output_type": "execute_result",
          "data": {
            "text/plain": [
              "2"
            ]
          },
          "metadata": {},
          "execution_count": 9
        }
      ]
    },
    {
      "cell_type": "code",
      "source": [
        "MATRIX[0]"
      ],
      "metadata": {
        "colab": {
          "base_uri": "https://localhost:8080/"
        },
        "id": "6kPDSnqDAvxK",
        "outputId": "87530e09-dd53-4b97-adeb-97b13bcd9064"
      },
      "execution_count": 10,
      "outputs": [
        {
          "output_type": "execute_result",
          "data": {
            "text/plain": [
              "tensor([8, 0])"
            ]
          },
          "metadata": {},
          "execution_count": 10
        }
      ]
    },
    {
      "cell_type": "code",
      "source": [
        "MATRIX.shape"
      ],
      "metadata": {
        "colab": {
          "base_uri": "https://localhost:8080/"
        },
        "id": "69cRLFgLA2bf",
        "outputId": "9a64af9b-5a8b-478f-d5b5-2f73af2c1e08"
      },
      "execution_count": 11,
      "outputs": [
        {
          "output_type": "execute_result",
          "data": {
            "text/plain": [
              "torch.Size([2, 2])"
            ]
          },
          "metadata": {},
          "execution_count": 11
        }
      ]
    },
    {
      "cell_type": "code",
      "source": [
        "#TENSOR\n",
        "TENSOR = torch.tensor([[[5, 9 ,7],\n",
        "                        [7, 8, 0],\n",
        "                        [8, 9, 9]]])\n",
        "\n",
        "TENSOR"
      ],
      "metadata": {
        "colab": {
          "base_uri": "https://localhost:8080/"
        },
        "id": "xfNSXLI9A-Io",
        "outputId": "3155291d-b9b7-4ff7-adf8-5b9e7b5d5f8f"
      },
      "execution_count": 12,
      "outputs": [
        {
          "output_type": "execute_result",
          "data": {
            "text/plain": [
              "tensor([[[5, 9, 7],\n",
              "         [7, 8, 0],\n",
              "         [8, 9, 9]]])"
            ]
          },
          "metadata": {},
          "execution_count": 12
        }
      ]
    },
    {
      "cell_type": "code",
      "source": [
        "TENSOR.ndim"
      ],
      "metadata": {
        "colab": {
          "base_uri": "https://localhost:8080/"
        },
        "id": "pDE7ubJiBhjX",
        "outputId": "33173d32-e68e-4763-c733-79f8faa0a47d"
      },
      "execution_count": 13,
      "outputs": [
        {
          "output_type": "execute_result",
          "data": {
            "text/plain": [
              "3"
            ]
          },
          "metadata": {},
          "execution_count": 13
        }
      ]
    },
    {
      "cell_type": "code",
      "source": [
        "TENSOR.shape"
      ],
      "metadata": {
        "colab": {
          "base_uri": "https://localhost:8080/"
        },
        "id": "Yj24sV3TBu1Y",
        "outputId": "f7aa025d-297f-499d-8bcb-7dca9a51eb28"
      },
      "execution_count": 14,
      "outputs": [
        {
          "output_type": "execute_result",
          "data": {
            "text/plain": [
              "torch.Size([1, 3, 3])"
            ]
          },
          "metadata": {},
          "execution_count": 14
        }
      ]
    },
    {
      "cell_type": "markdown",
      "source": [
        "Random Tensors\n",
        "\n",
        "'start with random numbers -> look at data->update random numbers -> look at data- update random numbers"
      ],
      "metadata": {
        "id": "j7lc-FP7FnrH"
      }
    },
    {
      "cell_type": "code",
      "source": [
        "# create a random tensor\n",
        "\n",
        "random_tensor = torch.rand(7, 7)\n",
        "random_tensor"
      ],
      "metadata": {
        "colab": {
          "base_uri": "https://localhost:8080/"
        },
        "id": "aLeSmdI9FrFY",
        "outputId": "9d64c47d-0c49-41e0-8dea-f6b6f69a8b1e"
      },
      "execution_count": 15,
      "outputs": [
        {
          "output_type": "execute_result",
          "data": {
            "text/plain": [
              "tensor([[9.3622e-01, 1.2407e-01, 2.4276e-01, 3.8776e-01, 2.0510e-01, 8.9175e-01,\n",
              "         7.7856e-01],\n",
              "        [9.9033e-01, 1.3426e-01, 3.1667e-01, 4.9056e-02, 5.4288e-01, 9.3887e-01,\n",
              "         1.6760e-01],\n",
              "        [9.0236e-01, 1.3345e-01, 8.2181e-01, 5.2289e-01, 6.8656e-01, 9.9098e-01,\n",
              "         1.4416e-01],\n",
              "        [8.5976e-01, 4.1196e-01, 9.1786e-01, 1.8225e-01, 3.0840e-01, 9.3767e-01,\n",
              "         8.4630e-01],\n",
              "        [9.1432e-01, 6.4653e-02, 1.8024e-01, 6.7040e-01, 4.8497e-01, 5.1403e-04,\n",
              "         8.0942e-01],\n",
              "        [1.6082e-01, 9.1637e-01, 8.7096e-01, 3.2967e-01, 4.8276e-01, 7.2576e-01,\n",
              "         3.5756e-01],\n",
              "        [1.2965e-01, 2.8030e-02, 5.1625e-01, 3.1563e-01, 7.0223e-01, 7.2464e-01,\n",
              "         5.3771e-01]])"
            ]
          },
          "metadata": {},
          "execution_count": 15
        }
      ]
    },
    {
      "cell_type": "code",
      "source": [
        "random_tensor.ndim"
      ],
      "metadata": {
        "colab": {
          "base_uri": "https://localhost:8080/"
        },
        "id": "kCUVU8-EHDT0",
        "outputId": "f4aaf49d-e33d-4283-9217-884b76203335"
      },
      "execution_count": 16,
      "outputs": [
        {
          "output_type": "execute_result",
          "data": {
            "text/plain": [
              "2"
            ]
          },
          "metadata": {},
          "execution_count": 16
        }
      ]
    },
    {
      "cell_type": "code",
      "source": [
        "#create a random tensor with similar shape to an image tensor\n",
        "\n",
        "random_image_size_tensor= torch.rand(size =(222,223, 8))#height, width,color channel\n",
        "random_image_size_tensor.shape , random_image_size_tensor.ndim"
      ],
      "metadata": {
        "colab": {
          "base_uri": "https://localhost:8080/"
        },
        "id": "Uma53_K7HRMB",
        "outputId": "897bc803-7350-4272-9d90-a9a1b7ad96b7"
      },
      "execution_count": 17,
      "outputs": [
        {
          "output_type": "execute_result",
          "data": {
            "text/plain": [
              "(torch.Size([222, 223, 8]), 3)"
            ]
          },
          "metadata": {},
          "execution_count": 17
        }
      ]
    },
    {
      "cell_type": "code",
      "source": [
        "random_image_size_tensor"
      ],
      "metadata": {
        "colab": {
          "base_uri": "https://localhost:8080/"
        },
        "id": "FFALX49jH8EV",
        "outputId": "c8413d1d-4b38-47ec-9bc7-f520673d6412"
      },
      "execution_count": 18,
      "outputs": [
        {
          "output_type": "execute_result",
          "data": {
            "text/plain": [
              "tensor([[[8.9178e-02, 7.5167e-01, 2.3724e-01,  ..., 8.3070e-01,\n",
              "          4.4560e-01, 6.3134e-01],\n",
              "         [7.0306e-03, 5.9901e-02, 4.1503e-01,  ..., 4.9100e-01,\n",
              "          9.7299e-04, 1.0821e-01],\n",
              "         [5.0617e-01, 4.5541e-01, 5.0546e-01,  ..., 6.3152e-01,\n",
              "          5.0593e-02, 3.9092e-01],\n",
              "         ...,\n",
              "         [9.8608e-01, 6.4601e-01, 9.7111e-01,  ..., 4.7486e-01,\n",
              "          1.5830e-01, 1.5713e-01],\n",
              "         [5.0483e-01, 1.2347e-01, 4.2044e-01,  ..., 5.6203e-01,\n",
              "          1.5703e-03, 9.1028e-01],\n",
              "         [5.7034e-01, 6.3173e-01, 5.4212e-01,  ..., 2.4996e-01,\n",
              "          7.7823e-01, 3.0415e-01]],\n",
              "\n",
              "        [[3.6562e-01, 2.5006e-01, 5.4556e-01,  ..., 1.0548e-01,\n",
              "          5.8532e-01, 4.5073e-02],\n",
              "         [3.4827e-01, 5.2823e-01, 4.8106e-01,  ..., 9.1396e-01,\n",
              "          6.7145e-01, 7.2517e-01],\n",
              "         [6.3416e-01, 3.7861e-01, 2.2308e-01,  ..., 7.3307e-01,\n",
              "          7.6687e-01, 6.6760e-01],\n",
              "         ...,\n",
              "         [8.9556e-01, 5.2014e-01, 5.7935e-01,  ..., 9.2153e-01,\n",
              "          3.1932e-01, 3.2946e-01],\n",
              "         [4.7737e-01, 5.3298e-01, 1.4689e-01,  ..., 6.3415e-01,\n",
              "          9.1477e-01, 9.3807e-01],\n",
              "         [1.6495e-01, 9.4806e-01, 3.1786e-01,  ..., 3.3252e-01,\n",
              "          8.4954e-01, 5.3607e-01]],\n",
              "\n",
              "        [[9.1656e-01, 9.6805e-01, 1.7853e-01,  ..., 1.4091e-01,\n",
              "          3.9622e-02, 9.0465e-01],\n",
              "         [1.9461e-01, 3.9751e-01, 4.2943e-01,  ..., 7.1936e-01,\n",
              "          3.4785e-01, 3.3225e-01],\n",
              "         [2.0030e-01, 5.8078e-02, 8.4580e-01,  ..., 2.8718e-01,\n",
              "          2.4352e-01, 9.6583e-01],\n",
              "         ...,\n",
              "         [6.9384e-01, 7.2238e-01, 4.8167e-01,  ..., 1.5999e-01,\n",
              "          5.9847e-01, 4.3167e-01],\n",
              "         [8.7849e-01, 4.4041e-01, 8.9109e-01,  ..., 7.7025e-02,\n",
              "          2.3056e-01, 7.3120e-01],\n",
              "         [2.0699e-01, 1.9311e-01, 3.1832e-01,  ..., 7.1959e-01,\n",
              "          6.5940e-01, 1.7343e-01]],\n",
              "\n",
              "        ...,\n",
              "\n",
              "        [[9.8115e-01, 4.6774e-01, 9.6350e-01,  ..., 2.9110e-01,\n",
              "          7.4066e-01, 3.9322e-01],\n",
              "         [7.9063e-01, 8.9588e-01, 3.9463e-01,  ..., 8.1714e-01,\n",
              "          9.8943e-01, 2.5131e-01],\n",
              "         [6.7584e-01, 2.3632e-01, 6.3114e-01,  ..., 7.0388e-02,\n",
              "          5.2225e-01, 5.6799e-01],\n",
              "         ...,\n",
              "         [3.6810e-01, 4.5945e-01, 5.0611e-01,  ..., 8.3814e-01,\n",
              "          7.7722e-01, 3.9112e-01],\n",
              "         [6.0792e-01, 2.0556e-02, 5.0095e-01,  ..., 9.8846e-01,\n",
              "          7.4161e-01, 3.0715e-01],\n",
              "         [8.6550e-01, 9.1389e-02, 5.1099e-01,  ..., 2.2518e-02,\n",
              "          8.9009e-01, 4.8749e-01]],\n",
              "\n",
              "        [[7.8622e-01, 3.6328e-01, 4.8731e-01,  ..., 9.4303e-01,\n",
              "          3.1092e-01, 3.2155e-01],\n",
              "         [8.5874e-01, 8.1851e-01, 3.9710e-01,  ..., 2.4313e-01,\n",
              "          5.2958e-01, 3.5930e-01],\n",
              "         [4.9328e-01, 9.8283e-01, 2.8300e-01,  ..., 9.1609e-01,\n",
              "          4.2234e-01, 6.0251e-01],\n",
              "         ...,\n",
              "         [9.1676e-01, 6.5000e-01, 5.8696e-01,  ..., 7.8682e-01,\n",
              "          9.5070e-01, 1.2803e-01],\n",
              "         [5.2462e-01, 3.0130e-01, 9.5095e-01,  ..., 9.5938e-01,\n",
              "          4.2999e-01, 8.0413e-01],\n",
              "         [6.9545e-01, 4.7999e-01, 6.7785e-01,  ..., 4.2668e-01,\n",
              "          2.2941e-01, 8.7949e-01]],\n",
              "\n",
              "        [[7.5125e-01, 4.1437e-02, 2.6367e-01,  ..., 6.3044e-02,\n",
              "          8.8474e-01, 8.9024e-01],\n",
              "         [1.9378e-01, 4.3148e-01, 6.5426e-01,  ..., 5.0407e-01,\n",
              "          2.4045e-01, 3.8298e-01],\n",
              "         [8.0614e-02, 3.3970e-02, 7.1912e-01,  ..., 1.2516e-02,\n",
              "          1.3444e-01, 7.1281e-01],\n",
              "         ...,\n",
              "         [6.6944e-01, 7.8106e-01, 1.7296e-01,  ..., 4.4353e-01,\n",
              "          3.0474e-01, 1.0678e-01],\n",
              "         [9.4243e-01, 6.0554e-01, 1.0064e-01,  ..., 9.2981e-01,\n",
              "          5.0106e-01, 1.0343e-01],\n",
              "         [7.0079e-01, 7.5210e-01, 5.5907e-02,  ..., 2.8861e-01,\n",
              "          6.3026e-01, 9.7496e-01]]])"
            ]
          },
          "metadata": {},
          "execution_count": 18
        }
      ]
    },
    {
      "cell_type": "code",
      "source": [
        "#create a tensor of all zeros\n",
        "\n",
        "zeros = torch.zeros(size=(7, 7))\n",
        "zeros"
      ],
      "metadata": {
        "colab": {
          "base_uri": "https://localhost:8080/"
        },
        "id": "h3AbkgOlIMqg",
        "outputId": "79719998-3c21-4cfe-a89a-deb3cccad696"
      },
      "execution_count": 19,
      "outputs": [
        {
          "output_type": "execute_result",
          "data": {
            "text/plain": [
              "tensor([[0., 0., 0., 0., 0., 0., 0.],\n",
              "        [0., 0., 0., 0., 0., 0., 0.],\n",
              "        [0., 0., 0., 0., 0., 0., 0.],\n",
              "        [0., 0., 0., 0., 0., 0., 0.],\n",
              "        [0., 0., 0., 0., 0., 0., 0.],\n",
              "        [0., 0., 0., 0., 0., 0., 0.],\n",
              "        [0., 0., 0., 0., 0., 0., 0.]])"
            ]
          },
          "metadata": {},
          "execution_count": 19
        }
      ]
    },
    {
      "cell_type": "code",
      "source": [
        "#create a tensor of all ones\n",
        "\n",
        "ones= torch.ones(size=(3, 4))\n",
        "ones"
      ],
      "metadata": {
        "colab": {
          "base_uri": "https://localhost:8080/"
        },
        "id": "qriy4rHOI4Hb",
        "outputId": "fffb0454-cdc7-4d75-b8ad-2e2f9f06b513"
      },
      "execution_count": 20,
      "outputs": [
        {
          "output_type": "execute_result",
          "data": {
            "text/plain": [
              "tensor([[1., 1., 1., 1.],\n",
              "        [1., 1., 1., 1.],\n",
              "        [1., 1., 1., 1.]])"
            ]
          },
          "metadata": {},
          "execution_count": 20
        }
      ]
    },
    {
      "cell_type": "code",
      "source": [
        "#use torch.range\n",
        "torch.range(0, 10)"
      ],
      "metadata": {
        "colab": {
          "base_uri": "https://localhost:8080/"
        },
        "id": "UVo3AU_gJkM5",
        "outputId": "b825ccab-f919-4c1d-a7a6-3aeea8ddc970"
      },
      "execution_count": 21,
      "outputs": [
        {
          "output_type": "stream",
          "name": "stderr",
          "text": [
            "<ipython-input-21-a089c3bf7207>:2: UserWarning: torch.range is deprecated and will be removed in a future release because its behavior is inconsistent with Python's range builtin. Instead, use torch.arange, which produces values in [start, end).\n",
            "  torch.range(0, 10)\n"
          ]
        },
        {
          "output_type": "execute_result",
          "data": {
            "text/plain": [
              "tensor([ 0.,  1.,  2.,  3.,  4.,  5.,  6.,  7.,  8.,  9., 10.])"
            ]
          },
          "metadata": {},
          "execution_count": 21
        }
      ]
    },
    {
      "cell_type": "code",
      "source": [
        "one_to_ten= torch.arange(start=0, end= 10000, step=100)\n",
        "one_to_ten"
      ],
      "metadata": {
        "colab": {
          "base_uri": "https://localhost:8080/"
        },
        "id": "IVbC4HI5lez_",
        "outputId": "5cb5369a-68f0-4b8c-81a7-d2894af8d18b"
      },
      "execution_count": 22,
      "outputs": [
        {
          "output_type": "execute_result",
          "data": {
            "text/plain": [
              "tensor([   0,  100,  200,  300,  400,  500,  600,  700,  800,  900, 1000, 1100,\n",
              "        1200, 1300, 1400, 1500, 1600, 1700, 1800, 1900, 2000, 2100, 2200, 2300,\n",
              "        2400, 2500, 2600, 2700, 2800, 2900, 3000, 3100, 3200, 3300, 3400, 3500,\n",
              "        3600, 3700, 3800, 3900, 4000, 4100, 4200, 4300, 4400, 4500, 4600, 4700,\n",
              "        4800, 4900, 5000, 5100, 5200, 5300, 5400, 5500, 5600, 5700, 5800, 5900,\n",
              "        6000, 6100, 6200, 6300, 6400, 6500, 6600, 6700, 6800, 6900, 7000, 7100,\n",
              "        7200, 7300, 7400, 7500, 7600, 7700, 7800, 7900, 8000, 8100, 8200, 8300,\n",
              "        8400, 8500, 8600, 8700, 8800, 8900, 9000, 9100, 9200, 9300, 9400, 9500,\n",
              "        9600, 9700, 9800, 9900])"
            ]
          },
          "metadata": {},
          "execution_count": 22
        }
      ]
    },
    {
      "cell_type": "code",
      "source": [
        "#creating tensors like\n",
        "\n",
        "ten_zeros= torch.zeros_like(input=one_to_ten)\n",
        "ten_zeros"
      ],
      "metadata": {
        "colab": {
          "base_uri": "https://localhost:8080/"
        },
        "id": "-t320D_nxgMO",
        "outputId": "69e83a58-0987-4049-a393-bddf950cbe8b"
      },
      "execution_count": 23,
      "outputs": [
        {
          "output_type": "execute_result",
          "data": {
            "text/plain": [
              "tensor([0, 0, 0, 0, 0, 0, 0, 0, 0, 0, 0, 0, 0, 0, 0, 0, 0, 0, 0, 0, 0, 0, 0, 0,\n",
              "        0, 0, 0, 0, 0, 0, 0, 0, 0, 0, 0, 0, 0, 0, 0, 0, 0, 0, 0, 0, 0, 0, 0, 0,\n",
              "        0, 0, 0, 0, 0, 0, 0, 0, 0, 0, 0, 0, 0, 0, 0, 0, 0, 0, 0, 0, 0, 0, 0, 0,\n",
              "        0, 0, 0, 0, 0, 0, 0, 0, 0, 0, 0, 0, 0, 0, 0, 0, 0, 0, 0, 0, 0, 0, 0, 0,\n",
              "        0, 0, 0, 0])"
            ]
          },
          "metadata": {},
          "execution_count": 23
        }
      ]
    },
    {
      "cell_type": "markdown",
      "source": [
        "TENSOR DATATYPES\n",
        "\n",
        "Note ❎Tensor datatypes are one of the 3 big issues you will run into with PyTorch and deep learning\n",
        "\n",
        "1. Tensors not the right datatype\n",
        "2. Tensors not the right shape\n",
        "3. tensors not on the right devices"
      ],
      "metadata": {
        "id": "W1xhcBo0yFuK"
      }
    },
    {
      "cell_type": "code",
      "source": [
        "float_32_tensor= torch.tensor([3.0, 6.0, 7.0],\n",
        "                              dtype=torch.float32,\n",
        "                              device= None,\n",
        "                              requires_grad=False\n",
        "                              )\n",
        "\n",
        "float_32_tensor"
      ],
      "metadata": {
        "colab": {
          "base_uri": "https://localhost:8080/"
        },
        "id": "D-hfiKRNx91P",
        "outputId": "887cf308-9163-47d2-a49c-ab52c52d569b"
      },
      "execution_count": 24,
      "outputs": [
        {
          "output_type": "execute_result",
          "data": {
            "text/plain": [
              "tensor([3., 6., 7.])"
            ]
          },
          "metadata": {},
          "execution_count": 24
        }
      ]
    },
    {
      "cell_type": "code",
      "source": [
        "float_16_tensor= float_32_tensor.type(torch.float16)\n",
        "float_16_tensor"
      ],
      "metadata": {
        "colab": {
          "base_uri": "https://localhost:8080/"
        },
        "id": "scN1o8iR3-h8",
        "outputId": "0315db4d-df11-4273-d9c3-1ed1b1b44bbc"
      },
      "execution_count": 25,
      "outputs": [
        {
          "output_type": "execute_result",
          "data": {
            "text/plain": [
              "tensor([3., 6., 7.], dtype=torch.float16)"
            ]
          },
          "metadata": {},
          "execution_count": 25
        }
      ]
    },
    {
      "cell_type": "code",
      "source": [
        "float_32_tensor*float_16_tensor"
      ],
      "metadata": {
        "colab": {
          "base_uri": "https://localhost:8080/"
        },
        "id": "PNEpA5Dv4TNb",
        "outputId": "d6d779de-29db-485b-e2f7-1a6c4bae92ec"
      },
      "execution_count": 26,
      "outputs": [
        {
          "output_type": "execute_result",
          "data": {
            "text/plain": [
              "tensor([ 9., 36., 49.])"
            ]
          },
          "metadata": {},
          "execution_count": 26
        }
      ]
    },
    {
      "cell_type": "code",
      "source": [
        "int_32_tensor= torch.tensor([3, 6, 9],\n",
        "                            dtype= torch.long)\n",
        "int_32_tensor"
      ],
      "metadata": {
        "colab": {
          "base_uri": "https://localhost:8080/"
        },
        "id": "EMB17aRS4cYA",
        "outputId": "f72fd0f4-f41e-4be0-b42b-3b5bcaac109b"
      },
      "execution_count": 27,
      "outputs": [
        {
          "output_type": "execute_result",
          "data": {
            "text/plain": [
              "tensor([3, 6, 9])"
            ]
          },
          "metadata": {},
          "execution_count": 27
        }
      ]
    },
    {
      "cell_type": "code",
      "source": [
        "float_32_tensor*int_32_tensor"
      ],
      "metadata": {
        "colab": {
          "base_uri": "https://localhost:8080/"
        },
        "id": "3bg8rAy847kR",
        "outputId": "320219c0-5af7-4068-9da5-65f058c8b32e"
      },
      "execution_count": 28,
      "outputs": [
        {
          "output_type": "execute_result",
          "data": {
            "text/plain": [
              "tensor([ 9., 36., 63.])"
            ]
          },
          "metadata": {},
          "execution_count": 28
        }
      ]
    },
    {
      "cell_type": "code",
      "source": [
        "float_32_tensor.shape"
      ],
      "metadata": {
        "colab": {
          "base_uri": "https://localhost:8080/"
        },
        "id": "cvHKxIrW6A5Y",
        "outputId": "eaa00926-80c1-4097-99c0-e73ff30d6391"
      },
      "execution_count": 29,
      "outputs": [
        {
          "output_type": "execute_result",
          "data": {
            "text/plain": [
              "torch.Size([3])"
            ]
          },
          "metadata": {},
          "execution_count": 29
        }
      ]
    },
    {
      "cell_type": "markdown",
      "source": [
        "GETTING INFORMATION FROM TENSORS"
      ],
      "metadata": {
        "id": "tSnrSszpO2qq"
      }
    },
    {
      "cell_type": "code",
      "source": [
        "some_tensor= torch.rand(5, 7)\n",
        "some_tensor"
      ],
      "metadata": {
        "colab": {
          "base_uri": "https://localhost:8080/"
        },
        "id": "Lh0YhrHAOZd4",
        "outputId": "bb61bd2b-e636-4c51-9654-638ed02183bf"
      },
      "execution_count": 31,
      "outputs": [
        {
          "output_type": "execute_result",
          "data": {
            "text/plain": [
              "tensor([[0.9679, 0.3441, 0.7602, 0.1189, 0.3391, 0.4271, 0.9799],\n",
              "        [0.9005, 0.8364, 0.9731, 0.1600, 0.3950, 0.1075, 0.9636],\n",
              "        [0.2450, 0.8424, 0.9970, 0.7187, 0.0878, 0.5897, 0.8145],\n",
              "        [0.2557, 0.8030, 0.3772, 0.3983, 0.2912, 0.0739, 0.6314],\n",
              "        [0.3251, 0.6965, 0.4368, 0.6261, 0.3242, 0.3154, 0.8461]])"
            ]
          },
          "metadata": {},
          "execution_count": 31
        }
      ]
    },
    {
      "cell_type": "code",
      "source": [
        "print(some_tensor)\n",
        "print(f\"Datatype is {some_tensor.dtype}\"  )\n",
        "print(f\"shape is {some_tensor.shape}\" )\n",
        "print(f\"device is {some_tensor.device}\" )\n",
        "\n"
      ],
      "metadata": {
        "colab": {
          "base_uri": "https://localhost:8080/"
        },
        "id": "hG8GCW2TPUV9",
        "outputId": "f2638d54-2d72-47a6-e41d-ba62d75d1cb6"
      },
      "execution_count": 34,
      "outputs": [
        {
          "output_type": "stream",
          "name": "stdout",
          "text": [
            "tensor([[0.9679, 0.3441, 0.7602, 0.1189, 0.3391, 0.4271, 0.9799],\n",
            "        [0.9005, 0.8364, 0.9731, 0.1600, 0.3950, 0.1075, 0.9636],\n",
            "        [0.2450, 0.8424, 0.9970, 0.7187, 0.0878, 0.5897, 0.8145],\n",
            "        [0.2557, 0.8030, 0.3772, 0.3983, 0.2912, 0.0739, 0.6314],\n",
            "        [0.3251, 0.6965, 0.4368, 0.6261, 0.3242, 0.3154, 0.8461]])\n",
            "Datatype is torch.float32\n",
            "shape is torch.Size([5, 7])\n",
            "device is cpu\n"
          ]
        }
      ]
    },
    {
      "cell_type": "markdown",
      "source": [
        "MANIPULATING TENSORS\n",
        "\n",
        "one can multiply\n",
        "divide\n",
        "add\n",
        "subtract\n",
        "matrix multiplication"
      ],
      "metadata": {
        "id": "U8HR6TTmSScP"
      }
    },
    {
      "cell_type": "code",
      "source": [
        "#create tensor\n",
        "\n",
        "tensor= torch.tensor([7, 7, 8])\n",
        "tensor+ 100"
      ],
      "metadata": {
        "colab": {
          "base_uri": "https://localhost:8080/"
        },
        "id": "zePa3kGeQgrI",
        "outputId": "f2a5559f-7ddb-41ed-b488-a2a5cf396b95"
      },
      "execution_count": 38,
      "outputs": [
        {
          "output_type": "execute_result",
          "data": {
            "text/plain": [
              "tensor([107, 107, 108])"
            ]
          },
          "metadata": {},
          "execution_count": 38
        }
      ]
    },
    {
      "cell_type": "code",
      "source": [
        "tensor + 10"
      ],
      "metadata": {
        "colab": {
          "base_uri": "https://localhost:8080/"
        },
        "id": "1fzuMdIXQRMe",
        "outputId": "16529858-6c33-4411-d800-4124f3893606"
      },
      "execution_count": 39,
      "outputs": [
        {
          "output_type": "execute_result",
          "data": {
            "text/plain": [
              "tensor([17, 17, 18])"
            ]
          },
          "metadata": {},
          "execution_count": 39
        }
      ]
    },
    {
      "cell_type": "code",
      "source": [
        "tensor/2"
      ],
      "metadata": {
        "colab": {
          "base_uri": "https://localhost:8080/"
        },
        "id": "BYUv9c8DTDKv",
        "outputId": "9ff0d295-b73f-44f8-b60b-2355bac174bb"
      },
      "execution_count": 40,
      "outputs": [
        {
          "output_type": "execute_result",
          "data": {
            "text/plain": [
              "tensor([3.5000, 3.5000, 4.0000])"
            ]
          },
          "metadata": {},
          "execution_count": 40
        }
      ]
    },
    {
      "cell_type": "code",
      "source": [
        "tensor- 10"
      ],
      "metadata": {
        "colab": {
          "base_uri": "https://localhost:8080/"
        },
        "id": "ZWS_H7U6TIVl",
        "outputId": "ad482276-fad1-4550-9322-9cd0b7370bfa"
      },
      "execution_count": 41,
      "outputs": [
        {
          "output_type": "execute_result",
          "data": {
            "text/plain": [
              "tensor([-3, -3, -2])"
            ]
          },
          "metadata": {},
          "execution_count": 41
        }
      ]
    },
    {
      "cell_type": "code",
      "source": [
        "# using pytorch in built functions\n",
        "\n",
        "print(torch.add(tensor, 20))\n",
        "print(torch.mul(tensor, 2))\n",
        "print(torch.sub(tensor, 2))\n",
        "print(torch.div(tensor, 7))"
      ],
      "metadata": {
        "colab": {
          "base_uri": "https://localhost:8080/"
        },
        "id": "r-jEVuOdTNtX",
        "outputId": "fb0bd8a3-a792-4f0a-c851-a0744921d0fb"
      },
      "execution_count": 45,
      "outputs": [
        {
          "output_type": "stream",
          "name": "stdout",
          "text": [
            "tensor([27, 27, 28])\n",
            "tensor([14, 14, 16])\n",
            "tensor([5, 5, 6])\n",
            "tensor([1.0000, 1.0000, 1.1429])\n"
          ]
        }
      ]
    },
    {
      "cell_type": "code",
      "source": [
        "#MATRIX MULTIPLICATION/ dot product\n",
        "\n",
        " \n"
      ],
      "metadata": {
        "id": "dcTTUOOxTmf9"
      },
      "execution_count": null,
      "outputs": []
    }
  ]
}