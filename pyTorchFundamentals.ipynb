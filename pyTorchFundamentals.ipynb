{
  "nbformat": 4,
  "nbformat_minor": 0,
  "metadata": {
    "colab": {
      "provenance": [],
      "gpuType": "T4",
      "authorship_tag": "ABX9TyNqEjzb+kQp76aFrVYXAlq2",
      "include_colab_link": true
    },
    "kernelspec": {
      "name": "python3",
      "display_name": "Python 3"
    },
    "language_info": {
      "name": "python"
    }
  },
  "cells": [
    {
      "cell_type": "markdown",
      "metadata": {
        "id": "view-in-github",
        "colab_type": "text"
      },
      "source": [
        "<a href=\"https://colab.research.google.com/github/Fidel-Leanne/pyTorch/blob/master/pyTorchFundamentals.ipynb\" target=\"_parent\"><img src=\"https://colab.research.google.com/assets/colab-badge.svg\" alt=\"Open In Colab\"/></a>"
      ]
    },
    {
      "cell_type": "markdown",
      "source": [
        "pyTorch intro"
      ],
      "metadata": {
        "id": "l48euTLa7IjC"
      }
    },
    {
      "cell_type": "code",
      "source": [
        "import torch\n",
        "import pandas as pd\n",
        "import matplotlib.pyplot as plt\n",
        "import numpy as np\n",
        "\n",
        "print(torch.__version__)"
      ],
      "metadata": {
        "colab": {
          "base_uri": "https://localhost:8080/"
        },
        "id": "u7AkQqy57OhP",
        "outputId": "a1ae10aa-8ea2-4d40-b8f3-2420f31798ec"
      },
      "execution_count": 1,
      "outputs": [
        {
          "output_type": "stream",
          "name": "stdout",
          "text": [
            "2.0.1+cu118\n"
          ]
        }
      ]
    },
    {
      "cell_type": "markdown",
      "source": [
        "Introduction to Tensors:"
      ],
      "metadata": {
        "id": "ivmEgReu8yER"
      }
    },
    {
      "cell_type": "markdown",
      "source": [
        "Creating Tensors"
      ],
      "metadata": {
        "id": "icqD-TuO9EFe"
      }
    },
    {
      "cell_type": "code",
      "source": [
        "# scalar\n",
        "\n",
        "scalar= torch.tensor(7)\n",
        "scalar"
      ],
      "metadata": {
        "colab": {
          "base_uri": "https://localhost:8080/"
        },
        "id": "4agoO1wK9MQM",
        "outputId": "503ce766-b595-4fe2-ce1f-76b63bd4fe1b"
      },
      "execution_count": 2,
      "outputs": [
        {
          "output_type": "execute_result",
          "data": {
            "text/plain": [
              "tensor(7)"
            ]
          },
          "metadata": {},
          "execution_count": 2
        }
      ]
    },
    {
      "cell_type": "code",
      "source": [
        "scalar.ndim"
      ],
      "metadata": {
        "colab": {
          "base_uri": "https://localhost:8080/"
        },
        "id": "OXxaLWUN-5mw",
        "outputId": "cbca204a-db36-49d5-a01b-f28eae384df9"
      },
      "execution_count": 3,
      "outputs": [
        {
          "output_type": "execute_result",
          "data": {
            "text/plain": [
              "0"
            ]
          },
          "metadata": {},
          "execution_count": 3
        }
      ]
    },
    {
      "cell_type": "code",
      "source": [
        "scalar.item()"
      ],
      "metadata": {
        "colab": {
          "base_uri": "https://localhost:8080/"
        },
        "id": "78z8XtGM_QIN",
        "outputId": "34631c39-a50c-485b-e8f3-5550788116ad"
      },
      "execution_count": 4,
      "outputs": [
        {
          "output_type": "execute_result",
          "data": {
            "text/plain": [
              "7"
            ]
          },
          "metadata": {},
          "execution_count": 4
        }
      ]
    },
    {
      "cell_type": "code",
      "source": [
        "#vector\n",
        "\n",
        "vector= torch.tensor([7, 7])\n",
        "vector"
      ],
      "metadata": {
        "colab": {
          "base_uri": "https://localhost:8080/"
        },
        "id": "eQInpGyz_ZwI",
        "outputId": "d4c66695-1af6-4ac1-d18b-c78c8d38ad3d"
      },
      "execution_count": 5,
      "outputs": [
        {
          "output_type": "execute_result",
          "data": {
            "text/plain": [
              "tensor([7, 7])"
            ]
          },
          "metadata": {},
          "execution_count": 5
        }
      ]
    },
    {
      "cell_type": "code",
      "source": [
        "vector.ndim"
      ],
      "metadata": {
        "colab": {
          "base_uri": "https://localhost:8080/"
        },
        "id": "6ANGQnOO_3Kr",
        "outputId": "fb1a31a0-6e27-4771-ef79-5a53bebd77ff"
      },
      "execution_count": 6,
      "outputs": [
        {
          "output_type": "execute_result",
          "data": {
            "text/plain": [
              "1"
            ]
          },
          "metadata": {},
          "execution_count": 6
        }
      ]
    },
    {
      "cell_type": "code",
      "source": [
        "vector.shape"
      ],
      "metadata": {
        "colab": {
          "base_uri": "https://localhost:8080/"
        },
        "id": "XVuY6wPSADjq",
        "outputId": "c60f4800-c895-4660-9019-1df5ec30f7a6"
      },
      "execution_count": 7,
      "outputs": [
        {
          "output_type": "execute_result",
          "data": {
            "text/plain": [
              "torch.Size([2])"
            ]
          },
          "metadata": {},
          "execution_count": 7
        }
      ]
    },
    {
      "cell_type": "code",
      "source": [
        "#MATRIX\n",
        "MATRIX = torch.tensor([[8 , 0],\n",
        "                      [7, 9]])\n",
        "\n",
        "MATRIX\n"
      ],
      "metadata": {
        "colab": {
          "base_uri": "https://localhost:8080/"
        },
        "id": "sru8CQSMALTB",
        "outputId": "b4a690fa-8d1b-4c53-d7d5-bdf3af224083"
      },
      "execution_count": 8,
      "outputs": [
        {
          "output_type": "execute_result",
          "data": {
            "text/plain": [
              "tensor([[8, 0],\n",
              "        [7, 9]])"
            ]
          },
          "metadata": {},
          "execution_count": 8
        }
      ]
    },
    {
      "cell_type": "code",
      "source": [
        "MATRIX.ndim"
      ],
      "metadata": {
        "colab": {
          "base_uri": "https://localhost:8080/"
        },
        "id": "2NUkdFigAqSD",
        "outputId": "c4588f48-a606-4688-9eb6-32aac84438f8"
      },
      "execution_count": 9,
      "outputs": [
        {
          "output_type": "execute_result",
          "data": {
            "text/plain": [
              "2"
            ]
          },
          "metadata": {},
          "execution_count": 9
        }
      ]
    },
    {
      "cell_type": "code",
      "source": [
        "MATRIX[0]"
      ],
      "metadata": {
        "colab": {
          "base_uri": "https://localhost:8080/"
        },
        "id": "6kPDSnqDAvxK",
        "outputId": "5e2eb6c4-ca17-4835-e483-4a06e0483a70"
      },
      "execution_count": 10,
      "outputs": [
        {
          "output_type": "execute_result",
          "data": {
            "text/plain": [
              "tensor([8, 0])"
            ]
          },
          "metadata": {},
          "execution_count": 10
        }
      ]
    },
    {
      "cell_type": "code",
      "source": [
        "MATRIX.shape"
      ],
      "metadata": {
        "colab": {
          "base_uri": "https://localhost:8080/"
        },
        "id": "69cRLFgLA2bf",
        "outputId": "045fc18c-741c-494b-963f-0c38d202a73c"
      },
      "execution_count": 11,
      "outputs": [
        {
          "output_type": "execute_result",
          "data": {
            "text/plain": [
              "torch.Size([2, 2])"
            ]
          },
          "metadata": {},
          "execution_count": 11
        }
      ]
    },
    {
      "cell_type": "code",
      "source": [
        "#TENSOR\n",
        "TENSOR = torch.tensor([[[5, 9 ,7],\n",
        "                        [7, 8, 0],\n",
        "                        [8, 9, 9]]])\n",
        "\n",
        "TENSOR"
      ],
      "metadata": {
        "colab": {
          "base_uri": "https://localhost:8080/"
        },
        "id": "xfNSXLI9A-Io",
        "outputId": "058d7a69-2f22-4721-cf6e-f2b43bc3e375"
      },
      "execution_count": 12,
      "outputs": [
        {
          "output_type": "execute_result",
          "data": {
            "text/plain": [
              "tensor([[[5, 9, 7],\n",
              "         [7, 8, 0],\n",
              "         [8, 9, 9]]])"
            ]
          },
          "metadata": {},
          "execution_count": 12
        }
      ]
    },
    {
      "cell_type": "code",
      "source": [
        "TENSOR.ndim"
      ],
      "metadata": {
        "colab": {
          "base_uri": "https://localhost:8080/"
        },
        "id": "pDE7ubJiBhjX",
        "outputId": "756de43f-7270-444f-fe84-7adafbf82b42"
      },
      "execution_count": 13,
      "outputs": [
        {
          "output_type": "execute_result",
          "data": {
            "text/plain": [
              "3"
            ]
          },
          "metadata": {},
          "execution_count": 13
        }
      ]
    },
    {
      "cell_type": "code",
      "source": [
        "TENSOR.shape"
      ],
      "metadata": {
        "colab": {
          "base_uri": "https://localhost:8080/"
        },
        "id": "Yj24sV3TBu1Y",
        "outputId": "270e5ffd-e13f-4c27-ff39-b1f4974d3f69"
      },
      "execution_count": 14,
      "outputs": [
        {
          "output_type": "execute_result",
          "data": {
            "text/plain": [
              "torch.Size([1, 3, 3])"
            ]
          },
          "metadata": {},
          "execution_count": 14
        }
      ]
    },
    {
      "cell_type": "markdown",
      "source": [
        "Random Tensors\n",
        "\n",
        "'start with random numbers -> look at data->update random numbers -> look at data- update random numbers"
      ],
      "metadata": {
        "id": "j7lc-FP7FnrH"
      }
    },
    {
      "cell_type": "code",
      "source": [
        "# create a random tensor\n",
        "\n",
        "random_tensor = torch.rand(7, 7)\n",
        "random_tensor"
      ],
      "metadata": {
        "colab": {
          "base_uri": "https://localhost:8080/"
        },
        "id": "aLeSmdI9FrFY",
        "outputId": "7dcab851-02f1-4da4-c8da-031362a0e63e"
      },
      "execution_count": 15,
      "outputs": [
        {
          "output_type": "execute_result",
          "data": {
            "text/plain": [
              "tensor([[0.8882, 0.9629, 0.6354, 0.6159, 0.0807, 0.3926, 0.5068],\n",
              "        [0.5514, 0.2998, 0.2308, 0.2099, 0.9512, 0.2565, 0.3505],\n",
              "        [0.4129, 0.2526, 0.8608, 0.5481, 0.5659, 0.4203, 0.2908],\n",
              "        [0.3228, 0.3061, 0.6930, 0.8356, 0.0911, 0.5380, 0.7162],\n",
              "        [0.5008, 0.7398, 0.4430, 0.9723, 0.5589, 0.7678, 0.3387],\n",
              "        [0.7877, 0.3886, 0.3666, 0.2055, 0.1429, 0.9976, 0.7938],\n",
              "        [0.2200, 0.3268, 0.2347, 0.1997, 0.5953, 0.4054, 0.5160]])"
            ]
          },
          "metadata": {},
          "execution_count": 15
        }
      ]
    },
    {
      "cell_type": "code",
      "source": [
        "random_tensor.ndim"
      ],
      "metadata": {
        "colab": {
          "base_uri": "https://localhost:8080/"
        },
        "id": "kCUVU8-EHDT0",
        "outputId": "acff4b2a-94ae-485c-af23-3cdc1fd42ece"
      },
      "execution_count": 16,
      "outputs": [
        {
          "output_type": "execute_result",
          "data": {
            "text/plain": [
              "2"
            ]
          },
          "metadata": {},
          "execution_count": 16
        }
      ]
    },
    {
      "cell_type": "code",
      "source": [
        "#create a random tensor with similar shape to an image tensor\n",
        "\n",
        "random_image_size_tensor= torch.rand(size =(222,223, 8))#height, width,color channel\n",
        "random_image_size_tensor.shape , random_image_size_tensor.ndim"
      ],
      "metadata": {
        "colab": {
          "base_uri": "https://localhost:8080/"
        },
        "id": "Uma53_K7HRMB",
        "outputId": "6f7f950b-78c1-4f61-a31b-9a49918434a5"
      },
      "execution_count": 17,
      "outputs": [
        {
          "output_type": "execute_result",
          "data": {
            "text/plain": [
              "(torch.Size([222, 223, 8]), 3)"
            ]
          },
          "metadata": {},
          "execution_count": 17
        }
      ]
    },
    {
      "cell_type": "code",
      "source": [
        "random_image_size_tensor"
      ],
      "metadata": {
        "colab": {
          "base_uri": "https://localhost:8080/"
        },
        "id": "FFALX49jH8EV",
        "outputId": "9d9cd812-7cde-440c-87df-14e5a6269098"
      },
      "execution_count": 18,
      "outputs": [
        {
          "output_type": "execute_result",
          "data": {
            "text/plain": [
              "tensor([[[0.3284, 0.8104, 0.8171,  ..., 0.4542, 0.8880, 0.5592],\n",
              "         [0.3937, 0.1687, 0.6964,  ..., 0.5922, 0.5919, 0.6497],\n",
              "         [0.5716, 0.6429, 0.4308,  ..., 0.0271, 0.1290, 0.9555],\n",
              "         ...,\n",
              "         [0.8511, 0.4827, 0.6178,  ..., 0.5136, 0.1680, 0.3660],\n",
              "         [0.3432, 0.0810, 0.2450,  ..., 0.0729, 0.1887, 0.3829],\n",
              "         [0.7068, 0.3123, 0.3261,  ..., 0.9086, 0.5947, 0.4950]],\n",
              "\n",
              "        [[0.8175, 0.3402, 0.1373,  ..., 0.5683, 0.7597, 0.3026],\n",
              "         [0.2111, 0.2048, 0.7861,  ..., 0.3876, 0.3721, 0.0817],\n",
              "         [0.2530, 0.8116, 0.6080,  ..., 0.9007, 0.4310, 0.6211],\n",
              "         ...,\n",
              "         [0.0988, 0.7653, 0.9835,  ..., 0.4746, 0.2796, 0.6689],\n",
              "         [0.9461, 0.6682, 0.8474,  ..., 0.5745, 0.7899, 0.3444],\n",
              "         [0.7189, 0.2748, 0.0298,  ..., 0.7125, 0.6586, 0.0335]],\n",
              "\n",
              "        [[0.7679, 0.4052, 0.5889,  ..., 0.5210, 0.6354, 0.3399],\n",
              "         [0.3469, 0.2441, 0.4460,  ..., 0.4858, 0.3397, 0.6837],\n",
              "         [0.6741, 0.8167, 0.4268,  ..., 0.3297, 0.6495, 0.0066],\n",
              "         ...,\n",
              "         [0.2390, 0.1973, 0.8387,  ..., 0.8523, 0.2539, 0.0182],\n",
              "         [0.6291, 0.0895, 0.2009,  ..., 0.7779, 0.8301, 0.7060],\n",
              "         [0.9406, 0.9121, 0.2412,  ..., 0.7296, 0.8949, 0.4398]],\n",
              "\n",
              "        ...,\n",
              "\n",
              "        [[0.2137, 0.8012, 0.5089,  ..., 0.4060, 0.5687, 0.5312],\n",
              "         [0.7858, 0.3659, 0.6458,  ..., 0.7215, 0.6924, 0.7951],\n",
              "         [0.3647, 0.1692, 0.9472,  ..., 0.9364, 0.4238, 0.7508],\n",
              "         ...,\n",
              "         [0.5926, 0.1923, 0.9740,  ..., 0.8018, 0.3757, 0.2138],\n",
              "         [0.5520, 0.4916, 0.4956,  ..., 0.9975, 0.9249, 0.2826],\n",
              "         [0.1926, 0.7211, 0.6608,  ..., 0.2098, 0.4704, 0.1253]],\n",
              "\n",
              "        [[0.4415, 0.7322, 0.7309,  ..., 0.4359, 0.0041, 0.3893],\n",
              "         [0.3263, 0.7592, 0.4832,  ..., 0.4381, 0.1120, 0.9451],\n",
              "         [0.9542, 0.5759, 0.1746,  ..., 0.0266, 0.9864, 0.7605],\n",
              "         ...,\n",
              "         [0.3477, 0.3983, 0.6146,  ..., 0.6464, 0.6704, 0.5080],\n",
              "         [0.0784, 0.0663, 0.9339,  ..., 0.4806, 0.6978, 0.8962],\n",
              "         [0.3568, 0.7345, 0.4754,  ..., 0.8898, 0.5895, 0.1461]],\n",
              "\n",
              "        [[0.2610, 0.5057, 0.1846,  ..., 0.9735, 0.9587, 0.0093],\n",
              "         [0.9012, 0.0916, 0.9664,  ..., 0.4783, 0.2711, 0.0542],\n",
              "         [0.7255, 0.7138, 0.9349,  ..., 0.9446, 0.9355, 0.6028],\n",
              "         ...,\n",
              "         [0.0547, 0.8459, 0.2340,  ..., 0.1149, 0.3244, 0.5523],\n",
              "         [0.4039, 0.3454, 0.6147,  ..., 0.2336, 0.5020, 0.8892],\n",
              "         [0.2444, 0.9084, 0.2770,  ..., 0.3751, 0.9340, 0.8244]]])"
            ]
          },
          "metadata": {},
          "execution_count": 18
        }
      ]
    },
    {
      "cell_type": "code",
      "source": [
        "#create a tensor of all zeros\n",
        "\n",
        "zeros = torch.zeros(size=(7, 7))\n",
        "zeros"
      ],
      "metadata": {
        "colab": {
          "base_uri": "https://localhost:8080/"
        },
        "id": "h3AbkgOlIMqg",
        "outputId": "6495c9d2-a3ca-45fa-e523-9e2e2cd6c84e"
      },
      "execution_count": 19,
      "outputs": [
        {
          "output_type": "execute_result",
          "data": {
            "text/plain": [
              "tensor([[0., 0., 0., 0., 0., 0., 0.],\n",
              "        [0., 0., 0., 0., 0., 0., 0.],\n",
              "        [0., 0., 0., 0., 0., 0., 0.],\n",
              "        [0., 0., 0., 0., 0., 0., 0.],\n",
              "        [0., 0., 0., 0., 0., 0., 0.],\n",
              "        [0., 0., 0., 0., 0., 0., 0.],\n",
              "        [0., 0., 0., 0., 0., 0., 0.]])"
            ]
          },
          "metadata": {},
          "execution_count": 19
        }
      ]
    },
    {
      "cell_type": "code",
      "source": [
        "#create a tensor of all ones\n",
        "\n",
        "ones= torch.ones(size=(3, 4))\n",
        "ones"
      ],
      "metadata": {
        "colab": {
          "base_uri": "https://localhost:8080/"
        },
        "id": "qriy4rHOI4Hb",
        "outputId": "8ccd85f9-6449-4fe0-cda8-7cd0c7086f54"
      },
      "execution_count": 20,
      "outputs": [
        {
          "output_type": "execute_result",
          "data": {
            "text/plain": [
              "tensor([[1., 1., 1., 1.],\n",
              "        [1., 1., 1., 1.],\n",
              "        [1., 1., 1., 1.]])"
            ]
          },
          "metadata": {},
          "execution_count": 20
        }
      ]
    },
    {
      "cell_type": "code",
      "source": [
        "#use torch.range\n",
        "torch.range(0, 10)"
      ],
      "metadata": {
        "colab": {
          "base_uri": "https://localhost:8080/"
        },
        "id": "UVo3AU_gJkM5",
        "outputId": "65db9cde-e892-436e-cd54-874685ebf3d0"
      },
      "execution_count": 21,
      "outputs": [
        {
          "output_type": "stream",
          "name": "stderr",
          "text": [
            "<ipython-input-21-a089c3bf7207>:2: UserWarning: torch.range is deprecated and will be removed in a future release because its behavior is inconsistent with Python's range builtin. Instead, use torch.arange, which produces values in [start, end).\n",
            "  torch.range(0, 10)\n"
          ]
        },
        {
          "output_type": "execute_result",
          "data": {
            "text/plain": [
              "tensor([ 0.,  1.,  2.,  3.,  4.,  5.,  6.,  7.,  8.,  9., 10.])"
            ]
          },
          "metadata": {},
          "execution_count": 21
        }
      ]
    },
    {
      "cell_type": "code",
      "source": [
        "one_to_ten= torch.arange(start=0, end= 10000, step=100)\n",
        "one_to_ten"
      ],
      "metadata": {
        "colab": {
          "base_uri": "https://localhost:8080/"
        },
        "id": "IVbC4HI5lez_",
        "outputId": "0bf3990b-eeed-41af-9439-40b3c9a4d084"
      },
      "execution_count": 22,
      "outputs": [
        {
          "output_type": "execute_result",
          "data": {
            "text/plain": [
              "tensor([   0,  100,  200,  300,  400,  500,  600,  700,  800,  900, 1000, 1100,\n",
              "        1200, 1300, 1400, 1500, 1600, 1700, 1800, 1900, 2000, 2100, 2200, 2300,\n",
              "        2400, 2500, 2600, 2700, 2800, 2900, 3000, 3100, 3200, 3300, 3400, 3500,\n",
              "        3600, 3700, 3800, 3900, 4000, 4100, 4200, 4300, 4400, 4500, 4600, 4700,\n",
              "        4800, 4900, 5000, 5100, 5200, 5300, 5400, 5500, 5600, 5700, 5800, 5900,\n",
              "        6000, 6100, 6200, 6300, 6400, 6500, 6600, 6700, 6800, 6900, 7000, 7100,\n",
              "        7200, 7300, 7400, 7500, 7600, 7700, 7800, 7900, 8000, 8100, 8200, 8300,\n",
              "        8400, 8500, 8600, 8700, 8800, 8900, 9000, 9100, 9200, 9300, 9400, 9500,\n",
              "        9600, 9700, 9800, 9900])"
            ]
          },
          "metadata": {},
          "execution_count": 22
        }
      ]
    },
    {
      "cell_type": "code",
      "source": [
        "#creating tensors like\n",
        "\n",
        "ten_zeros= torch.zeros_like(input=one_to_ten)\n",
        "ten_zeros"
      ],
      "metadata": {
        "colab": {
          "base_uri": "https://localhost:8080/"
        },
        "id": "-t320D_nxgMO",
        "outputId": "65ec8fe3-0771-4807-bab2-f72858bfe15b"
      },
      "execution_count": 23,
      "outputs": [
        {
          "output_type": "execute_result",
          "data": {
            "text/plain": [
              "tensor([0, 0, 0, 0, 0, 0, 0, 0, 0, 0, 0, 0, 0, 0, 0, 0, 0, 0, 0, 0, 0, 0, 0, 0,\n",
              "        0, 0, 0, 0, 0, 0, 0, 0, 0, 0, 0, 0, 0, 0, 0, 0, 0, 0, 0, 0, 0, 0, 0, 0,\n",
              "        0, 0, 0, 0, 0, 0, 0, 0, 0, 0, 0, 0, 0, 0, 0, 0, 0, 0, 0, 0, 0, 0, 0, 0,\n",
              "        0, 0, 0, 0, 0, 0, 0, 0, 0, 0, 0, 0, 0, 0, 0, 0, 0, 0, 0, 0, 0, 0, 0, 0,\n",
              "        0, 0, 0, 0])"
            ]
          },
          "metadata": {},
          "execution_count": 23
        }
      ]
    },
    {
      "cell_type": "markdown",
      "source": [
        "TENSOR DATATYPES\n",
        "\n",
        "Note ❎Tensor datatypes are one of the 3 big issues you will run into with PyTorch and deep learning\n",
        "\n",
        "1. Tensors not the right datatype\n",
        "2. Tensors not the right shape\n",
        "3. tensors not on the right devices"
      ],
      "metadata": {
        "id": "W1xhcBo0yFuK"
      }
    },
    {
      "cell_type": "code",
      "source": [
        "float_32_tensor= torch.tensor([3.0, 6.0, 7.0],\n",
        "                              dtype=torch.float32,\n",
        "                              device= None,\n",
        "                              requires_grad=False\n",
        "                              )\n",
        "\n",
        "float_32_tensor"
      ],
      "metadata": {
        "colab": {
          "base_uri": "https://localhost:8080/"
        },
        "id": "D-hfiKRNx91P",
        "outputId": "94218bfa-39f7-4830-eca9-6f32ec610ebd"
      },
      "execution_count": 24,
      "outputs": [
        {
          "output_type": "execute_result",
          "data": {
            "text/plain": [
              "tensor([3., 6., 7.])"
            ]
          },
          "metadata": {},
          "execution_count": 24
        }
      ]
    },
    {
      "cell_type": "code",
      "source": [
        "float_16_tensor= float_32_tensor.type(torch.float16)\n",
        "float_16_tensor"
      ],
      "metadata": {
        "colab": {
          "base_uri": "https://localhost:8080/"
        },
        "id": "scN1o8iR3-h8",
        "outputId": "a0a3978a-11b7-46a8-f373-f035ee6db8a7"
      },
      "execution_count": 25,
      "outputs": [
        {
          "output_type": "execute_result",
          "data": {
            "text/plain": [
              "tensor([3., 6., 7.], dtype=torch.float16)"
            ]
          },
          "metadata": {},
          "execution_count": 25
        }
      ]
    },
    {
      "cell_type": "code",
      "source": [
        "float_32_tensor*float_16_tensor"
      ],
      "metadata": {
        "colab": {
          "base_uri": "https://localhost:8080/"
        },
        "id": "PNEpA5Dv4TNb",
        "outputId": "3c0598d2-0f3c-4438-c923-983c8634651f"
      },
      "execution_count": 26,
      "outputs": [
        {
          "output_type": "execute_result",
          "data": {
            "text/plain": [
              "tensor([ 9., 36., 49.])"
            ]
          },
          "metadata": {},
          "execution_count": 26
        }
      ]
    },
    {
      "cell_type": "code",
      "source": [
        "int_32_tensor= torch.tensor([3, 6, 9],\n",
        "                            dtype= torch.long)\n",
        "int_32_tensor"
      ],
      "metadata": {
        "colab": {
          "base_uri": "https://localhost:8080/"
        },
        "id": "EMB17aRS4cYA",
        "outputId": "c6bd56aa-3a2a-49b3-c297-be88a422fd7f"
      },
      "execution_count": 27,
      "outputs": [
        {
          "output_type": "execute_result",
          "data": {
            "text/plain": [
              "tensor([3, 6, 9])"
            ]
          },
          "metadata": {},
          "execution_count": 27
        }
      ]
    },
    {
      "cell_type": "code",
      "source": [
        "float_32_tensor*int_32_tensor"
      ],
      "metadata": {
        "colab": {
          "base_uri": "https://localhost:8080/"
        },
        "id": "3bg8rAy847kR",
        "outputId": "2928cb6c-6b51-4ec1-8362-7e3eb5b832d6"
      },
      "execution_count": 28,
      "outputs": [
        {
          "output_type": "execute_result",
          "data": {
            "text/plain": [
              "tensor([ 9., 36., 63.])"
            ]
          },
          "metadata": {},
          "execution_count": 28
        }
      ]
    },
    {
      "cell_type": "code",
      "source": [
        "float_32_tensor.shape"
      ],
      "metadata": {
        "colab": {
          "base_uri": "https://localhost:8080/"
        },
        "id": "cvHKxIrW6A5Y",
        "outputId": "0c607da7-ba9c-404c-a3f2-72c468c0ca6a"
      },
      "execution_count": 29,
      "outputs": [
        {
          "output_type": "execute_result",
          "data": {
            "text/plain": [
              "torch.Size([3])"
            ]
          },
          "metadata": {},
          "execution_count": 29
        }
      ]
    },
    {
      "cell_type": "markdown",
      "source": [
        "GETTING INFORMATION FROM TENSORS"
      ],
      "metadata": {
        "id": "tSnrSszpO2qq"
      }
    },
    {
      "cell_type": "code",
      "source": [
        "some_tensor= torch.rand(5, 7)\n",
        "some_tensor"
      ],
      "metadata": {
        "colab": {
          "base_uri": "https://localhost:8080/"
        },
        "id": "Lh0YhrHAOZd4",
        "outputId": "4960cb11-c06e-48f6-fe5e-c91989f0796a"
      },
      "execution_count": 30,
      "outputs": [
        {
          "output_type": "execute_result",
          "data": {
            "text/plain": [
              "tensor([[0.1902, 0.9525, 0.3161, 0.7942, 0.7200, 0.6685, 0.6451],\n",
              "        [0.7412, 0.0298, 0.7904, 0.0891, 0.6905, 0.2464, 0.4193],\n",
              "        [0.5155, 0.9149, 0.7861, 0.9954, 0.7756, 0.7719, 0.5697],\n",
              "        [0.7154, 0.0712, 0.2413, 0.3361, 0.6007, 0.8038, 0.1144],\n",
              "        [0.5375, 0.3212, 0.2681, 0.3936, 0.6717, 0.4483, 0.7149]])"
            ]
          },
          "metadata": {},
          "execution_count": 30
        }
      ]
    },
    {
      "cell_type": "code",
      "source": [
        "print(some_tensor)\n",
        "print(f\"Datatype is {some_tensor.dtype}\"  )\n",
        "print(f\"shape is {some_tensor.shape}\" )\n",
        "print(f\"device is {some_tensor.device}\" )\n",
        "\n"
      ],
      "metadata": {
        "colab": {
          "base_uri": "https://localhost:8080/"
        },
        "id": "hG8GCW2TPUV9",
        "outputId": "4333bb05-1e44-4897-bd1b-0af54e9c4919"
      },
      "execution_count": 31,
      "outputs": [
        {
          "output_type": "stream",
          "name": "stdout",
          "text": [
            "tensor([[0.1902, 0.9525, 0.3161, 0.7942, 0.7200, 0.6685, 0.6451],\n",
            "        [0.7412, 0.0298, 0.7904, 0.0891, 0.6905, 0.2464, 0.4193],\n",
            "        [0.5155, 0.9149, 0.7861, 0.9954, 0.7756, 0.7719, 0.5697],\n",
            "        [0.7154, 0.0712, 0.2413, 0.3361, 0.6007, 0.8038, 0.1144],\n",
            "        [0.5375, 0.3212, 0.2681, 0.3936, 0.6717, 0.4483, 0.7149]])\n",
            "Datatype is torch.float32\n",
            "shape is torch.Size([5, 7])\n",
            "device is cpu\n"
          ]
        }
      ]
    },
    {
      "cell_type": "markdown",
      "source": [
        "MANIPULATING TENSORS\n",
        "\n",
        "one can multiply\n",
        "divide\n",
        "add\n",
        "subtract\n",
        "matrix multiplication"
      ],
      "metadata": {
        "id": "U8HR6TTmSScP"
      }
    },
    {
      "cell_type": "code",
      "source": [
        "#create tensor\n",
        "\n",
        "tensor= torch.tensor([7, 7, 8])\n",
        "tensor+ 100"
      ],
      "metadata": {
        "colab": {
          "base_uri": "https://localhost:8080/"
        },
        "id": "zePa3kGeQgrI",
        "outputId": "d6fac976-ae68-4133-a9da-bbbed1a9a703"
      },
      "execution_count": 32,
      "outputs": [
        {
          "output_type": "execute_result",
          "data": {
            "text/plain": [
              "tensor([107, 107, 108])"
            ]
          },
          "metadata": {},
          "execution_count": 32
        }
      ]
    },
    {
      "cell_type": "code",
      "source": [
        "tensor + 10"
      ],
      "metadata": {
        "colab": {
          "base_uri": "https://localhost:8080/"
        },
        "id": "1fzuMdIXQRMe",
        "outputId": "73fd3869-7358-4e08-a096-a2f45906ce92"
      },
      "execution_count": 33,
      "outputs": [
        {
          "output_type": "execute_result",
          "data": {
            "text/plain": [
              "tensor([17, 17, 18])"
            ]
          },
          "metadata": {},
          "execution_count": 33
        }
      ]
    },
    {
      "cell_type": "code",
      "source": [
        "tensor/2"
      ],
      "metadata": {
        "colab": {
          "base_uri": "https://localhost:8080/"
        },
        "id": "BYUv9c8DTDKv",
        "outputId": "67a988e4-e540-46d9-c4cd-2e3d70c427ad"
      },
      "execution_count": 34,
      "outputs": [
        {
          "output_type": "execute_result",
          "data": {
            "text/plain": [
              "tensor([3.5000, 3.5000, 4.0000])"
            ]
          },
          "metadata": {},
          "execution_count": 34
        }
      ]
    },
    {
      "cell_type": "code",
      "source": [
        "tensor- 10"
      ],
      "metadata": {
        "colab": {
          "base_uri": "https://localhost:8080/"
        },
        "id": "ZWS_H7U6TIVl",
        "outputId": "aca410da-ec54-4bc2-8093-2c6f2298a9ad"
      },
      "execution_count": 35,
      "outputs": [
        {
          "output_type": "execute_result",
          "data": {
            "text/plain": [
              "tensor([-3, -3, -2])"
            ]
          },
          "metadata": {},
          "execution_count": 35
        }
      ]
    },
    {
      "cell_type": "code",
      "source": [
        "# using pytorch in built functions\n",
        "\n",
        "print(torch.add(tensor, 20))\n",
        "print(torch.mul(tensor, 2))\n",
        "print(torch.sub(tensor, 2))\n",
        "print(torch.div(tensor, 7))"
      ],
      "metadata": {
        "colab": {
          "base_uri": "https://localhost:8080/"
        },
        "id": "r-jEVuOdTNtX",
        "outputId": "8e8e3473-9ebb-4af0-99bf-7114a56a10d3"
      },
      "execution_count": 36,
      "outputs": [
        {
          "output_type": "stream",
          "name": "stdout",
          "text": [
            "tensor([27, 27, 28])\n",
            "tensor([14, 14, 16])\n",
            "tensor([5, 5, 6])\n",
            "tensor([1.0000, 1.0000, 1.1429])\n"
          ]
        }
      ]
    },
    {
      "cell_type": "code",
      "source": [
        "#MATRIX MULTIPLICATION/ dot product\n",
        "print(tensor , \"*\", tensor)\n",
        "print(f\"equals: {tensor*tensor}\")\n"
      ],
      "metadata": {
        "id": "dcTTUOOxTmf9",
        "colab": {
          "base_uri": "https://localhost:8080/"
        },
        "outputId": "13ebd22f-04ac-49ee-eab7-38b4bfb71cd3"
      },
      "execution_count": 37,
      "outputs": [
        {
          "output_type": "stream",
          "name": "stdout",
          "text": [
            "tensor([7, 7, 8]) * tensor([7, 7, 8])\n",
            "equals: tensor([49, 49, 64])\n"
          ]
        }
      ]
    },
    {
      "cell_type": "code",
      "source": [
        "torch.matmul(tensor, tensor)"
      ],
      "metadata": {
        "colab": {
          "base_uri": "https://localhost:8080/"
        },
        "id": "XDExtJcbW_re",
        "outputId": "3ee7b7ba-ccab-4864-c2c0-f8b75510a4b5"
      },
      "execution_count": 38,
      "outputs": [
        {
          "output_type": "execute_result",
          "data": {
            "text/plain": [
              "tensor(162)"
            ]
          },
          "metadata": {},
          "execution_count": 38
        }
      ]
    },
    {
      "cell_type": "markdown",
      "source": [
        "One of the most common errors in deep learning: shape errors"
      ],
      "metadata": {
        "id": "CgW_PxkfbiOe"
      }
    },
    {
      "cell_type": "code",
      "source": [
        "#Shapes for matrix multiplication\n",
        "tensor_A= torch.tensor([[1,4],\n",
        "                       [7,7],\n",
        "                       [8,9]])\n",
        "\n",
        "tensor_B= torch.tensor([[1,8],\n",
        "                        [8,0],\n",
        "                        [9,8]])\n",
        "\n",
        "torch.mm(tensor_A,tensor_B)"
      ],
      "metadata": {
        "colab": {
          "base_uri": "https://localhost:8080/",
          "height": 200
        },
        "id": "xiBYOAXVXKrf",
        "outputId": "a83e6692-e563-45e2-e2b5-283540604045"
      },
      "execution_count": 39,
      "outputs": [
        {
          "output_type": "error",
          "ename": "RuntimeError",
          "evalue": "ignored",
          "traceback": [
            "\u001b[0;31m---------------------------------------------------------------------------\u001b[0m",
            "\u001b[0;31mRuntimeError\u001b[0m                              Traceback (most recent call last)",
            "\u001b[0;32m<ipython-input-39-7afecf4259d7>\u001b[0m in \u001b[0;36m<cell line: 10>\u001b[0;34m()\u001b[0m\n\u001b[1;32m      8\u001b[0m                         [9,8]])\n\u001b[1;32m      9\u001b[0m \u001b[0;34m\u001b[0m\u001b[0m\n\u001b[0;32m---> 10\u001b[0;31m \u001b[0mtorch\u001b[0m\u001b[0;34m.\u001b[0m\u001b[0mmm\u001b[0m\u001b[0;34m(\u001b[0m\u001b[0mtensor_A\u001b[0m\u001b[0;34m,\u001b[0m\u001b[0mtensor_B\u001b[0m\u001b[0;34m)\u001b[0m\u001b[0;34m\u001b[0m\u001b[0;34m\u001b[0m\u001b[0m\n\u001b[0m",
            "\u001b[0;31mRuntimeError\u001b[0m: mat1 and mat2 shapes cannot be multiplied (3x2 and 3x2)"
          ]
        }
      ]
    },
    {
      "cell_type": "code",
      "source": [
        "tensor_B.shape , tensor_A.shape"
      ],
      "metadata": {
        "colab": {
          "base_uri": "https://localhost:8080/"
        },
        "id": "UonhJp2vcqPv",
        "outputId": "8657899d-63c8-44ea-bfef-3e02d1ed6c28"
      },
      "execution_count": 40,
      "outputs": [
        {
          "output_type": "execute_result",
          "data": {
            "text/plain": [
              "(torch.Size([3, 2]), torch.Size([3, 2]))"
            ]
          },
          "metadata": {},
          "execution_count": 40
        }
      ]
    },
    {
      "cell_type": "markdown",
      "source": [
        "to fix the shape issues , we can multiply the shape of one of our tensors using a **transpose**\n",
        "\n",
        "**Transpose **switches axis of one the tensors"
      ],
      "metadata": {
        "id": "SpoPeomac7yt"
      }
    },
    {
      "cell_type": "code",
      "source": [
        "tensor_A.T"
      ],
      "metadata": {
        "colab": {
          "base_uri": "https://localhost:8080/"
        },
        "id": "V7akRqNNc3Xn",
        "outputId": "8082e174-056b-4ee3-dd9c-ec3c83e38619"
      },
      "execution_count": 41,
      "outputs": [
        {
          "output_type": "execute_result",
          "data": {
            "text/plain": [
              "tensor([[1, 7, 8],\n",
              "        [4, 7, 9]])"
            ]
          },
          "metadata": {},
          "execution_count": 41
        }
      ]
    },
    {
      "cell_type": "code",
      "source": [
        "torch.mm(tensor_A.T, tensor_B)"
      ],
      "metadata": {
        "colab": {
          "base_uri": "https://localhost:8080/"
        },
        "id": "coi-PW2Mde98",
        "outputId": "71353323-10e4-4918-ded6-fe1b8f943258"
      },
      "execution_count": 42,
      "outputs": [
        {
          "output_type": "execute_result",
          "data": {
            "text/plain": [
              "tensor([[129,  72],\n",
              "        [141, 104]])"
            ]
          },
          "metadata": {},
          "execution_count": 42
        }
      ]
    },
    {
      "cell_type": "code",
      "source": [
        "tensor_C=(tensor_B.T)\n",
        "tensor_C.shape"
      ],
      "metadata": {
        "colab": {
          "base_uri": "https://localhost:8080/"
        },
        "id": "DyLDAjLld4-q",
        "outputId": "618a6bf1-bce3-4afd-9097-2ddb1766c4eb"
      },
      "execution_count": 43,
      "outputs": [
        {
          "output_type": "execute_result",
          "data": {
            "text/plain": [
              "torch.Size([2, 3])"
            ]
          },
          "metadata": {},
          "execution_count": 43
        }
      ]
    },
    {
      "cell_type": "markdown",
      "source": [
        "TENSOR AGGREGATION"
      ],
      "metadata": {
        "id": "y7YpO5o8R1le"
      }
    },
    {
      "cell_type": "code",
      "source": [],
      "metadata": {
        "id": "Hir1dkqjRzKA"
      },
      "execution_count": null,
      "outputs": []
    }
  ]
}