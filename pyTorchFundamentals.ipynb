{
  "nbformat": 4,
  "nbformat_minor": 0,
  "metadata": {
    "colab": {
      "provenance": [],
      "gpuType": "T4",
      "authorship_tag": "ABX9TyNvOCqmckhitcm6PHRkZbG8",
      "include_colab_link": true
    },
    "kernelspec": {
      "name": "python3",
      "display_name": "Python 3"
    },
    "language_info": {
      "name": "python"
    }
  },
  "cells": [
    {
      "cell_type": "markdown",
      "metadata": {
        "id": "view-in-github",
        "colab_type": "text"
      },
      "source": [
        "<a href=\"https://colab.research.google.com/github/Fidel-Leanne/pyTorch/blob/master/pyTorchFundamentals.ipynb\" target=\"_parent\"><img src=\"https://colab.research.google.com/assets/colab-badge.svg\" alt=\"Open In Colab\"/></a>"
      ]
    },
    {
      "cell_type": "markdown",
      "source": [
        "pyTorch intro"
      ],
      "metadata": {
        "id": "l48euTLa7IjC"
      }
    },
    {
      "cell_type": "code",
      "source": [
        "import torch\n",
        "import pandas as pd\n",
        "import matplotlib.pyplot as plt\n",
        "import numpy as np\n",
        "\n",
        "print(torch.__version__)"
      ],
      "metadata": {
        "colab": {
          "base_uri": "https://localhost:8080/"
        },
        "id": "u7AkQqy57OhP",
        "outputId": "1539d490-e491-46cb-ef67-e2962377ea0f"
      },
      "execution_count": 1,
      "outputs": [
        {
          "output_type": "stream",
          "name": "stdout",
          "text": [
            "2.0.1+cu118\n"
          ]
        }
      ]
    },
    {
      "cell_type": "markdown",
      "source": [
        "Introduction to Tensors:"
      ],
      "metadata": {
        "id": "ivmEgReu8yER"
      }
    },
    {
      "cell_type": "markdown",
      "source": [
        "Creating Tensors"
      ],
      "metadata": {
        "id": "icqD-TuO9EFe"
      }
    },
    {
      "cell_type": "code",
      "source": [
        "# scalar\n",
        "\n",
        "scalar= torch.tensor(7)\n",
        "scalar"
      ],
      "metadata": {
        "colab": {
          "base_uri": "https://localhost:8080/"
        },
        "id": "4agoO1wK9MQM",
        "outputId": "9d18ddb7-6ced-4f2c-ecc8-c29e70a31453"
      },
      "execution_count": 2,
      "outputs": [
        {
          "output_type": "execute_result",
          "data": {
            "text/plain": [
              "tensor(7)"
            ]
          },
          "metadata": {},
          "execution_count": 2
        }
      ]
    },
    {
      "cell_type": "code",
      "source": [
        "scalar.ndim"
      ],
      "metadata": {
        "colab": {
          "base_uri": "https://localhost:8080/"
        },
        "id": "OXxaLWUN-5mw",
        "outputId": "1492474e-8e68-4c48-eae0-cf255bf02579"
      },
      "execution_count": 3,
      "outputs": [
        {
          "output_type": "execute_result",
          "data": {
            "text/plain": [
              "0"
            ]
          },
          "metadata": {},
          "execution_count": 3
        }
      ]
    },
    {
      "cell_type": "code",
      "source": [
        "scalar.item()"
      ],
      "metadata": {
        "colab": {
          "base_uri": "https://localhost:8080/"
        },
        "id": "78z8XtGM_QIN",
        "outputId": "da197a67-2918-4173-9032-db5475622490"
      },
      "execution_count": 4,
      "outputs": [
        {
          "output_type": "execute_result",
          "data": {
            "text/plain": [
              "7"
            ]
          },
          "metadata": {},
          "execution_count": 4
        }
      ]
    },
    {
      "cell_type": "code",
      "source": [
        "#vector \n",
        "\n",
        "vector= torch.tensor([7, 7])\n",
        "vector"
      ],
      "metadata": {
        "colab": {
          "base_uri": "https://localhost:8080/"
        },
        "id": "eQInpGyz_ZwI",
        "outputId": "b82457de-69ff-4911-8e7d-1e979bfe69ec"
      },
      "execution_count": 5,
      "outputs": [
        {
          "output_type": "execute_result",
          "data": {
            "text/plain": [
              "tensor([7, 7])"
            ]
          },
          "metadata": {},
          "execution_count": 5
        }
      ]
    },
    {
      "cell_type": "code",
      "source": [
        "vector.ndim"
      ],
      "metadata": {
        "colab": {
          "base_uri": "https://localhost:8080/"
        },
        "id": "6ANGQnOO_3Kr",
        "outputId": "bea2f1f9-6969-462e-b0cb-190a5553e4db"
      },
      "execution_count": 6,
      "outputs": [
        {
          "output_type": "execute_result",
          "data": {
            "text/plain": [
              "1"
            ]
          },
          "metadata": {},
          "execution_count": 6
        }
      ]
    },
    {
      "cell_type": "code",
      "source": [
        "vector.shape"
      ],
      "metadata": {
        "colab": {
          "base_uri": "https://localhost:8080/"
        },
        "id": "XVuY6wPSADjq",
        "outputId": "cbddce4b-3461-49b9-e5af-427a8cf09174"
      },
      "execution_count": 7,
      "outputs": [
        {
          "output_type": "execute_result",
          "data": {
            "text/plain": [
              "torch.Size([2])"
            ]
          },
          "metadata": {},
          "execution_count": 7
        }
      ]
    },
    {
      "cell_type": "code",
      "source": [
        "#MATRIX\n",
        "MATRIX = torch.tensor([[8 , 0],\n",
        "                      [7, 9]])\n",
        "\n",
        "MATRIX\n"
      ],
      "metadata": {
        "colab": {
          "base_uri": "https://localhost:8080/"
        },
        "id": "sru8CQSMALTB",
        "outputId": "88ffda5b-b860-4b03-ec5b-973fc9ff44e2"
      },
      "execution_count": 8,
      "outputs": [
        {
          "output_type": "execute_result",
          "data": {
            "text/plain": [
              "tensor([[8, 0],\n",
              "        [7, 9]])"
            ]
          },
          "metadata": {},
          "execution_count": 8
        }
      ]
    },
    {
      "cell_type": "code",
      "source": [
        "MATRIX.ndim"
      ],
      "metadata": {
        "colab": {
          "base_uri": "https://localhost:8080/"
        },
        "id": "2NUkdFigAqSD",
        "outputId": "49a357ef-3e02-43a9-ce56-9ea638ef31ce"
      },
      "execution_count": 9,
      "outputs": [
        {
          "output_type": "execute_result",
          "data": {
            "text/plain": [
              "2"
            ]
          },
          "metadata": {},
          "execution_count": 9
        }
      ]
    },
    {
      "cell_type": "code",
      "source": [
        "MATRIX[0]"
      ],
      "metadata": {
        "colab": {
          "base_uri": "https://localhost:8080/"
        },
        "id": "6kPDSnqDAvxK",
        "outputId": "1576eefa-271b-4457-e67b-2fa3d215a5da"
      },
      "execution_count": 10,
      "outputs": [
        {
          "output_type": "execute_result",
          "data": {
            "text/plain": [
              "tensor([8, 0])"
            ]
          },
          "metadata": {},
          "execution_count": 10
        }
      ]
    },
    {
      "cell_type": "code",
      "source": [
        "MATRIX.shape"
      ],
      "metadata": {
        "colab": {
          "base_uri": "https://localhost:8080/"
        },
        "id": "69cRLFgLA2bf",
        "outputId": "317acbab-6f63-4409-e824-281e7c5528b0"
      },
      "execution_count": 11,
      "outputs": [
        {
          "output_type": "execute_result",
          "data": {
            "text/plain": [
              "torch.Size([2, 2])"
            ]
          },
          "metadata": {},
          "execution_count": 11
        }
      ]
    },
    {
      "cell_type": "code",
      "source": [
        "#TENSOR\n",
        "TENSOR = torch.tensor([[[5, 9 ,7],\n",
        "                        [7, 8, 0],\n",
        "                        [8, 9, 9]]])\n",
        "\n",
        "TENSOR"
      ],
      "metadata": {
        "colab": {
          "base_uri": "https://localhost:8080/"
        },
        "id": "xfNSXLI9A-Io",
        "outputId": "0e9f3348-5f64-460b-e35a-971fb451c807"
      },
      "execution_count": 12,
      "outputs": [
        {
          "output_type": "execute_result",
          "data": {
            "text/plain": [
              "tensor([[[5, 9, 7],\n",
              "         [7, 8, 0],\n",
              "         [8, 9, 9]]])"
            ]
          },
          "metadata": {},
          "execution_count": 12
        }
      ]
    },
    {
      "cell_type": "code",
      "source": [
        "TENSOR.ndim"
      ],
      "metadata": {
        "colab": {
          "base_uri": "https://localhost:8080/"
        },
        "id": "pDE7ubJiBhjX",
        "outputId": "6cedf5e7-b2a3-4da2-ba8f-df428f5ee1da"
      },
      "execution_count": 13,
      "outputs": [
        {
          "output_type": "execute_result",
          "data": {
            "text/plain": [
              "3"
            ]
          },
          "metadata": {},
          "execution_count": 13
        }
      ]
    },
    {
      "cell_type": "code",
      "source": [
        "TENSOR.shape"
      ],
      "metadata": {
        "colab": {
          "base_uri": "https://localhost:8080/"
        },
        "id": "Yj24sV3TBu1Y",
        "outputId": "8f655e00-45cb-4209-db65-5a1ec3cccbda"
      },
      "execution_count": 14,
      "outputs": [
        {
          "output_type": "execute_result",
          "data": {
            "text/plain": [
              "torch.Size([1, 3, 3])"
            ]
          },
          "metadata": {},
          "execution_count": 14
        }
      ]
    },
    {
      "cell_type": "markdown",
      "source": [
        "Random Tensors\n",
        "\n",
        "'start with random numbers -> look at data->update random numbers -> look at data- update random numbers"
      ],
      "metadata": {
        "id": "j7lc-FP7FnrH"
      }
    },
    {
      "cell_type": "code",
      "source": [
        "# create a random tensor\n",
        "\n",
        "random_tensor = torch.rand(7, 7)\n",
        "random_tensor"
      ],
      "metadata": {
        "colab": {
          "base_uri": "https://localhost:8080/"
        },
        "id": "aLeSmdI9FrFY",
        "outputId": "095db9ac-80a8-4fc7-a32e-404c1a475526"
      },
      "execution_count": 15,
      "outputs": [
        {
          "output_type": "execute_result",
          "data": {
            "text/plain": [
              "tensor([[0.8663, 0.9252, 0.1288, 0.1564, 0.4604, 0.2909, 0.0434],\n",
              "        [0.4833, 0.3574, 0.7848, 0.6466, 0.1598, 0.1253, 0.2067],\n",
              "        [0.1208, 0.7126, 0.8239, 0.9194, 0.5276, 0.7362, 0.5037],\n",
              "        [0.4316, 0.8482, 0.5588, 0.7286, 0.3285, 0.8092, 0.4939],\n",
              "        [0.3433, 0.8646, 0.8068, 0.7736, 0.2004, 0.0871, 0.8739],\n",
              "        [0.4695, 0.6606, 0.5032, 0.0631, 0.3957, 0.3039, 0.9175],\n",
              "        [0.0463, 0.4369, 0.1808, 0.3608, 0.9422, 0.6186, 0.8094]])"
            ]
          },
          "metadata": {},
          "execution_count": 15
        }
      ]
    },
    {
      "cell_type": "code",
      "source": [
        "random_tensor.ndim"
      ],
      "metadata": {
        "colab": {
          "base_uri": "https://localhost:8080/"
        },
        "id": "kCUVU8-EHDT0",
        "outputId": "670acdc9-1dd0-4fba-ccae-a21106a75456"
      },
      "execution_count": 16,
      "outputs": [
        {
          "output_type": "execute_result",
          "data": {
            "text/plain": [
              "2"
            ]
          },
          "metadata": {},
          "execution_count": 16
        }
      ]
    },
    {
      "cell_type": "code",
      "source": [
        "#create a random tensor with similar shape to an image tensor\n",
        "\n",
        "random_image_size_tensor= torch.rand(size =(222,223, 8))#height, width,color channel\n",
        "random_image_size_tensor.shape , random_image_size_tensor.ndim"
      ],
      "metadata": {
        "colab": {
          "base_uri": "https://localhost:8080/"
        },
        "id": "Uma53_K7HRMB",
        "outputId": "72880aa5-38b3-47d1-d55f-0768982367ea"
      },
      "execution_count": 17,
      "outputs": [
        {
          "output_type": "execute_result",
          "data": {
            "text/plain": [
              "(torch.Size([222, 223, 8]), 3)"
            ]
          },
          "metadata": {},
          "execution_count": 17
        }
      ]
    },
    {
      "cell_type": "code",
      "source": [
        "random_image_size_tensor"
      ],
      "metadata": {
        "colab": {
          "base_uri": "https://localhost:8080/"
        },
        "id": "FFALX49jH8EV",
        "outputId": "1760e6f7-3c4d-4ac4-b2c3-e748a749fb51"
      },
      "execution_count": 18,
      "outputs": [
        {
          "output_type": "execute_result",
          "data": {
            "text/plain": [
              "tensor([[[0.5959, 0.8368, 0.6750,  ..., 0.9748, 0.4222, 0.2103],\n",
              "         [0.8778, 0.3939, 0.9870,  ..., 0.7750, 0.9837, 0.3775],\n",
              "         [0.6747, 0.9073, 0.4863,  ..., 0.0870, 0.9424, 0.9300],\n",
              "         ...,\n",
              "         [0.1772, 0.9316, 0.1274,  ..., 0.7589, 0.9756, 0.8515],\n",
              "         [0.3355, 0.6557, 0.7446,  ..., 0.0788, 0.9970, 0.5394],\n",
              "         [0.5982, 0.0197, 0.5673,  ..., 0.6851, 0.3836, 0.5595]],\n",
              "\n",
              "        [[0.5175, 0.2275, 0.2737,  ..., 0.4784, 0.8364, 0.4812],\n",
              "         [0.5699, 0.5272, 0.6864,  ..., 0.8687, 0.0180, 0.8389],\n",
              "         [0.1389, 0.6871, 0.1633,  ..., 0.5319, 0.6988, 0.2952],\n",
              "         ...,\n",
              "         [0.2862, 0.6148, 0.8029,  ..., 0.2799, 0.8602, 0.1150],\n",
              "         [0.8330, 0.0096, 0.6712,  ..., 0.4560, 0.0783, 0.3331],\n",
              "         [0.9108, 0.1646, 0.5311,  ..., 0.8217, 0.1952, 0.8461]],\n",
              "\n",
              "        [[0.2938, 0.8468, 0.5863,  ..., 0.1472, 0.9131, 0.1371],\n",
              "         [0.9547, 0.2965, 0.7893,  ..., 0.0944, 0.2503, 0.4487],\n",
              "         [0.1637, 0.6947, 0.3066,  ..., 0.4342, 0.3245, 0.8082],\n",
              "         ...,\n",
              "         [0.4510, 0.9424, 0.5084,  ..., 0.8387, 0.2040, 0.6552],\n",
              "         [0.2902, 0.7173, 0.2538,  ..., 0.8662, 0.1874, 0.8285],\n",
              "         [0.7536, 0.1539, 0.9085,  ..., 0.2859, 0.3507, 0.6170]],\n",
              "\n",
              "        ...,\n",
              "\n",
              "        [[0.9105, 0.1306, 0.5476,  ..., 0.8264, 0.1560, 0.8007],\n",
              "         [0.9561, 0.0035, 0.1785,  ..., 0.7396, 0.8105, 0.3897],\n",
              "         [0.4387, 0.7373, 0.2305,  ..., 0.7919, 0.4417, 0.7267],\n",
              "         ...,\n",
              "         [0.6391, 0.6228, 0.7422,  ..., 0.2189, 0.9760, 0.9507],\n",
              "         [0.7972, 0.8225, 0.9380,  ..., 0.4957, 0.8578, 0.1932],\n",
              "         [0.8209, 0.7405, 0.2126,  ..., 0.4243, 0.3924, 0.3943]],\n",
              "\n",
              "        [[0.3126, 0.3577, 0.9144,  ..., 0.7780, 0.7761, 0.7774],\n",
              "         [0.7962, 0.2070, 0.4156,  ..., 0.8490, 0.5049, 0.8380],\n",
              "         [0.3663, 0.1870, 0.9626,  ..., 0.4296, 0.8434, 0.2032],\n",
              "         ...,\n",
              "         [0.0052, 0.6319, 0.5266,  ..., 0.2682, 0.5758, 0.1976],\n",
              "         [0.5709, 0.2809, 0.5991,  ..., 0.8179, 0.2325, 0.9171],\n",
              "         [0.2461, 0.2539, 0.4724,  ..., 0.2033, 0.3764, 0.0344]],\n",
              "\n",
              "        [[0.0518, 0.5374, 0.7905,  ..., 0.3729, 0.8854, 0.3050],\n",
              "         [0.6686, 0.6892, 0.8973,  ..., 0.4795, 0.3768, 0.2002],\n",
              "         [0.6262, 0.2043, 0.6851,  ..., 0.4160, 0.8112, 0.1579],\n",
              "         ...,\n",
              "         [0.7539, 0.9561, 0.4388,  ..., 0.2312, 0.1366, 0.4262],\n",
              "         [0.6878, 0.6715, 0.8957,  ..., 0.0113, 0.4087, 0.0283],\n",
              "         [0.2099, 0.9602, 0.4560,  ..., 0.3393, 0.5778, 0.9237]]])"
            ]
          },
          "metadata": {},
          "execution_count": 18
        }
      ]
    },
    {
      "cell_type": "code",
      "source": [
        "#create a tensor of all zeros\n",
        "\n",
        "zeros = torch.zeros(size=(7, 7))\n",
        "zeros"
      ],
      "metadata": {
        "colab": {
          "base_uri": "https://localhost:8080/"
        },
        "id": "h3AbkgOlIMqg",
        "outputId": "2604af43-2e48-4c4d-fddb-b2ed0d3d28b3"
      },
      "execution_count": 19,
      "outputs": [
        {
          "output_type": "execute_result",
          "data": {
            "text/plain": [
              "tensor([[0., 0., 0., 0., 0., 0., 0.],\n",
              "        [0., 0., 0., 0., 0., 0., 0.],\n",
              "        [0., 0., 0., 0., 0., 0., 0.],\n",
              "        [0., 0., 0., 0., 0., 0., 0.],\n",
              "        [0., 0., 0., 0., 0., 0., 0.],\n",
              "        [0., 0., 0., 0., 0., 0., 0.],\n",
              "        [0., 0., 0., 0., 0., 0., 0.]])"
            ]
          },
          "metadata": {},
          "execution_count": 19
        }
      ]
    },
    {
      "cell_type": "code",
      "source": [
        "#create a tensor of all ones\n",
        "\n",
        "ones= torch.ones(size=(3, 4))\n",
        "ones"
      ],
      "metadata": {
        "colab": {
          "base_uri": "https://localhost:8080/"
        },
        "id": "qriy4rHOI4Hb",
        "outputId": "af16ea00-5ab0-4485-c03f-195e051473ae"
      },
      "execution_count": 20,
      "outputs": [
        {
          "output_type": "execute_result",
          "data": {
            "text/plain": [
              "tensor([[1., 1., 1., 1.],\n",
              "        [1., 1., 1., 1.],\n",
              "        [1., 1., 1., 1.]])"
            ]
          },
          "metadata": {},
          "execution_count": 20
        }
      ]
    },
    {
      "cell_type": "code",
      "source": [
        "#use torch.range\n",
        "torch.range(0, 10)"
      ],
      "metadata": {
        "colab": {
          "base_uri": "https://localhost:8080/"
        },
        "id": "UVo3AU_gJkM5",
        "outputId": "5d4d9f8b-9087-4c3a-d932-b6f05fd0672e"
      },
      "execution_count": 21,
      "outputs": [
        {
          "output_type": "stream",
          "name": "stderr",
          "text": [
            "<ipython-input-21-a089c3bf7207>:2: UserWarning: torch.range is deprecated and will be removed in a future release because its behavior is inconsistent with Python's range builtin. Instead, use torch.arange, which produces values in [start, end).\n",
            "  torch.range(0, 10)\n"
          ]
        },
        {
          "output_type": "execute_result",
          "data": {
            "text/plain": [
              "tensor([ 0.,  1.,  2.,  3.,  4.,  5.,  6.,  7.,  8.,  9., 10.])"
            ]
          },
          "metadata": {},
          "execution_count": 21
        }
      ]
    },
    {
      "cell_type": "code",
      "source": [
        "one_to_ten= torch.arange(start=0, end= 10000, step=100)\n",
        "one_to_ten"
      ],
      "metadata": {
        "colab": {
          "base_uri": "https://localhost:8080/"
        },
        "id": "IVbC4HI5lez_",
        "outputId": "bbac1a44-f35f-42ac-a9bf-a88dd86d2465"
      },
      "execution_count": 22,
      "outputs": [
        {
          "output_type": "execute_result",
          "data": {
            "text/plain": [
              "tensor([   0,  100,  200,  300,  400,  500,  600,  700,  800,  900, 1000, 1100,\n",
              "        1200, 1300, 1400, 1500, 1600, 1700, 1800, 1900, 2000, 2100, 2200, 2300,\n",
              "        2400, 2500, 2600, 2700, 2800, 2900, 3000, 3100, 3200, 3300, 3400, 3500,\n",
              "        3600, 3700, 3800, 3900, 4000, 4100, 4200, 4300, 4400, 4500, 4600, 4700,\n",
              "        4800, 4900, 5000, 5100, 5200, 5300, 5400, 5500, 5600, 5700, 5800, 5900,\n",
              "        6000, 6100, 6200, 6300, 6400, 6500, 6600, 6700, 6800, 6900, 7000, 7100,\n",
              "        7200, 7300, 7400, 7500, 7600, 7700, 7800, 7900, 8000, 8100, 8200, 8300,\n",
              "        8400, 8500, 8600, 8700, 8800, 8900, 9000, 9100, 9200, 9300, 9400, 9500,\n",
              "        9600, 9700, 9800, 9900])"
            ]
          },
          "metadata": {},
          "execution_count": 22
        }
      ]
    },
    {
      "cell_type": "code",
      "source": [
        "#creating tensors like\n",
        "\n",
        "ten_zeros= torch.zeros_like(input=one_to_ten)\n",
        "ten_zeros"
      ],
      "metadata": {
        "colab": {
          "base_uri": "https://localhost:8080/"
        },
        "id": "-t320D_nxgMO",
        "outputId": "ec205718-9e01-4e25-b30e-8d8e982b2e8c"
      },
      "execution_count": 23,
      "outputs": [
        {
          "output_type": "execute_result",
          "data": {
            "text/plain": [
              "tensor([0, 0, 0, 0, 0, 0, 0, 0, 0, 0, 0, 0, 0, 0, 0, 0, 0, 0, 0, 0, 0, 0, 0, 0,\n",
              "        0, 0, 0, 0, 0, 0, 0, 0, 0, 0, 0, 0, 0, 0, 0, 0, 0, 0, 0, 0, 0, 0, 0, 0,\n",
              "        0, 0, 0, 0, 0, 0, 0, 0, 0, 0, 0, 0, 0, 0, 0, 0, 0, 0, 0, 0, 0, 0, 0, 0,\n",
              "        0, 0, 0, 0, 0, 0, 0, 0, 0, 0, 0, 0, 0, 0, 0, 0, 0, 0, 0, 0, 0, 0, 0, 0,\n",
              "        0, 0, 0, 0])"
            ]
          },
          "metadata": {},
          "execution_count": 23
        }
      ]
    },
    {
      "cell_type": "markdown",
      "source": [
        "TENSOR DATATYPES\n",
        "\n",
        "Note ❎Tensor datatypes are one of the 3 big issues you will run into with PyTorch and deep learning\n",
        "\n",
        "1. Tensors not the right datatype\n",
        "2. Tensors not the right shape\n",
        "3. tensors not on the right devices"
      ],
      "metadata": {
        "id": "W1xhcBo0yFuK"
      }
    },
    {
      "cell_type": "code",
      "source": [
        "float_32_tensor= torch.tensor([3.0, 6.0, 7.0],\n",
        "                              dtype=torch.float32,\n",
        "                              device= None,\n",
        "                              requires_grad=False\n",
        "                              )\n",
        "\n",
        "float_32_tensor"
      ],
      "metadata": {
        "colab": {
          "base_uri": "https://localhost:8080/"
        },
        "id": "D-hfiKRNx91P",
        "outputId": "9463d896-0517-4697-b3b5-ccbf598f05d7"
      },
      "execution_count": 32,
      "outputs": [
        {
          "output_type": "execute_result",
          "data": {
            "text/plain": [
              "tensor([3., 6., 7.])"
            ]
          },
          "metadata": {},
          "execution_count": 32
        }
      ]
    },
    {
      "cell_type": "code",
      "source": [
        "float_16_tensor= float_32_tensor.type(torch.float16)\n",
        "float_16_tensor"
      ],
      "metadata": {
        "colab": {
          "base_uri": "https://localhost:8080/"
        },
        "id": "scN1o8iR3-h8",
        "outputId": "4b623e83-be6c-4490-dcfe-e499ed04133f"
      },
      "execution_count": 33,
      "outputs": [
        {
          "output_type": "execute_result",
          "data": {
            "text/plain": [
              "tensor([3., 6., 7.], dtype=torch.float16)"
            ]
          },
          "metadata": {},
          "execution_count": 33
        }
      ]
    },
    {
      "cell_type": "code",
      "source": [
        "float_32_tensor*float_16_tensor"
      ],
      "metadata": {
        "colab": {
          "base_uri": "https://localhost:8080/"
        },
        "id": "PNEpA5Dv4TNb",
        "outputId": "c8e9d45b-0cfc-4591-b485-a6f065ed71ba"
      },
      "execution_count": 34,
      "outputs": [
        {
          "output_type": "execute_result",
          "data": {
            "text/plain": [
              "tensor([ 9., 36., 49.])"
            ]
          },
          "metadata": {},
          "execution_count": 34
        }
      ]
    },
    {
      "cell_type": "code",
      "source": [
        "int_32_tensor= torch.tensor([3, 6, 9],\n",
        "                            dtype= torch.long)\n",
        "int_32_tensor"
      ],
      "metadata": {
        "colab": {
          "base_uri": "https://localhost:8080/"
        },
        "id": "EMB17aRS4cYA",
        "outputId": "6a928c10-3811-4bb5-d65e-27cb997bace1"
      },
      "execution_count": 35,
      "outputs": [
        {
          "output_type": "execute_result",
          "data": {
            "text/plain": [
              "tensor([3, 6, 9])"
            ]
          },
          "metadata": {},
          "execution_count": 35
        }
      ]
    },
    {
      "cell_type": "code",
      "source": [
        "float_32_tensor*int_32_tensor"
      ],
      "metadata": {
        "colab": {
          "base_uri": "https://localhost:8080/"
        },
        "id": "3bg8rAy847kR",
        "outputId": "f1171323-8145-46e5-bf44-b6eb7553fdbf"
      },
      "execution_count": 36,
      "outputs": [
        {
          "output_type": "execute_result",
          "data": {
            "text/plain": [
              "tensor([ 9., 36., 63.])"
            ]
          },
          "metadata": {},
          "execution_count": 36
        }
      ]
    },
    {
      "cell_type": "code",
      "source": [
        "float_32_tensor.shape"
      ],
      "metadata": {
        "colab": {
          "base_uri": "https://localhost:8080/"
        },
        "id": "cvHKxIrW6A5Y",
        "outputId": "b3a0d832-6a04-4cb9-b27e-92222d90ce9a"
      },
      "execution_count": 37,
      "outputs": [
        {
          "output_type": "execute_result",
          "data": {
            "text/plain": [
              "torch.Size([3])"
            ]
          },
          "metadata": {},
          "execution_count": 37
        }
      ]
    }
  ]
}