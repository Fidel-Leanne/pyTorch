{
  "nbformat": 4,
  "nbformat_minor": 0,
  "metadata": {
    "colab": {
      "provenance": [],
      "gpuType": "T4",
      "authorship_tag": "ABX9TyNDcvdquKkFFLPM5kbHkbRx"
    },
    "kernelspec": {
      "name": "python3",
      "display_name": "Python 3"
    },
    "language_info": {
      "name": "python"
    },
    "accelerator": "GPU"
  },
  "cells": [
    {
      "cell_type": "markdown",
      "source": [
        "pyTorch intro"
      ],
      "metadata": {
        "id": "l48euTLa7IjC"
      }
    },
    {
      "cell_type": "code",
      "source": [
        "import torch\n",
        "import pandas as pd\n",
        "import matplotlib.pyplot as plt\n",
        "import numpy as np\n",
        "\n",
        "print(torch.__version__)"
      ],
      "metadata": {
        "colab": {
          "base_uri": "https://localhost:8080/"
        },
        "id": "u7AkQqy57OhP",
        "outputId": "c99885b9-d896-4fd1-87da-eb03e18c6a43"
      },
      "execution_count": 1,
      "outputs": [
        {
          "output_type": "stream",
          "name": "stdout",
          "text": [
            "2.0.1+cu118\n"
          ]
        }
      ]
    },
    {
      "cell_type": "markdown",
      "source": [
        "Introduction to Tensors:"
      ],
      "metadata": {
        "id": "ivmEgReu8yER"
      }
    },
    {
      "cell_type": "markdown",
      "source": [
        "Creating Tensors"
      ],
      "metadata": {
        "id": "icqD-TuO9EFe"
      }
    },
    {
      "cell_type": "code",
      "source": [
        "# scalar\n",
        "\n",
        "scalar= torch.tensor(7)\n",
        "scalar"
      ],
      "metadata": {
        "colab": {
          "base_uri": "https://localhost:8080/"
        },
        "id": "4agoO1wK9MQM",
        "outputId": "2c302178-7af9-4ef0-8334-5b73d302ee0b"
      },
      "execution_count": 2,
      "outputs": [
        {
          "output_type": "execute_result",
          "data": {
            "text/plain": [
              "tensor(7)"
            ]
          },
          "metadata": {},
          "execution_count": 2
        }
      ]
    },
    {
      "cell_type": "code",
      "source": [
        "scalar.ndim"
      ],
      "metadata": {
        "colab": {
          "base_uri": "https://localhost:8080/"
        },
        "id": "OXxaLWUN-5mw",
        "outputId": "0d1b54f1-e118-4490-bc3e-073ff58f85d4"
      },
      "execution_count": 3,
      "outputs": [
        {
          "output_type": "execute_result",
          "data": {
            "text/plain": [
              "0"
            ]
          },
          "metadata": {},
          "execution_count": 3
        }
      ]
    },
    {
      "cell_type": "code",
      "source": [
        "scalar.item()"
      ],
      "metadata": {
        "colab": {
          "base_uri": "https://localhost:8080/"
        },
        "id": "78z8XtGM_QIN",
        "outputId": "765e94ea-4089-4485-a753-505955a2423e"
      },
      "execution_count": 4,
      "outputs": [
        {
          "output_type": "execute_result",
          "data": {
            "text/plain": [
              "7"
            ]
          },
          "metadata": {},
          "execution_count": 4
        }
      ]
    },
    {
      "cell_type": "code",
      "source": [
        "#vector\n",
        "\n",
        "vector= torch.tensor([7, 7])\n",
        "vector"
      ],
      "metadata": {
        "colab": {
          "base_uri": "https://localhost:8080/"
        },
        "id": "eQInpGyz_ZwI",
        "outputId": "a41a0b2b-ee93-4fd8-8e42-bfa143e0bb72"
      },
      "execution_count": 5,
      "outputs": [
        {
          "output_type": "execute_result",
          "data": {
            "text/plain": [
              "tensor([7, 7])"
            ]
          },
          "metadata": {},
          "execution_count": 5
        }
      ]
    },
    {
      "cell_type": "code",
      "source": [
        "vector.ndim"
      ],
      "metadata": {
        "colab": {
          "base_uri": "https://localhost:8080/"
        },
        "id": "6ANGQnOO_3Kr",
        "outputId": "6a98946b-1070-47ea-a662-45611f53ac08"
      },
      "execution_count": 6,
      "outputs": [
        {
          "output_type": "execute_result",
          "data": {
            "text/plain": [
              "1"
            ]
          },
          "metadata": {},
          "execution_count": 6
        }
      ]
    },
    {
      "cell_type": "code",
      "source": [
        "vector.shape"
      ],
      "metadata": {
        "colab": {
          "base_uri": "https://localhost:8080/"
        },
        "id": "XVuY6wPSADjq",
        "outputId": "a0517c25-507d-4ac4-a215-e5b77c4a7bff"
      },
      "execution_count": 7,
      "outputs": [
        {
          "output_type": "execute_result",
          "data": {
            "text/plain": [
              "torch.Size([2])"
            ]
          },
          "metadata": {},
          "execution_count": 7
        }
      ]
    },
    {
      "cell_type": "code",
      "source": [
        "#MATRIX\n",
        "MATRIX = torch.tensor([[8 , 0],\n",
        "                      [7, 9]])\n",
        "\n",
        "MATRIX\n"
      ],
      "metadata": {
        "colab": {
          "base_uri": "https://localhost:8080/"
        },
        "id": "sru8CQSMALTB",
        "outputId": "192ce92c-1097-46bc-f401-6c7d19af968f"
      },
      "execution_count": 8,
      "outputs": [
        {
          "output_type": "execute_result",
          "data": {
            "text/plain": [
              "tensor([[8, 0],\n",
              "        [7, 9]])"
            ]
          },
          "metadata": {},
          "execution_count": 8
        }
      ]
    },
    {
      "cell_type": "code",
      "source": [
        "MATRIX.ndim"
      ],
      "metadata": {
        "colab": {
          "base_uri": "https://localhost:8080/"
        },
        "id": "2NUkdFigAqSD",
        "outputId": "5d30326a-660f-483e-8164-01eb957a8bd3"
      },
      "execution_count": 9,
      "outputs": [
        {
          "output_type": "execute_result",
          "data": {
            "text/plain": [
              "2"
            ]
          },
          "metadata": {},
          "execution_count": 9
        }
      ]
    },
    {
      "cell_type": "code",
      "source": [
        "MATRIX[0]"
      ],
      "metadata": {
        "colab": {
          "base_uri": "https://localhost:8080/"
        },
        "id": "6kPDSnqDAvxK",
        "outputId": "2bbc53d1-6cd5-41d0-d8ac-3db2c992ba08"
      },
      "execution_count": 10,
      "outputs": [
        {
          "output_type": "execute_result",
          "data": {
            "text/plain": [
              "tensor([8, 0])"
            ]
          },
          "metadata": {},
          "execution_count": 10
        }
      ]
    },
    {
      "cell_type": "code",
      "source": [
        "MATRIX.shape"
      ],
      "metadata": {
        "colab": {
          "base_uri": "https://localhost:8080/"
        },
        "id": "69cRLFgLA2bf",
        "outputId": "6c6d20ee-7e1b-4796-9c2e-4b2a8c1eb985"
      },
      "execution_count": 11,
      "outputs": [
        {
          "output_type": "execute_result",
          "data": {
            "text/plain": [
              "torch.Size([2, 2])"
            ]
          },
          "metadata": {},
          "execution_count": 11
        }
      ]
    },
    {
      "cell_type": "code",
      "source": [
        "#TENSOR\n",
        "TENSOR = torch.tensor([[[5, 9 ,7],\n",
        "                        [7, 8, 0],\n",
        "                        [8, 9, 9]]])\n",
        "\n",
        "TENSOR"
      ],
      "metadata": {
        "colab": {
          "base_uri": "https://localhost:8080/"
        },
        "id": "xfNSXLI9A-Io",
        "outputId": "8716646a-52a7-49f2-e23f-f100d8651af0"
      },
      "execution_count": 12,
      "outputs": [
        {
          "output_type": "execute_result",
          "data": {
            "text/plain": [
              "tensor([[[5, 9, 7],\n",
              "         [7, 8, 0],\n",
              "         [8, 9, 9]]])"
            ]
          },
          "metadata": {},
          "execution_count": 12
        }
      ]
    },
    {
      "cell_type": "code",
      "source": [
        "TENSOR.ndim"
      ],
      "metadata": {
        "colab": {
          "base_uri": "https://localhost:8080/"
        },
        "id": "pDE7ubJiBhjX",
        "outputId": "eb79000b-8ac5-48d7-b38f-649611fb572d"
      },
      "execution_count": 13,
      "outputs": [
        {
          "output_type": "execute_result",
          "data": {
            "text/plain": [
              "3"
            ]
          },
          "metadata": {},
          "execution_count": 13
        }
      ]
    },
    {
      "cell_type": "code",
      "source": [
        "TENSOR.shape"
      ],
      "metadata": {
        "colab": {
          "base_uri": "https://localhost:8080/"
        },
        "id": "Yj24sV3TBu1Y",
        "outputId": "c4867cee-da4f-4db0-9c75-1426da42e236"
      },
      "execution_count": 14,
      "outputs": [
        {
          "output_type": "execute_result",
          "data": {
            "text/plain": [
              "torch.Size([1, 3, 3])"
            ]
          },
          "metadata": {},
          "execution_count": 14
        }
      ]
    },
    {
      "cell_type": "markdown",
      "source": [
        "Random Tensors\n",
        "\n",
        "'start with random numbers -> look at data->update random numbers -> look at data- update random numbers"
      ],
      "metadata": {
        "id": "j7lc-FP7FnrH"
      }
    },
    {
      "cell_type": "code",
      "source": [
        "# create a random tensor\n",
        "\n",
        "random_tensor = torch.rand(7, 7)\n",
        "random_tensor"
      ],
      "metadata": {
        "colab": {
          "base_uri": "https://localhost:8080/"
        },
        "id": "aLeSmdI9FrFY",
        "outputId": "2d7036f1-673c-4abc-b948-57ba7597e4a4"
      },
      "execution_count": 15,
      "outputs": [
        {
          "output_type": "execute_result",
          "data": {
            "text/plain": [
              "tensor([[0.2044, 0.6520, 0.0901, 0.5637, 0.0819, 0.4195, 0.2261],\n",
              "        [0.5368, 0.6249, 0.3145, 0.5112, 0.7401, 0.2809, 0.6123],\n",
              "        [0.9144, 0.1933, 0.4878, 0.2750, 0.6023, 0.7452, 0.6909],\n",
              "        [0.8498, 0.2023, 0.1505, 0.5958, 0.1966, 0.8797, 0.9289],\n",
              "        [0.4118, 0.7968, 0.8736, 0.1039, 0.5159, 0.0153, 0.7981],\n",
              "        [0.8312, 0.8103, 0.5861, 0.3400, 0.1215, 0.6269, 0.0190],\n",
              "        [0.8297, 0.2027, 0.1032, 0.7184, 0.2430, 0.9277, 0.6011]])"
            ]
          },
          "metadata": {},
          "execution_count": 15
        }
      ]
    },
    {
      "cell_type": "code",
      "source": [
        "random_tensor.ndim"
      ],
      "metadata": {
        "colab": {
          "base_uri": "https://localhost:8080/"
        },
        "id": "kCUVU8-EHDT0",
        "outputId": "ddb8e765-89e5-4577-8d99-a6436fb8c5bb"
      },
      "execution_count": 16,
      "outputs": [
        {
          "output_type": "execute_result",
          "data": {
            "text/plain": [
              "2"
            ]
          },
          "metadata": {},
          "execution_count": 16
        }
      ]
    },
    {
      "cell_type": "code",
      "source": [
        "#create a random tensor with similar shape to an image tensor\n",
        "\n",
        "random_image_size_tensor= torch.rand(size =(222,223, 8))#height, width,color channel\n",
        "random_image_size_tensor.shape , random_image_size_tensor.ndim"
      ],
      "metadata": {
        "colab": {
          "base_uri": "https://localhost:8080/"
        },
        "id": "Uma53_K7HRMB",
        "outputId": "37e5dd98-630f-40fe-e8aa-b69da778e04c"
      },
      "execution_count": 17,
      "outputs": [
        {
          "output_type": "execute_result",
          "data": {
            "text/plain": [
              "(torch.Size([222, 223, 8]), 3)"
            ]
          },
          "metadata": {},
          "execution_count": 17
        }
      ]
    },
    {
      "cell_type": "code",
      "source": [
        "random_image_size_tensor"
      ],
      "metadata": {
        "colab": {
          "base_uri": "https://localhost:8080/"
        },
        "id": "FFALX49jH8EV",
        "outputId": "33141708-7d82-4d8e-903e-1652c3fc4048"
      },
      "execution_count": 18,
      "outputs": [
        {
          "output_type": "execute_result",
          "data": {
            "text/plain": [
              "tensor([[[0.9225, 0.8454, 0.2158,  ..., 0.5217, 0.8321, 0.9437],\n",
              "         [0.4268, 0.0516, 0.2111,  ..., 0.6725, 0.5848, 0.1485],\n",
              "         [0.3114, 0.7991, 0.1233,  ..., 0.4973, 0.9155, 0.3230],\n",
              "         ...,\n",
              "         [0.6020, 0.8826, 0.3968,  ..., 0.0676, 0.9621, 0.1222],\n",
              "         [0.2608, 0.5930, 0.3746,  ..., 0.2593, 0.3478, 0.4673],\n",
              "         [0.2862, 0.8402, 0.7953,  ..., 0.5398, 0.5485, 0.2103]],\n",
              "\n",
              "        [[0.1279, 0.2183, 0.1774,  ..., 0.2081, 0.3860, 0.5953],\n",
              "         [0.8594, 0.3300, 0.9658,  ..., 0.5025, 0.0447, 0.5837],\n",
              "         [0.9784, 0.0157, 0.1871,  ..., 0.7543, 0.9858, 0.2469],\n",
              "         ...,\n",
              "         [0.2251, 0.6419, 0.7102,  ..., 0.1497, 0.8893, 0.0326],\n",
              "         [0.3119, 0.3206, 0.1161,  ..., 0.0724, 0.9448, 0.9803],\n",
              "         [0.6065, 0.8465, 0.9100,  ..., 0.2921, 0.7548, 0.7797]],\n",
              "\n",
              "        [[0.7579, 0.0800, 0.1163,  ..., 0.9551, 0.0148, 0.6806],\n",
              "         [0.2460, 0.9481, 0.4027,  ..., 0.7130, 0.9959, 0.1997],\n",
              "         [0.4804, 0.1989, 0.3531,  ..., 0.5324, 0.5725, 0.5332],\n",
              "         ...,\n",
              "         [0.2029, 0.4211, 0.9567,  ..., 0.9545, 0.3327, 0.7631],\n",
              "         [0.1606, 0.8675, 0.8908,  ..., 0.9448, 0.5362, 0.0097],\n",
              "         [0.6758, 0.2022, 0.9609,  ..., 0.7367, 0.9241, 0.7098]],\n",
              "\n",
              "        ...,\n",
              "\n",
              "        [[0.8435, 0.0272, 0.1659,  ..., 0.3662, 0.8106, 0.7016],\n",
              "         [0.6052, 0.7285, 0.9172,  ..., 0.1806, 0.9644, 0.9858],\n",
              "         [0.9674, 0.6699, 0.0263,  ..., 0.8385, 0.8603, 0.8570],\n",
              "         ...,\n",
              "         [0.0596, 0.4776, 0.2235,  ..., 0.7226, 0.5876, 0.1927],\n",
              "         [0.3945, 0.6102, 0.4442,  ..., 0.1536, 0.2891, 0.0869],\n",
              "         [0.6842, 0.0509, 0.1017,  ..., 0.6816, 0.4238, 0.0112]],\n",
              "\n",
              "        [[0.4079, 0.1369, 0.9765,  ..., 0.3140, 0.6586, 0.6259],\n",
              "         [0.0722, 0.6117, 0.4403,  ..., 0.0470, 0.5151, 0.4974],\n",
              "         [0.9732, 0.4761, 0.4810,  ..., 0.1346, 0.4539, 0.1784],\n",
              "         ...,\n",
              "         [0.0930, 0.3158, 0.6429,  ..., 0.1187, 0.8967, 0.3821],\n",
              "         [0.3995, 0.7948, 0.9438,  ..., 0.2849, 0.9347, 0.7433],\n",
              "         [0.8212, 0.3416, 0.6223,  ..., 0.2582, 0.1970, 0.3915]],\n",
              "\n",
              "        [[0.3377, 0.5407, 0.3927,  ..., 0.9450, 0.1234, 0.2798],\n",
              "         [0.2708, 0.9485, 0.3882,  ..., 0.6549, 0.3743, 0.6745],\n",
              "         [0.5151, 0.0252, 0.7721,  ..., 0.5925, 0.0808, 0.0607],\n",
              "         ...,\n",
              "         [0.4544, 0.2369, 0.6030,  ..., 0.4944, 0.1345, 0.1120],\n",
              "         [0.0652, 0.3576, 0.6790,  ..., 0.2807, 0.7635, 0.3792],\n",
              "         [0.6463, 0.0942, 0.9866,  ..., 0.2169, 0.6755, 0.7114]]])"
            ]
          },
          "metadata": {},
          "execution_count": 18
        }
      ]
    },
    {
      "cell_type": "code",
      "source": [
        "#create a tensor of all zeros\n",
        "\n",
        "zeros = torch.zeros(size=(7, 7))\n",
        "zeros"
      ],
      "metadata": {
        "colab": {
          "base_uri": "https://localhost:8080/"
        },
        "id": "h3AbkgOlIMqg",
        "outputId": "ebf23aa9-7ac6-4b97-ca1f-1028f411b9b8"
      },
      "execution_count": 19,
      "outputs": [
        {
          "output_type": "execute_result",
          "data": {
            "text/plain": [
              "tensor([[0., 0., 0., 0., 0., 0., 0.],\n",
              "        [0., 0., 0., 0., 0., 0., 0.],\n",
              "        [0., 0., 0., 0., 0., 0., 0.],\n",
              "        [0., 0., 0., 0., 0., 0., 0.],\n",
              "        [0., 0., 0., 0., 0., 0., 0.],\n",
              "        [0., 0., 0., 0., 0., 0., 0.],\n",
              "        [0., 0., 0., 0., 0., 0., 0.]])"
            ]
          },
          "metadata": {},
          "execution_count": 19
        }
      ]
    },
    {
      "cell_type": "code",
      "source": [
        "#create a tensor of all ones\n",
        "\n",
        "ones= torch.ones(size=(3, 4))\n",
        "ones"
      ],
      "metadata": {
        "colab": {
          "base_uri": "https://localhost:8080/"
        },
        "id": "qriy4rHOI4Hb",
        "outputId": "1ed55386-839b-4ce8-8b63-e8bf1641a3c3"
      },
      "execution_count": 20,
      "outputs": [
        {
          "output_type": "execute_result",
          "data": {
            "text/plain": [
              "tensor([[1., 1., 1., 1.],\n",
              "        [1., 1., 1., 1.],\n",
              "        [1., 1., 1., 1.]])"
            ]
          },
          "metadata": {},
          "execution_count": 20
        }
      ]
    },
    {
      "cell_type": "code",
      "source": [
        "#use torch.range\n",
        "torch.range(0, 10)"
      ],
      "metadata": {
        "colab": {
          "base_uri": "https://localhost:8080/"
        },
        "id": "UVo3AU_gJkM5",
        "outputId": "2858f387-c46a-4928-a832-7ceda4c12c65"
      },
      "execution_count": 21,
      "outputs": [
        {
          "output_type": "stream",
          "name": "stderr",
          "text": [
            "<ipython-input-21-a089c3bf7207>:2: UserWarning: torch.range is deprecated and will be removed in a future release because its behavior is inconsistent with Python's range builtin. Instead, use torch.arange, which produces values in [start, end).\n",
            "  torch.range(0, 10)\n"
          ]
        },
        {
          "output_type": "execute_result",
          "data": {
            "text/plain": [
              "tensor([ 0.,  1.,  2.,  3.,  4.,  5.,  6.,  7.,  8.,  9., 10.])"
            ]
          },
          "metadata": {},
          "execution_count": 21
        }
      ]
    },
    {
      "cell_type": "code",
      "source": [
        "one_to_ten= torch.arange(start=0, end= 10000, step=100)\n",
        "one_to_ten"
      ],
      "metadata": {
        "colab": {
          "base_uri": "https://localhost:8080/"
        },
        "id": "IVbC4HI5lez_",
        "outputId": "5b30116d-617d-4795-b0a1-c122b294321a"
      },
      "execution_count": 22,
      "outputs": [
        {
          "output_type": "execute_result",
          "data": {
            "text/plain": [
              "tensor([   0,  100,  200,  300,  400,  500,  600,  700,  800,  900, 1000, 1100,\n",
              "        1200, 1300, 1400, 1500, 1600, 1700, 1800, 1900, 2000, 2100, 2200, 2300,\n",
              "        2400, 2500, 2600, 2700, 2800, 2900, 3000, 3100, 3200, 3300, 3400, 3500,\n",
              "        3600, 3700, 3800, 3900, 4000, 4100, 4200, 4300, 4400, 4500, 4600, 4700,\n",
              "        4800, 4900, 5000, 5100, 5200, 5300, 5400, 5500, 5600, 5700, 5800, 5900,\n",
              "        6000, 6100, 6200, 6300, 6400, 6500, 6600, 6700, 6800, 6900, 7000, 7100,\n",
              "        7200, 7300, 7400, 7500, 7600, 7700, 7800, 7900, 8000, 8100, 8200, 8300,\n",
              "        8400, 8500, 8600, 8700, 8800, 8900, 9000, 9100, 9200, 9300, 9400, 9500,\n",
              "        9600, 9700, 9800, 9900])"
            ]
          },
          "metadata": {},
          "execution_count": 22
        }
      ]
    },
    {
      "cell_type": "code",
      "source": [
        "#creating tensors like\n",
        "\n",
        "ten_zeros= torch.zeros_like(input=one_to_ten)\n",
        "ten_zeros"
      ],
      "metadata": {
        "colab": {
          "base_uri": "https://localhost:8080/"
        },
        "id": "-t320D_nxgMO",
        "outputId": "78d3826a-4d66-4d1a-bc53-87ad19895013"
      },
      "execution_count": 23,
      "outputs": [
        {
          "output_type": "execute_result",
          "data": {
            "text/plain": [
              "tensor([0, 0, 0, 0, 0, 0, 0, 0, 0, 0, 0, 0, 0, 0, 0, 0, 0, 0, 0, 0, 0, 0, 0, 0,\n",
              "        0, 0, 0, 0, 0, 0, 0, 0, 0, 0, 0, 0, 0, 0, 0, 0, 0, 0, 0, 0, 0, 0, 0, 0,\n",
              "        0, 0, 0, 0, 0, 0, 0, 0, 0, 0, 0, 0, 0, 0, 0, 0, 0, 0, 0, 0, 0, 0, 0, 0,\n",
              "        0, 0, 0, 0, 0, 0, 0, 0, 0, 0, 0, 0, 0, 0, 0, 0, 0, 0, 0, 0, 0, 0, 0, 0,\n",
              "        0, 0, 0, 0])"
            ]
          },
          "metadata": {},
          "execution_count": 23
        }
      ]
    },
    {
      "cell_type": "markdown",
      "source": [
        "TENSOR DATATYPES\n",
        "\n",
        "Note ❎Tensor datatypes are one of the 3 big issues you will run into with PyTorch and deep learning\n",
        "\n",
        "1. Tensors not the right datatype\n",
        "2. Tensors not the right shape\n",
        "3. tensors not on the right devices"
      ],
      "metadata": {
        "id": "W1xhcBo0yFuK"
      }
    },
    {
      "cell_type": "code",
      "source": [
        "float_32_tensor= torch.tensor([3.0, 6.0, 7.0],\n",
        "                              dtype=torch.float32,\n",
        "                              device= None,\n",
        "                              requires_grad=False\n",
        "                              )\n",
        "\n",
        "float_32_tensor"
      ],
      "metadata": {
        "colab": {
          "base_uri": "https://localhost:8080/"
        },
        "id": "D-hfiKRNx91P",
        "outputId": "2ca70725-f095-400d-8c32-fb8afbe39c07"
      },
      "execution_count": 24,
      "outputs": [
        {
          "output_type": "execute_result",
          "data": {
            "text/plain": [
              "tensor([3., 6., 7.])"
            ]
          },
          "metadata": {},
          "execution_count": 24
        }
      ]
    },
    {
      "cell_type": "code",
      "source": [
        "float_16_tensor= float_32_tensor.type(torch.float16)\n",
        "float_16_tensor"
      ],
      "metadata": {
        "colab": {
          "base_uri": "https://localhost:8080/"
        },
        "id": "scN1o8iR3-h8",
        "outputId": "21815102-5b8a-47e4-ae3c-dcf5f2978e45"
      },
      "execution_count": 25,
      "outputs": [
        {
          "output_type": "execute_result",
          "data": {
            "text/plain": [
              "tensor([3., 6., 7.], dtype=torch.float16)"
            ]
          },
          "metadata": {},
          "execution_count": 25
        }
      ]
    },
    {
      "cell_type": "code",
      "source": [
        "float_32_tensor*float_16_tensor"
      ],
      "metadata": {
        "colab": {
          "base_uri": "https://localhost:8080/"
        },
        "id": "PNEpA5Dv4TNb",
        "outputId": "5e2c23e4-0399-4325-ca28-65757256aca6"
      },
      "execution_count": 26,
      "outputs": [
        {
          "output_type": "execute_result",
          "data": {
            "text/plain": [
              "tensor([ 9., 36., 49.])"
            ]
          },
          "metadata": {},
          "execution_count": 26
        }
      ]
    },
    {
      "cell_type": "code",
      "source": [
        "int_32_tensor= torch.tensor([3, 6, 9],\n",
        "                            dtype= torch.long)\n",
        "int_32_tensor"
      ],
      "metadata": {
        "colab": {
          "base_uri": "https://localhost:8080/"
        },
        "id": "EMB17aRS4cYA",
        "outputId": "231ccd89-51e8-4223-adfc-0b65f95ae76c"
      },
      "execution_count": 27,
      "outputs": [
        {
          "output_type": "execute_result",
          "data": {
            "text/plain": [
              "tensor([3, 6, 9])"
            ]
          },
          "metadata": {},
          "execution_count": 27
        }
      ]
    },
    {
      "cell_type": "code",
      "source": [
        "float_32_tensor*int_32_tensor"
      ],
      "metadata": {
        "colab": {
          "base_uri": "https://localhost:8080/"
        },
        "id": "3bg8rAy847kR",
        "outputId": "b1be448e-ea5c-4dd2-91fc-73c46e849de0"
      },
      "execution_count": 28,
      "outputs": [
        {
          "output_type": "execute_result",
          "data": {
            "text/plain": [
              "tensor([ 9., 36., 63.])"
            ]
          },
          "metadata": {},
          "execution_count": 28
        }
      ]
    },
    {
      "cell_type": "code",
      "source": [
        "float_32_tensor.shape"
      ],
      "metadata": {
        "colab": {
          "base_uri": "https://localhost:8080/"
        },
        "id": "cvHKxIrW6A5Y",
        "outputId": "257b1b01-ab60-47ab-d261-099229dcb922"
      },
      "execution_count": 29,
      "outputs": [
        {
          "output_type": "execute_result",
          "data": {
            "text/plain": [
              "torch.Size([3])"
            ]
          },
          "metadata": {},
          "execution_count": 29
        }
      ]
    },
    {
      "cell_type": "markdown",
      "source": [
        "GETTING INFORMATION FROM TENSORS"
      ],
      "metadata": {
        "id": "tSnrSszpO2qq"
      }
    },
    {
      "cell_type": "code",
      "source": [
        "some_tensor= torch.rand(5, 7)\n",
        "some_tensor"
      ],
      "metadata": {
        "colab": {
          "base_uri": "https://localhost:8080/"
        },
        "id": "Lh0YhrHAOZd4",
        "outputId": "581ac46e-2864-4374-9fd1-5d00dbb6151e"
      },
      "execution_count": 30,
      "outputs": [
        {
          "output_type": "execute_result",
          "data": {
            "text/plain": [
              "tensor([[0.0136, 0.8690, 0.6695, 0.3122, 0.4075, 0.2954, 0.7557],\n",
              "        [0.8370, 0.3399, 0.4387, 0.5656, 0.4659, 0.6552, 0.4965],\n",
              "        [0.5404, 0.6177, 0.8953, 0.6554, 0.7626, 0.7270, 0.7520],\n",
              "        [0.7207, 0.4347, 0.3038, 0.0181, 0.2264, 0.6864, 0.1231],\n",
              "        [0.0216, 0.4228, 0.9314, 0.7500, 0.9685, 0.3282, 0.7785]])"
            ]
          },
          "metadata": {},
          "execution_count": 30
        }
      ]
    },
    {
      "cell_type": "code",
      "source": [
        "print(some_tensor)\n",
        "print(f\"Datatype is {some_tensor.dtype}\"  )\n",
        "print(f\"shape is {some_tensor.shape}\" )\n",
        "print(f\"device is {some_tensor.device}\" )\n",
        "\n"
      ],
      "metadata": {
        "colab": {
          "base_uri": "https://localhost:8080/"
        },
        "id": "hG8GCW2TPUV9",
        "outputId": "0a0aa507-3003-41c5-edac-2cc3ddf3d56b"
      },
      "execution_count": 31,
      "outputs": [
        {
          "output_type": "stream",
          "name": "stdout",
          "text": [
            "tensor([[0.0136, 0.8690, 0.6695, 0.3122, 0.4075, 0.2954, 0.7557],\n",
            "        [0.8370, 0.3399, 0.4387, 0.5656, 0.4659, 0.6552, 0.4965],\n",
            "        [0.5404, 0.6177, 0.8953, 0.6554, 0.7626, 0.7270, 0.7520],\n",
            "        [0.7207, 0.4347, 0.3038, 0.0181, 0.2264, 0.6864, 0.1231],\n",
            "        [0.0216, 0.4228, 0.9314, 0.7500, 0.9685, 0.3282, 0.7785]])\n",
            "Datatype is torch.float32\n",
            "shape is torch.Size([5, 7])\n",
            "device is cpu\n"
          ]
        }
      ]
    },
    {
      "cell_type": "markdown",
      "source": [
        "MANIPULATING TENSORS\n",
        "\n",
        "one can multiply\n",
        "divide\n",
        "add\n",
        "subtract\n",
        "matrix multiplication"
      ],
      "metadata": {
        "id": "U8HR6TTmSScP"
      }
    },
    {
      "cell_type": "code",
      "source": [
        "#create tensor\n",
        "\n",
        "tensor= torch.tensor([7, 7, 8])\n",
        "tensor+ 100"
      ],
      "metadata": {
        "colab": {
          "base_uri": "https://localhost:8080/"
        },
        "id": "zePa3kGeQgrI",
        "outputId": "52bb712b-a634-44e0-b1e9-4b81f09d739b"
      },
      "execution_count": 32,
      "outputs": [
        {
          "output_type": "execute_result",
          "data": {
            "text/plain": [
              "tensor([107, 107, 108])"
            ]
          },
          "metadata": {},
          "execution_count": 32
        }
      ]
    },
    {
      "cell_type": "code",
      "source": [
        "tensor + 10"
      ],
      "metadata": {
        "colab": {
          "base_uri": "https://localhost:8080/"
        },
        "id": "1fzuMdIXQRMe",
        "outputId": "d70be388-4626-46a5-bae9-64c481f3cdcb"
      },
      "execution_count": 33,
      "outputs": [
        {
          "output_type": "execute_result",
          "data": {
            "text/plain": [
              "tensor([17, 17, 18])"
            ]
          },
          "metadata": {},
          "execution_count": 33
        }
      ]
    },
    {
      "cell_type": "code",
      "source": [
        "tensor/2"
      ],
      "metadata": {
        "colab": {
          "base_uri": "https://localhost:8080/"
        },
        "id": "BYUv9c8DTDKv",
        "outputId": "1211cc58-7d1b-4701-cf7f-a7e8b0340649"
      },
      "execution_count": 34,
      "outputs": [
        {
          "output_type": "execute_result",
          "data": {
            "text/plain": [
              "tensor([3.5000, 3.5000, 4.0000])"
            ]
          },
          "metadata": {},
          "execution_count": 34
        }
      ]
    },
    {
      "cell_type": "code",
      "source": [
        "tensor- 10"
      ],
      "metadata": {
        "colab": {
          "base_uri": "https://localhost:8080/"
        },
        "id": "ZWS_H7U6TIVl",
        "outputId": "aa3c5ac0-8005-40bc-a80c-228b3abf7c07"
      },
      "execution_count": 35,
      "outputs": [
        {
          "output_type": "execute_result",
          "data": {
            "text/plain": [
              "tensor([-3, -3, -2])"
            ]
          },
          "metadata": {},
          "execution_count": 35
        }
      ]
    },
    {
      "cell_type": "code",
      "source": [
        "# using pytorch in built functions\n",
        "\n",
        "print(torch.add(tensor, 20))\n",
        "print(torch.mul(tensor, 2))\n",
        "print(torch.sub(tensor, 2))\n",
        "print(torch.div(tensor, 7))"
      ],
      "metadata": {
        "colab": {
          "base_uri": "https://localhost:8080/"
        },
        "id": "r-jEVuOdTNtX",
        "outputId": "4ca3b904-5333-433d-c6ac-a8d9a5120ba2"
      },
      "execution_count": 36,
      "outputs": [
        {
          "output_type": "stream",
          "name": "stdout",
          "text": [
            "tensor([27, 27, 28])\n",
            "tensor([14, 14, 16])\n",
            "tensor([5, 5, 6])\n",
            "tensor([1.0000, 1.0000, 1.1429])\n"
          ]
        }
      ]
    },
    {
      "cell_type": "code",
      "source": [
        "#MATRIX MULTIPLICATION/ dot product\n",
        "print(tensor , \"*\", tensor)\n",
        "print(f\"equals: {tensor*tensor}\")\n"
      ],
      "metadata": {
        "id": "dcTTUOOxTmf9",
        "colab": {
          "base_uri": "https://localhost:8080/"
        },
        "outputId": "48a38d3d-85d0-461d-d123-226068e5ebd7"
      },
      "execution_count": 37,
      "outputs": [
        {
          "output_type": "stream",
          "name": "stdout",
          "text": [
            "tensor([7, 7, 8]) * tensor([7, 7, 8])\n",
            "equals: tensor([49, 49, 64])\n"
          ]
        }
      ]
    },
    {
      "cell_type": "code",
      "source": [
        "torch.matmul(tensor, tensor)"
      ],
      "metadata": {
        "colab": {
          "base_uri": "https://localhost:8080/"
        },
        "id": "XDExtJcbW_re",
        "outputId": "b8a5899e-afb7-422c-acb3-e195541dcaa7"
      },
      "execution_count": 38,
      "outputs": [
        {
          "output_type": "execute_result",
          "data": {
            "text/plain": [
              "tensor(162)"
            ]
          },
          "metadata": {},
          "execution_count": 38
        }
      ]
    },
    {
      "cell_type": "markdown",
      "source": [
        "One of the most common errors in deep learning: shape errors"
      ],
      "metadata": {
        "id": "CgW_PxkfbiOe"
      }
    },
    {
      "cell_type": "code",
      "source": [
        "#Shapes for matrix multiplication\n",
        "tensor_A= torch.tensor([[1,4],\n",
        "                       [7,7],\n",
        "                       [8,9]])\n",
        "\n",
        "tensor_B= torch.tensor([[1,8],\n",
        "                        [8,0],\n",
        "                        [9,8]])\n",
        "\n",
        "torch.mm(tensor_A,tensor_B)"
      ],
      "metadata": {
        "colab": {
          "base_uri": "https://localhost:8080/",
          "height": 200
        },
        "id": "xiBYOAXVXKrf",
        "outputId": "4eed8bf4-254c-489d-d1c5-7c521e76161e"
      },
      "execution_count": 41,
      "outputs": [
        {
          "output_type": "error",
          "ename": "RuntimeError",
          "evalue": "ignored",
          "traceback": [
            "\u001b[0;31m---------------------------------------------------------------------------\u001b[0m",
            "\u001b[0;31mRuntimeError\u001b[0m                              Traceback (most recent call last)",
            "\u001b[0;32m<ipython-input-41-7afecf4259d7>\u001b[0m in \u001b[0;36m<cell line: 10>\u001b[0;34m()\u001b[0m\n\u001b[1;32m      8\u001b[0m                         [9,8]])\n\u001b[1;32m      9\u001b[0m \u001b[0;34m\u001b[0m\u001b[0m\n\u001b[0;32m---> 10\u001b[0;31m \u001b[0mtorch\u001b[0m\u001b[0;34m.\u001b[0m\u001b[0mmm\u001b[0m\u001b[0;34m(\u001b[0m\u001b[0mtensor_A\u001b[0m\u001b[0;34m,\u001b[0m\u001b[0mtensor_B\u001b[0m\u001b[0;34m)\u001b[0m\u001b[0;34m\u001b[0m\u001b[0;34m\u001b[0m\u001b[0m\n\u001b[0m",
            "\u001b[0;31mRuntimeError\u001b[0m: mat1 and mat2 shapes cannot be multiplied (3x2 and 3x2)"
          ]
        }
      ]
    },
    {
      "cell_type": "code",
      "source": [
        "tensor_B.shape , tensor_A.shape"
      ],
      "metadata": {
        "colab": {
          "base_uri": "https://localhost:8080/"
        },
        "id": "UonhJp2vcqPv",
        "outputId": "45c2a9ec-3838-460c-92d5-c3bda7989cef"
      },
      "execution_count": 42,
      "outputs": [
        {
          "output_type": "execute_result",
          "data": {
            "text/plain": [
              "(torch.Size([3, 2]), torch.Size([3, 2]))"
            ]
          },
          "metadata": {},
          "execution_count": 42
        }
      ]
    },
    {
      "cell_type": "markdown",
      "source": [
        "to fix the shape issues , we can multiply the shape of one of our tensors using a **transpose**\n",
        "\n",
        "**Transpose **switches axis of one the tensors"
      ],
      "metadata": {
        "id": "SpoPeomac7yt"
      }
    },
    {
      "cell_type": "code",
      "source": [
        "tensor_A.T"
      ],
      "metadata": {
        "colab": {
          "base_uri": "https://localhost:8080/"
        },
        "id": "V7akRqNNc3Xn",
        "outputId": "ef6cb6d2-2f64-46b0-9b98-fc803dd523b8"
      },
      "execution_count": 43,
      "outputs": [
        {
          "output_type": "execute_result",
          "data": {
            "text/plain": [
              "tensor([[1, 7, 8],\n",
              "        [4, 7, 9]])"
            ]
          },
          "metadata": {},
          "execution_count": 43
        }
      ]
    },
    {
      "cell_type": "code",
      "source": [
        "torch.mm(tensor_A.T, tensor_B)"
      ],
      "metadata": {
        "colab": {
          "base_uri": "https://localhost:8080/"
        },
        "id": "coi-PW2Mde98",
        "outputId": "8bc6104a-b883-4963-fdb7-d3598f40f2d7"
      },
      "execution_count": 44,
      "outputs": [
        {
          "output_type": "execute_result",
          "data": {
            "text/plain": [
              "tensor([[129,  72],\n",
              "        [141, 104]])"
            ]
          },
          "metadata": {},
          "execution_count": 44
        }
      ]
    },
    {
      "cell_type": "code",
      "source": [
        "tensor_C=(tensor_B.T)\n",
        "tensor_C.shape"
      ],
      "metadata": {
        "colab": {
          "base_uri": "https://localhost:8080/"
        },
        "id": "DyLDAjLld4-q",
        "outputId": "16fa5885-8b8c-48e3-9960-4e922aa65526"
      },
      "execution_count": 45,
      "outputs": [
        {
          "output_type": "execute_result",
          "data": {
            "text/plain": [
              "torch.Size([2, 3])"
            ]
          },
          "metadata": {},
          "execution_count": 45
        }
      ]
    },
    {
      "cell_type": "markdown",
      "source": [
        "TENSOR AGGREGATION"
      ],
      "metadata": {
        "id": "y7YpO5o8R1le"
      }
    },
    {
      "cell_type": "code",
      "source": [
        "x=torch.arange(0, 1000, 100)\n",
        "x"
      ],
      "metadata": {
        "colab": {
          "base_uri": "https://localhost:8080/"
        },
        "id": "Hir1dkqjRzKA",
        "outputId": "1b55636f-5896-4fa4-c1c2-734f307bfaca"
      },
      "execution_count": 46,
      "outputs": [
        {
          "output_type": "execute_result",
          "data": {
            "text/plain": [
              "tensor([  0, 100, 200, 300, 400, 500, 600, 700, 800, 900])"
            ]
          },
          "metadata": {},
          "execution_count": 46
        }
      ]
    },
    {
      "cell_type": "code",
      "source": [
        "torch.min(x)\n",
        "x.min()"
      ],
      "metadata": {
        "colab": {
          "base_uri": "https://localhost:8080/"
        },
        "id": "aZKul-Y-vbTk",
        "outputId": "4a33510e-9ec1-4113-c20d-c78e60362ec0"
      },
      "execution_count": 47,
      "outputs": [
        {
          "output_type": "execute_result",
          "data": {
            "text/plain": [
              "tensor(0)"
            ]
          },
          "metadata": {},
          "execution_count": 47
        }
      ]
    },
    {
      "cell_type": "code",
      "source": [
        "x.max()"
      ],
      "metadata": {
        "colab": {
          "base_uri": "https://localhost:8080/"
        },
        "id": "0vZtQHMxvp7N",
        "outputId": "d7faac18-bc3c-4e6e-ee5e-940eef324c6b"
      },
      "execution_count": 48,
      "outputs": [
        {
          "output_type": "execute_result",
          "data": {
            "text/plain": [
              "tensor(900)"
            ]
          },
          "metadata": {},
          "execution_count": 48
        }
      ]
    },
    {
      "cell_type": "code",
      "source": [
        "torch.mean(x.type(torch.float32))\n",
        "x.type(torch.float32).mean()"
      ],
      "metadata": {
        "colab": {
          "base_uri": "https://localhost:8080/"
        },
        "id": "UyqpoHnnvuL5",
        "outputId": "d2a3ea0f-036f-4e3f-8352-9f9b528ba6b3"
      },
      "execution_count": 49,
      "outputs": [
        {
          "output_type": "execute_result",
          "data": {
            "text/plain": [
              "tensor(450.)"
            ]
          },
          "metadata": {},
          "execution_count": 49
        }
      ]
    },
    {
      "cell_type": "code",
      "source": [
        "x.sum()"
      ],
      "metadata": {
        "colab": {
          "base_uri": "https://localhost:8080/"
        },
        "id": "luFLxFf3z8qR",
        "outputId": "f78d1e5a-0f59-4fa5-85c0-0d46e46585fe"
      },
      "execution_count": 50,
      "outputs": [
        {
          "output_type": "execute_result",
          "data": {
            "text/plain": [
              "tensor(4500)"
            ]
          },
          "metadata": {},
          "execution_count": 50
        }
      ]
    },
    {
      "cell_type": "code",
      "source": [
        " x.argmin()"
      ],
      "metadata": {
        "colab": {
          "base_uri": "https://localhost:8080/"
        },
        "id": "7m_bEBYr0Bxv",
        "outputId": "77f8ae6a-4e78-4bb4-ce8c-c5195db937f9"
      },
      "execution_count": 51,
      "outputs": [
        {
          "output_type": "execute_result",
          "data": {
            "text/plain": [
              "tensor(0)"
            ]
          },
          "metadata": {},
          "execution_count": 51
        }
      ]
    },
    {
      "cell_type": "code",
      "source": [
        "x.argmax()"
      ],
      "metadata": {
        "colab": {
          "base_uri": "https://localhost:8080/"
        },
        "id": "O03ln3wM1424",
        "outputId": "2901c620-601a-4723-c0b3-3087a8dd819c"
      },
      "execution_count": 52,
      "outputs": [
        {
          "output_type": "execute_result",
          "data": {
            "text/plain": [
              "tensor(9)"
            ]
          },
          "metadata": {},
          "execution_count": 52
        }
      ]
    },
    {
      "cell_type": "markdown",
      "source": [
        "\n",
        "RESHAPING, STACKING, SQUEEZING & UNSQUEEZING TENSORS\n",
        "> Reshaping:\n",
        "Reshaping refers to changing the shape of a tensor while preserving the total number of elements. It allows you to reorganize the dimensions of a tensor. For example, you can reshape a 2D tensor into a 1D tensor or vice versa. Reshaping is commonly used when the input shape of a layer in a neural network does not match the desired shape, and you need to reshape the tensor to fit the layer's requirements.\n",
        "\n",
        "Stacking:\n",
        "Stacking involves combining multiple tensors along a new dimension. It is used to concatenate tensors together. For example, if you have two tensors of shape (3, 4) and you stack them along a new dimension, the resulting tensor will have the shape (2, 3, 4). Stacking is commonly used when you want to combine multiple samples or batches of data together.\n",
        "\n",
        "Squeezing:\n",
        "Squeezing is the operation of removing dimensions or axes with a size of 1 from a tensor. It reduces the rank (number of dimensions) of the tensor. For example, if you have a tensor of shape (1, 3, 1, 5), squeezing it will remove the dimensions with size 1, resulting in a tensor of shape (3, 5). Squeezing is useful when you want to remove unnecessary singleton dimensions and simplify the tensor's shape.\n",
        "\n",
        "Unsqueezing:\n",
        "Unsqueezing is the opposite operation of squeezing. It adds dimensions with a size of 1 to a tensor, increasing its rank. Unsqueezing allows you to insert singleton dimensions to match the expected shape for certain operations. For example, unsqueezing a tensor of shape (3, 5) along dimension 0 will result in a tensor of shape (1, 3, 5). Unsqueezing is commonly used when you want to broadcast a tensor across another tensor with a different shape.\n",
        "\n"
      ],
      "metadata": {
        "id": "bF-8FtJNcITu"
      }
    },
    {
      "cell_type": "code",
      "source": [
        "#Create tensor\n",
        "\n",
        "y= torch.arange(1., 10.)\n",
        "y , y.shape"
      ],
      "metadata": {
        "id": "kTgPuC1k2YcY",
        "colab": {
          "base_uri": "https://localhost:8080/"
        },
        "outputId": "0c0cb9ed-37c2-4c8e-9ef6-a89ce82f40a7"
      },
      "execution_count": 53,
      "outputs": [
        {
          "output_type": "execute_result",
          "data": {
            "text/plain": [
              "(tensor([1., 2., 3., 4., 5., 6., 7., 8., 9.]), torch.Size([9]))"
            ]
          },
          "metadata": {},
          "execution_count": 53
        }
      ]
    },
    {
      "cell_type": "code",
      "source": [
        "y_reshaped= y.reshape(1, 9)\n",
        "y_reshaped , y_reshaped.shape"
      ],
      "metadata": {
        "colab": {
          "base_uri": "https://localhost:8080/"
        },
        "id": "U0LRy0wMdsfD",
        "outputId": "2ba52224-e088-4db2-c450-a6de57cff9cc"
      },
      "execution_count": 54,
      "outputs": [
        {
          "output_type": "execute_result",
          "data": {
            "text/plain": [
              "(tensor([[1., 2., 3., 4., 5., 6., 7., 8., 9.]]), torch.Size([1, 9]))"
            ]
          },
          "metadata": {},
          "execution_count": 54
        }
      ]
    },
    {
      "cell_type": "code",
      "source": [
        "z= y.view(1, 9)\n",
        "z , z.shape\n",
        "\n",
        "#a view of a tensor shares the same memory with the original tensor"
      ],
      "metadata": {
        "colab": {
          "base_uri": "https://localhost:8080/"
        },
        "id": "llRLsHNSeW2g",
        "outputId": "a6bfc04b-5e72-47a6-e7ee-33b4670af4a2"
      },
      "execution_count": 55,
      "outputs": [
        {
          "output_type": "execute_result",
          "data": {
            "text/plain": [
              "(tensor([[1., 2., 3., 4., 5., 6., 7., 8., 9.]]), torch.Size([1, 9]))"
            ]
          },
          "metadata": {},
          "execution_count": 55
        }
      ]
    },
    {
      "cell_type": "code",
      "source": [
        "#stack tensors on top of each other\n",
        "\n",
        "y_stacked= torch.stack([y, y, y, y], dim=0)\n",
        "y_stacked"
      ],
      "metadata": {
        "colab": {
          "base_uri": "https://localhost:8080/"
        },
        "id": "QvY4o9j-e-cs",
        "outputId": "4824189e-2961-4f93-e269-4f46b132d79f"
      },
      "execution_count": 56,
      "outputs": [
        {
          "output_type": "execute_result",
          "data": {
            "text/plain": [
              "tensor([[1., 2., 3., 4., 5., 6., 7., 8., 9.],\n",
              "        [1., 2., 3., 4., 5., 6., 7., 8., 9.],\n",
              "        [1., 2., 3., 4., 5., 6., 7., 8., 9.],\n",
              "        [1., 2., 3., 4., 5., 6., 7., 8., 9.]])"
            ]
          },
          "metadata": {},
          "execution_count": 56
        }
      ]
    },
    {
      "cell_type": "code",
      "source": [
        "#Squeezing and unsqueezing\n",
        "print(f\"previous tensor {y_reshaped}\")\n",
        "print(f\"previous shape { y_reshaped.shape}\")\n",
        "print(f\"new tensor { y_reshaped.squeeze()}\")\n",
        "print(f\"{y_reshaped.squeeze().size()}\")\n",
        "print(f\"{y_reshaped.unsqueeze(dim=0)}\")"
      ],
      "metadata": {
        "colab": {
          "base_uri": "https://localhost:8080/"
        },
        "id": "Z07yHClNf-xb",
        "outputId": "a7cc154b-5476-4a0c-c764-9251148394ab"
      },
      "execution_count": 57,
      "outputs": [
        {
          "output_type": "stream",
          "name": "stdout",
          "text": [
            "previous tensor tensor([[1., 2., 3., 4., 5., 6., 7., 8., 9.]])\n",
            "previous shape torch.Size([1, 9])\n",
            "new tensor tensor([1., 2., 3., 4., 5., 6., 7., 8., 9.])\n",
            "torch.Size([9])\n",
            "tensor([[[1., 2., 3., 4., 5., 6., 7., 8., 9.]]])\n"
          ]
        }
      ]
    },
    {
      "cell_type": "code",
      "source": [
        "#torch.permute returns a  view of the original tensor input with its dimensions permuted\n",
        "y_original = torch.rand(size=(224, 224, 3)) # height , width , colour channels\n",
        "\n",
        "#Permutation\n",
        "y_original_permuted= y_original.permute(2, 0, 1)#shifts axis 0-> 1, 1->2, 2->0\n",
        "\n",
        "print(f\"Previous shape {y_original.shape}\")\n",
        "print(f\"new shape {y_original_permuted.shape}\")"
      ],
      "metadata": {
        "colab": {
          "base_uri": "https://localhost:8080/"
        },
        "id": "rpKsP8zliXSO",
        "outputId": "5b6cd247-6d58-42dd-aa1e-f9a542837b0c"
      },
      "execution_count": 58,
      "outputs": [
        {
          "output_type": "stream",
          "name": "stdout",
          "text": [
            "Previous shape torch.Size([224, 224, 3])\n",
            "new shape torch.Size([3, 224, 224])\n"
          ]
        }
      ]
    },
    {
      "cell_type": "markdown",
      "source": [
        "INDEXING(selecting data from tensors)\n",
        " Pytorch\n",
        " indexing is similar to indexing in numpy"
      ],
      "metadata": {
        "id": "4DVuAHgmf28g"
      }
    },
    {
      "cell_type": "code",
      "source": [
        "z= torch.arange(1, 10).reshape(1,3,3)\n",
        "z , z.shape"
      ],
      "metadata": {
        "id": "5r4Ska-Hkowf",
        "colab": {
          "base_uri": "https://localhost:8080/"
        },
        "outputId": "937c32c5-87e7-4929-fdd9-7d37bac67869"
      },
      "execution_count": 59,
      "outputs": [
        {
          "output_type": "execute_result",
          "data": {
            "text/plain": [
              "(tensor([[[1, 2, 3],\n",
              "          [4, 5, 6],\n",
              "          [7, 8, 9]]]),\n",
              " torch.Size([1, 3, 3]))"
            ]
          },
          "metadata": {},
          "execution_count": 59
        }
      ]
    },
    {
      "cell_type": "code",
      "source": [
        "#lets index on our new tensor\n",
        "\n",
        "z[0]"
      ],
      "metadata": {
        "colab": {
          "base_uri": "https://localhost:8080/"
        },
        "id": "XklNkrmWgvuH",
        "outputId": "3048cc80-5255-416e-eebc-aa494f288894"
      },
      "execution_count": 60,
      "outputs": [
        {
          "output_type": "execute_result",
          "data": {
            "text/plain": [
              "tensor([[1, 2, 3],\n",
              "        [4, 5, 6],\n",
              "        [7, 8, 9]])"
            ]
          },
          "metadata": {},
          "execution_count": 60
        }
      ]
    },
    {
      "cell_type": "code",
      "source": [
        "#lets on the middle bracket\n",
        "\n",
        "z[0][0]# same as z="
      ],
      "metadata": {
        "colab": {
          "base_uri": "https://localhost:8080/"
        },
        "id": "PDUYVPx5g3kl",
        "outputId": "ac72c472-a63f-48b0-d3d8-8996f76a1da8"
      },
      "execution_count": 61,
      "outputs": [
        {
          "output_type": "execute_result",
          "data": {
            "text/plain": [
              "tensor([1, 2, 3])"
            ]
          },
          "metadata": {},
          "execution_count": 61
        }
      ]
    },
    {
      "cell_type": "code",
      "source": [
        "#lets index on the inner most bracket\n",
        "\n",
        "z[0, 0, 0]"
      ],
      "metadata": {
        "colab": {
          "base_uri": "https://localhost:8080/"
        },
        "id": "y3HQvKLJhNk_",
        "outputId": "da0a32e7-8018-4898-ee1d-5b650345c0bb"
      },
      "execution_count": 62,
      "outputs": [
        {
          "output_type": "execute_result",
          "data": {
            "text/plain": [
              "tensor(1)"
            ]
          },
          "metadata": {},
          "execution_count": 62
        }
      ]
    },
    {
      "cell_type": "code",
      "source": [
        "z[0,2,2]"
      ],
      "metadata": {
        "colab": {
          "base_uri": "https://localhost:8080/"
        },
        "id": "ntP8Qvdih0AB",
        "outputId": "ccdd85a1-1539-471f-ad7e-c499b9cf6a3e"
      },
      "execution_count": 63,
      "outputs": [
        {
          "output_type": "execute_result",
          "data": {
            "text/plain": [
              "tensor(9)"
            ]
          },
          "metadata": {},
          "execution_count": 63
        }
      ]
    },
    {
      "cell_type": "code",
      "source": [
        "#you can also use\":\" to select \"all\" of a target dimension\n",
        "z[:,0]"
      ],
      "metadata": {
        "colab": {
          "base_uri": "https://localhost:8080/"
        },
        "id": "y1mUNCd9iHGC",
        "outputId": "b38afd8c-b81a-4482-cee0-e2585af04fdf"
      },
      "execution_count": 64,
      "outputs": [
        {
          "output_type": "execute_result",
          "data": {
            "text/plain": [
              "tensor([[1, 2, 3]])"
            ]
          },
          "metadata": {},
          "execution_count": 64
        }
      ]
    },
    {
      "cell_type": "code",
      "source": [
        "#Get all values of the 0th and 1st dimension but only index 1 of 2nd dimension\n",
        "\n",
        "z[:, :,1]"
      ],
      "metadata": {
        "colab": {
          "base_uri": "https://localhost:8080/"
        },
        "id": "M32-6QBwi8p2",
        "outputId": "3f61c41e-aa63-4e48-8897-c67537d5b27a"
      },
      "execution_count": 65,
      "outputs": [
        {
          "output_type": "execute_result",
          "data": {
            "text/plain": [
              "tensor([[2, 5, 8]])"
            ]
          },
          "metadata": {},
          "execution_count": 65
        }
      ]
    },
    {
      "cell_type": "markdown",
      "source": [
        "Pytorch tensors and numpy\n",
        "\n",
        "NumPy is a popular numerical computing library\n",
        "And because of this , Pytorch has functionality to interact with it\n",
        "\n",
        "\n",
        "*   Data in NumPy wanted in Pytorch tensor-> torch.from_numpy(ndarray)\n",
        "*  pytorch to NumPy -> torch.tensor.numpy()\n",
        "\n"
      ],
      "metadata": {
        "id": "pMABzd4LkJyr"
      }
    },
    {
      "cell_type": "code",
      "source": [
        "#Numpy array to tensor\n",
        "\n",
        "array = np.arange(1.0, 8.0)\n",
        "numpyTensor= torch.from_numpy(array)\n",
        "array , numpyTensor"
      ],
      "metadata": {
        "colab": {
          "base_uri": "https://localhost:8080/"
        },
        "id": "TSKZM8UzjYJT",
        "outputId": "449edd34-48d2-457f-be6b-0d9ec1925c4d"
      },
      "execution_count": 66,
      "outputs": [
        {
          "output_type": "execute_result",
          "data": {
            "text/plain": [
              "(array([1., 2., 3., 4., 5., 6., 7.]),\n",
              " tensor([1., 2., 3., 4., 5., 6., 7.], dtype=torch.float64))"
            ]
          },
          "metadata": {},
          "execution_count": 66
        }
      ]
    },
    {
      "cell_type": "code",
      "source": [
        "#Change the value of array\n",
        "array = array +1\n",
        "array"
      ],
      "metadata": {
        "colab": {
          "base_uri": "https://localhost:8080/"
        },
        "id": "MWkDQB5gmzpl",
        "outputId": "3ec5f769-efb4-4df3-fa33-b2c8d563f419"
      },
      "execution_count": 67,
      "outputs": [
        {
          "output_type": "execute_result",
          "data": {
            "text/plain": [
              "array([2., 3., 4., 5., 6., 7., 8.])"
            ]
          },
          "metadata": {},
          "execution_count": 67
        }
      ]
    },
    {
      "cell_type": "code",
      "source": [
        "#Tensor to Numpy array\n",
        "numpyTensor= torch.ones(7)\n",
        "Numpy_tensor_1= numpyTensor.numpy()\n",
        "\n",
        "numpyTensor , Numpy_tensor_1"
      ],
      "metadata": {
        "colab": {
          "base_uri": "https://localhost:8080/"
        },
        "id": "6_nlMhelnGMO",
        "outputId": "93a0cfd9-ae98-4dd7-b281-44030ac60fce"
      },
      "execution_count": 68,
      "outputs": [
        {
          "output_type": "execute_result",
          "data": {
            "text/plain": [
              "(tensor([1., 1., 1., 1., 1., 1., 1.]),\n",
              " array([1., 1., 1., 1., 1., 1., 1.], dtype=float32))"
            ]
          },
          "metadata": {},
          "execution_count": 68
        }
      ]
    },
    {
      "cell_type": "markdown",
      "source": [
        "Reproducibility (Trying to take random out of random)\n",
        "\n",
        "refers to the ability to obtain the same results (or as close as possible) when running a deep learning experiment multiple times, using the same code, data, and configuration settings."
      ],
      "metadata": {
        "id": "Nzn3igoFoyTT"
      }
    },
    {
      "cell_type": "code",
      "source": [
        "#Create two random tensors\n",
        "\n",
        "random_tensor_A= torch.rand(7, 7)\n",
        "random_tensor_B= torch.rand(7, 7)\n",
        "\n",
        "print(random_tensor_A)\n",
        "print(random_tensor_B)\n",
        "print(random_tensor_A == random_tensor_B)"
      ],
      "metadata": {
        "colab": {
          "base_uri": "https://localhost:8080/"
        },
        "id": "tNawZKqdnuL2",
        "outputId": "5d6969b1-2aa3-4681-bd45-3a961741beac"
      },
      "execution_count": 69,
      "outputs": [
        {
          "output_type": "stream",
          "name": "stdout",
          "text": [
            "tensor([[0.3254, 0.7262, 0.4659, 0.6345, 0.9737, 0.2720, 0.6237],\n",
            "        [0.6791, 0.6764, 0.8772, 0.3369, 0.2831, 0.1756, 0.0157],\n",
            "        [0.0632, 0.6548, 0.7218, 0.7288, 0.9412, 0.3565, 0.2034],\n",
            "        [0.1729, 0.9489, 0.6437, 0.0996, 0.3041, 0.0102, 0.5212],\n",
            "        [0.5714, 0.0667, 0.1287, 0.0601, 0.0489, 0.3167, 0.2990],\n",
            "        [0.1773, 0.4503, 0.7407, 0.2130, 0.3595, 0.9127, 0.9037],\n",
            "        [0.5839, 0.0655, 0.4945, 0.7207, 0.6724, 0.9195, 0.7732]])\n",
            "tensor([[0.6472, 0.9594, 0.1852, 0.8254, 0.9994, 0.8347, 0.0846],\n",
            "        [0.8493, 0.7051, 0.5921, 0.3782, 0.8644, 0.8494, 0.6453],\n",
            "        [0.3213, 0.2518, 0.9442, 0.8967, 0.1516, 0.6635, 0.0014],\n",
            "        [0.4422, 0.1235, 0.5284, 0.3935, 0.3954, 0.1979, 0.8659],\n",
            "        [0.4405, 0.8604, 0.2926, 0.7848, 0.8967, 0.7188, 0.6309],\n",
            "        [0.0785, 0.4829, 0.9982, 0.2088, 0.8994, 0.8995, 0.2096],\n",
            "        [0.7824, 0.6303, 0.7304, 0.9970, 0.5232, 0.3598, 0.3092]])\n",
            "tensor([[False, False, False, False, False, False, False],\n",
            "        [False, False, False, False, False, False, False],\n",
            "        [False, False, False, False, False, False, False],\n",
            "        [False, False, False, False, False, False, False],\n",
            "        [False, False, False, False, False, False, False],\n",
            "        [False, False, False, False, False, False, False],\n",
            "        [False, False, False, False, False, False, False]])\n"
          ]
        }
      ]
    },
    {
      "cell_type": "code",
      "source": [
        "#MAKING RANDOM REPRODUCIBLE TENSORS\n",
        "RANDOM_SEED= 42\n",
        "\n",
        "torch.manual_seed(RANDOM_SEED)\n",
        "random_tensor_C= torch.rand(7,7)\n",
        "\n",
        "torch.manual_seed(RANDOM_SEED)\n",
        "random_tensor_D= torch.rand(7, 7)\n",
        "\n",
        "print(random_tensor_C)\n",
        "print(random_tensor_D)\n",
        "print(random_tensor_C == random_tensor_D)\n"
      ],
      "metadata": {
        "colab": {
          "base_uri": "https://localhost:8080/"
        },
        "id": "fJs01QKJm-qZ",
        "outputId": "bca2278f-0d74-45ae-9fe4-c6f45da22520"
      },
      "execution_count": 70,
      "outputs": [
        {
          "output_type": "stream",
          "name": "stdout",
          "text": [
            "tensor([[0.8823, 0.9150, 0.3829, 0.9593, 0.3904, 0.6009, 0.2566],\n",
            "        [0.7936, 0.9408, 0.1332, 0.9346, 0.5936, 0.8694, 0.5677],\n",
            "        [0.7411, 0.4294, 0.8854, 0.5739, 0.2666, 0.6274, 0.2696],\n",
            "        [0.4414, 0.2969, 0.8317, 0.1053, 0.2695, 0.3588, 0.1994],\n",
            "        [0.5472, 0.0062, 0.9516, 0.0753, 0.8860, 0.5832, 0.3376],\n",
            "        [0.8090, 0.5779, 0.9040, 0.5547, 0.3423, 0.6343, 0.3644],\n",
            "        [0.7104, 0.9464, 0.7890, 0.2814, 0.7886, 0.5895, 0.7539]])\n",
            "tensor([[0.8823, 0.9150, 0.3829, 0.9593, 0.3904, 0.6009, 0.2566],\n",
            "        [0.7936, 0.9408, 0.1332, 0.9346, 0.5936, 0.8694, 0.5677],\n",
            "        [0.7411, 0.4294, 0.8854, 0.5739, 0.2666, 0.6274, 0.2696],\n",
            "        [0.4414, 0.2969, 0.8317, 0.1053, 0.2695, 0.3588, 0.1994],\n",
            "        [0.5472, 0.0062, 0.9516, 0.0753, 0.8860, 0.5832, 0.3376],\n",
            "        [0.8090, 0.5779, 0.9040, 0.5547, 0.3423, 0.6343, 0.3644],\n",
            "        [0.7104, 0.9464, 0.7890, 0.2814, 0.7886, 0.5895, 0.7539]])\n",
            "tensor([[True, True, True, True, True, True, True],\n",
            "        [True, True, True, True, True, True, True],\n",
            "        [True, True, True, True, True, True, True],\n",
            "        [True, True, True, True, True, True, True],\n",
            "        [True, True, True, True, True, True, True],\n",
            "        [True, True, True, True, True, True, True],\n",
            "        [True, True, True, True, True, True, True]])\n"
          ]
        }
      ]
    },
    {
      "cell_type": "markdown",
      "source": [
        "Running tensors and Pytorch objects on GPUs"
      ],
      "metadata": {
        "id": "Q7WROaWsth_m"
      }
    },
    {
      "cell_type": "code",
      "source": [
        "!nvidia-smi"
      ],
      "metadata": {
        "colab": {
          "base_uri": "https://localhost:8080/"
        },
        "id": "5l79RTKGr2Fm",
        "outputId": "2e623f42-3787-4e89-b260-48123f82c834"
      },
      "execution_count": 75,
      "outputs": [
        {
          "output_type": "stream",
          "name": "stdout",
          "text": [
            "Thu Jun 15 15:52:26 2023       \n",
            "+-----------------------------------------------------------------------------+\n",
            "| NVIDIA-SMI 525.85.12    Driver Version: 525.85.12    CUDA Version: 12.0     |\n",
            "|-------------------------------+----------------------+----------------------+\n",
            "| GPU  Name        Persistence-M| Bus-Id        Disp.A | Volatile Uncorr. ECC |\n",
            "| Fan  Temp  Perf  Pwr:Usage/Cap|         Memory-Usage | GPU-Util  Compute M. |\n",
            "|                               |                      |               MIG M. |\n",
            "|===============================+======================+======================|\n",
            "|   0  Tesla T4            Off  | 00000000:00:04.0 Off |                    0 |\n",
            "| N/A   45C    P8     9W /  70W |      0MiB / 15360MiB |      0%      Default |\n",
            "|                               |                      |                  N/A |\n",
            "+-------------------------------+----------------------+----------------------+\n",
            "                                                                               \n",
            "+-----------------------------------------------------------------------------+\n",
            "| Processes:                                                                  |\n",
            "|  GPU   GI   CI        PID   Type   Process name                  GPU Memory |\n",
            "|        ID   ID                                                   Usage      |\n",
            "|=============================================================================|\n",
            "|  No running processes found                                                 |\n",
            "+-----------------------------------------------------------------------------+\n"
          ]
        }
      ]
    },
    {
      "cell_type": "markdown",
      "source": [
        "Checking For GPU access with pytorch"
      ],
      "metadata": {
        "id": "-_-erQy-yEoR"
      }
    },
    {
      "cell_type": "code",
      "source": [
        "torch.cuda.is_available()"
      ],
      "metadata": {
        "colab": {
          "base_uri": "https://localhost:8080/"
        },
        "id": "KHCCR88OvfLN",
        "outputId": "f3eee6e9-1040-42fa-e05d-2d1d7c6f856b"
      },
      "execution_count": 76,
      "outputs": [
        {
          "output_type": "execute_result",
          "data": {
            "text/plain": [
              "True"
            ]
          },
          "metadata": {},
          "execution_count": 76
        }
      ]
    },
    {
      "cell_type": "code",
      "source": [
        "#setup device agnostic\n",
        "\n",
        "device=\"cuda\" if torch.cuda.is_available() else \"cpu\"\n",
        "device"
      ],
      "metadata": {
        "colab": {
          "base_uri": "https://localhost:8080/",
          "height": 36
        },
        "id": "fKK7NFN7yWAe",
        "outputId": "3139bd57-bdf3-43fc-d919-cb0479382cb9"
      },
      "execution_count": 79,
      "outputs": [
        {
          "output_type": "execute_result",
          "data": {
            "text/plain": [
              "'cuda'"
            ],
            "application/vnd.google.colaboratory.intrinsic+json": {
              "type": "string"
            }
          },
          "metadata": {},
          "execution_count": 79
        }
      ]
    },
    {
      "cell_type": "code",
      "source": [
        "torch.cuda.device_count()"
      ],
      "metadata": {
        "colab": {
          "base_uri": "https://localhost:8080/"
        },
        "id": "xzne63u0y2PG",
        "outputId": "594a4d91-ae5c-4d38-dae6-0569b20d2e7c"
      },
      "execution_count": 80,
      "outputs": [
        {
          "output_type": "execute_result",
          "data": {
            "text/plain": [
              "1"
            ]
          },
          "metadata": {},
          "execution_count": 80
        }
      ]
    },
    {
      "cell_type": "code",
      "source": [],
      "metadata": {
        "id": "BRto8pTszFuR"
      },
      "execution_count": null,
      "outputs": []
    }
  ]
}