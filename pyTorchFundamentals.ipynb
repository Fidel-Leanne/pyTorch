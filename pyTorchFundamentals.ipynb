{
  "nbformat": 4,
  "nbformat_minor": 0,
  "metadata": {
    "colab": {
      "provenance": [],
      "gpuType": "T4",
      "authorship_tag": "ABX9TyPWIHEaYpm4bx6bXmPLqfQp",
      "include_colab_link": true
    },
    "kernelspec": {
      "name": "python3",
      "display_name": "Python 3"
    },
    "language_info": {
      "name": "python"
    }
  },
  "cells": [
    {
      "cell_type": "markdown",
      "metadata": {
        "id": "view-in-github",
        "colab_type": "text"
      },
      "source": [
        "<a href=\"https://colab.research.google.com/github/Fidel-Leanne/pyTorch/blob/master/pyTorchFundamentals.ipynb\" target=\"_parent\"><img src=\"https://colab.research.google.com/assets/colab-badge.svg\" alt=\"Open In Colab\"/></a>"
      ]
    },
    {
      "cell_type": "markdown",
      "source": [
        "pyTorch intro"
      ],
      "metadata": {
        "id": "l48euTLa7IjC"
      }
    },
    {
      "cell_type": "code",
      "source": [
        "import torch\n",
        "import pandas as pd\n",
        "import matplotlib.pyplot as plt\n",
        "import numpy as np\n",
        "\n",
        "print(torch.__version__)"
      ],
      "metadata": {
        "colab": {
          "base_uri": "https://localhost:8080/"
        },
        "id": "u7AkQqy57OhP",
        "outputId": "ddf2c87d-8d68-4177-f799-9074e2168703"
      },
      "execution_count": 44,
      "outputs": [
        {
          "output_type": "stream",
          "name": "stdout",
          "text": [
            "2.0.1+cu118\n"
          ]
        }
      ]
    },
    {
      "cell_type": "markdown",
      "source": [
        "Introduction to Tensors:"
      ],
      "metadata": {
        "id": "ivmEgReu8yER"
      }
    },
    {
      "cell_type": "markdown",
      "source": [
        "Creating Tensors"
      ],
      "metadata": {
        "id": "icqD-TuO9EFe"
      }
    },
    {
      "cell_type": "code",
      "source": [
        "# scalar\n",
        "\n",
        "scalar= torch.tensor(7)\n",
        "scalar"
      ],
      "metadata": {
        "colab": {
          "base_uri": "https://localhost:8080/"
        },
        "id": "4agoO1wK9MQM",
        "outputId": "bc9012da-5788-4ad0-bf37-55ed098a697e"
      },
      "execution_count": 45,
      "outputs": [
        {
          "output_type": "execute_result",
          "data": {
            "text/plain": [
              "tensor(7)"
            ]
          },
          "metadata": {},
          "execution_count": 45
        }
      ]
    },
    {
      "cell_type": "code",
      "source": [
        "scalar.ndim"
      ],
      "metadata": {
        "colab": {
          "base_uri": "https://localhost:8080/"
        },
        "id": "OXxaLWUN-5mw",
        "outputId": "e479d99c-b6e8-4147-bff8-a2e8a14d018d"
      },
      "execution_count": 46,
      "outputs": [
        {
          "output_type": "execute_result",
          "data": {
            "text/plain": [
              "0"
            ]
          },
          "metadata": {},
          "execution_count": 46
        }
      ]
    },
    {
      "cell_type": "code",
      "source": [
        "scalar.item()"
      ],
      "metadata": {
        "colab": {
          "base_uri": "https://localhost:8080/"
        },
        "id": "78z8XtGM_QIN",
        "outputId": "e208fdf2-91aa-46dc-df8f-080fb39bcddd"
      },
      "execution_count": 47,
      "outputs": [
        {
          "output_type": "execute_result",
          "data": {
            "text/plain": [
              "7"
            ]
          },
          "metadata": {},
          "execution_count": 47
        }
      ]
    },
    {
      "cell_type": "code",
      "source": [
        "#vector\n",
        "\n",
        "vector= torch.tensor([7, 7])\n",
        "vector"
      ],
      "metadata": {
        "colab": {
          "base_uri": "https://localhost:8080/"
        },
        "id": "eQInpGyz_ZwI",
        "outputId": "2b4fccaf-56da-490a-8d30-20cecef248c5"
      },
      "execution_count": 48,
      "outputs": [
        {
          "output_type": "execute_result",
          "data": {
            "text/plain": [
              "tensor([7, 7])"
            ]
          },
          "metadata": {},
          "execution_count": 48
        }
      ]
    },
    {
      "cell_type": "code",
      "source": [
        "vector.ndim"
      ],
      "metadata": {
        "colab": {
          "base_uri": "https://localhost:8080/"
        },
        "id": "6ANGQnOO_3Kr",
        "outputId": "85a9c8a2-cb96-4801-e0b8-98237e74168f"
      },
      "execution_count": 49,
      "outputs": [
        {
          "output_type": "execute_result",
          "data": {
            "text/plain": [
              "1"
            ]
          },
          "metadata": {},
          "execution_count": 49
        }
      ]
    },
    {
      "cell_type": "code",
      "source": [
        "vector.shape"
      ],
      "metadata": {
        "colab": {
          "base_uri": "https://localhost:8080/"
        },
        "id": "XVuY6wPSADjq",
        "outputId": "0580c534-047e-406a-cccf-e9dabff073ab"
      },
      "execution_count": 50,
      "outputs": [
        {
          "output_type": "execute_result",
          "data": {
            "text/plain": [
              "torch.Size([2])"
            ]
          },
          "metadata": {},
          "execution_count": 50
        }
      ]
    },
    {
      "cell_type": "code",
      "source": [
        "#MATRIX\n",
        "MATRIX = torch.tensor([[8 , 0],\n",
        "                      [7, 9]])\n",
        "\n",
        "MATRIX\n"
      ],
      "metadata": {
        "colab": {
          "base_uri": "https://localhost:8080/"
        },
        "id": "sru8CQSMALTB",
        "outputId": "32bcfb57-03bf-4f69-cc38-845bb86c5ab3"
      },
      "execution_count": 51,
      "outputs": [
        {
          "output_type": "execute_result",
          "data": {
            "text/plain": [
              "tensor([[8, 0],\n",
              "        [7, 9]])"
            ]
          },
          "metadata": {},
          "execution_count": 51
        }
      ]
    },
    {
      "cell_type": "code",
      "source": [
        "MATRIX.ndim"
      ],
      "metadata": {
        "colab": {
          "base_uri": "https://localhost:8080/"
        },
        "id": "2NUkdFigAqSD",
        "outputId": "3060f8dd-49f1-4b8c-9a53-45da3ba6e6fe"
      },
      "execution_count": 52,
      "outputs": [
        {
          "output_type": "execute_result",
          "data": {
            "text/plain": [
              "2"
            ]
          },
          "metadata": {},
          "execution_count": 52
        }
      ]
    },
    {
      "cell_type": "code",
      "source": [
        "MATRIX[0]"
      ],
      "metadata": {
        "colab": {
          "base_uri": "https://localhost:8080/"
        },
        "id": "6kPDSnqDAvxK",
        "outputId": "39f7f0fc-08b2-4be3-cf1d-323973aa3d17"
      },
      "execution_count": 53,
      "outputs": [
        {
          "output_type": "execute_result",
          "data": {
            "text/plain": [
              "tensor([8, 0])"
            ]
          },
          "metadata": {},
          "execution_count": 53
        }
      ]
    },
    {
      "cell_type": "code",
      "source": [
        "MATRIX.shape"
      ],
      "metadata": {
        "colab": {
          "base_uri": "https://localhost:8080/"
        },
        "id": "69cRLFgLA2bf",
        "outputId": "85464c56-5ee9-4790-eb9c-35fd63a81104"
      },
      "execution_count": 54,
      "outputs": [
        {
          "output_type": "execute_result",
          "data": {
            "text/plain": [
              "torch.Size([2, 2])"
            ]
          },
          "metadata": {},
          "execution_count": 54
        }
      ]
    },
    {
      "cell_type": "code",
      "source": [
        "#TENSOR\n",
        "TENSOR = torch.tensor([[[5, 9 ,7],\n",
        "                        [7, 8, 0],\n",
        "                        [8, 9, 9]]])\n",
        "\n",
        "TENSOR"
      ],
      "metadata": {
        "colab": {
          "base_uri": "https://localhost:8080/"
        },
        "id": "xfNSXLI9A-Io",
        "outputId": "c5bc01c2-b34d-4947-9928-0855357eb27f"
      },
      "execution_count": 55,
      "outputs": [
        {
          "output_type": "execute_result",
          "data": {
            "text/plain": [
              "tensor([[[5, 9, 7],\n",
              "         [7, 8, 0],\n",
              "         [8, 9, 9]]])"
            ]
          },
          "metadata": {},
          "execution_count": 55
        }
      ]
    },
    {
      "cell_type": "code",
      "source": [
        "TENSOR.ndim"
      ],
      "metadata": {
        "colab": {
          "base_uri": "https://localhost:8080/"
        },
        "id": "pDE7ubJiBhjX",
        "outputId": "3c8eead1-02fa-46dd-b074-19bd821780fb"
      },
      "execution_count": 56,
      "outputs": [
        {
          "output_type": "execute_result",
          "data": {
            "text/plain": [
              "3"
            ]
          },
          "metadata": {},
          "execution_count": 56
        }
      ]
    },
    {
      "cell_type": "code",
      "source": [
        "TENSOR.shape"
      ],
      "metadata": {
        "colab": {
          "base_uri": "https://localhost:8080/"
        },
        "id": "Yj24sV3TBu1Y",
        "outputId": "4df18d8a-7746-40ad-fcc5-69eb0f72fd59"
      },
      "execution_count": 57,
      "outputs": [
        {
          "output_type": "execute_result",
          "data": {
            "text/plain": [
              "torch.Size([1, 3, 3])"
            ]
          },
          "metadata": {},
          "execution_count": 57
        }
      ]
    },
    {
      "cell_type": "markdown",
      "source": [
        "Random Tensors\n",
        "\n",
        "'start with random numbers -> look at data->update random numbers -> look at data- update random numbers"
      ],
      "metadata": {
        "id": "j7lc-FP7FnrH"
      }
    },
    {
      "cell_type": "code",
      "source": [
        "# create a random tensor\n",
        "\n",
        "random_tensor = torch.rand(7, 7)\n",
        "random_tensor"
      ],
      "metadata": {
        "colab": {
          "base_uri": "https://localhost:8080/"
        },
        "id": "aLeSmdI9FrFY",
        "outputId": "3c58808d-5028-45a4-ed74-80677866522d"
      },
      "execution_count": 58,
      "outputs": [
        {
          "output_type": "execute_result",
          "data": {
            "text/plain": [
              "tensor([[0.4520, 0.0137, 0.9165, 0.4752, 0.9312, 0.8332, 0.0409],\n",
              "        [0.8266, 0.8601, 0.0023, 0.6624, 0.4458, 0.0928, 0.7282],\n",
              "        [0.0146, 0.6705, 0.3581, 0.3875, 0.8826, 0.0387, 0.8872],\n",
              "        [0.8483, 0.9574, 0.4610, 0.0981, 0.2900, 0.5225, 0.7850],\n",
              "        [0.8841, 0.7808, 0.4784, 0.5447, 0.7518, 0.9628, 0.7421],\n",
              "        [0.3633, 0.0462, 0.3736, 0.0806, 0.3104, 0.2467, 0.9689],\n",
              "        [0.8202, 0.5030, 0.3961, 0.8959, 0.6010, 0.7942, 0.2383]])"
            ]
          },
          "metadata": {},
          "execution_count": 58
        }
      ]
    },
    {
      "cell_type": "code",
      "source": [
        "random_tensor.ndim"
      ],
      "metadata": {
        "colab": {
          "base_uri": "https://localhost:8080/"
        },
        "id": "kCUVU8-EHDT0",
        "outputId": "a7159469-c1af-426d-be4a-37fcf67c4dc2"
      },
      "execution_count": 59,
      "outputs": [
        {
          "output_type": "execute_result",
          "data": {
            "text/plain": [
              "2"
            ]
          },
          "metadata": {},
          "execution_count": 59
        }
      ]
    },
    {
      "cell_type": "code",
      "source": [
        "#create a random tensor with similar shape to an image tensor\n",
        "\n",
        "random_image_size_tensor= torch.rand(size =(222,223, 8))#height, width,color channel\n",
        "random_image_size_tensor.shape , random_image_size_tensor.ndim"
      ],
      "metadata": {
        "colab": {
          "base_uri": "https://localhost:8080/"
        },
        "id": "Uma53_K7HRMB",
        "outputId": "86ec46ab-4cf5-4546-9942-9604b85bf777"
      },
      "execution_count": 60,
      "outputs": [
        {
          "output_type": "execute_result",
          "data": {
            "text/plain": [
              "(torch.Size([222, 223, 8]), 3)"
            ]
          },
          "metadata": {},
          "execution_count": 60
        }
      ]
    },
    {
      "cell_type": "code",
      "source": [
        "random_image_size_tensor"
      ],
      "metadata": {
        "colab": {
          "base_uri": "https://localhost:8080/"
        },
        "id": "FFALX49jH8EV",
        "outputId": "f978baca-767a-41fc-ee65-6dd1f6eb99f8"
      },
      "execution_count": 61,
      "outputs": [
        {
          "output_type": "execute_result",
          "data": {
            "text/plain": [
              "tensor([[[0.8631, 0.5204, 0.7600,  ..., 0.8325, 0.5163, 0.4672],\n",
              "         [0.1345, 0.0479, 0.1928,  ..., 0.9762, 0.3289, 0.6194],\n",
              "         [0.4970, 0.7120, 0.6445,  ..., 0.9964, 0.9319, 0.1533],\n",
              "         ...,\n",
              "         [0.4153, 0.8241, 0.2572,  ..., 0.6068, 0.4070, 0.0758],\n",
              "         [0.4899, 0.4991, 0.7902,  ..., 0.7709, 0.6833, 0.9559],\n",
              "         [0.4777, 0.7711, 0.2045,  ..., 0.3980, 0.4615, 0.0433]],\n",
              "\n",
              "        [[0.2933, 0.3105, 0.8452,  ..., 0.9784, 0.0983, 0.4777],\n",
              "         [0.9888, 0.3126, 0.1654,  ..., 0.7036, 0.2594, 0.4396],\n",
              "         [0.3574, 0.9481, 0.4736,  ..., 0.5374, 0.4086, 0.9835],\n",
              "         ...,\n",
              "         [0.9744, 0.8623, 0.7779,  ..., 0.2748, 0.9556, 0.4682],\n",
              "         [0.8166, 0.1213, 0.0291,  ..., 0.8484, 0.9590, 0.5480],\n",
              "         [0.5805, 0.5710, 0.8432,  ..., 0.6156, 0.5770, 0.8781]],\n",
              "\n",
              "        [[0.1834, 0.1358, 0.3718,  ..., 0.2566, 0.3371, 0.5618],\n",
              "         [0.3279, 0.1011, 0.4971,  ..., 0.5476, 0.5894, 0.3332],\n",
              "         [0.4499, 0.5624, 0.3037,  ..., 0.1865, 0.2876, 0.3219],\n",
              "         ...,\n",
              "         [0.5042, 0.0988, 0.5342,  ..., 0.6737, 0.8801, 0.5533],\n",
              "         [0.2647, 0.0529, 0.8035,  ..., 0.6722, 0.3012, 0.7543],\n",
              "         [0.6383, 0.0784, 0.2666,  ..., 0.6333, 0.0901, 0.5149]],\n",
              "\n",
              "        ...,\n",
              "\n",
              "        [[0.8633, 0.1864, 0.6873,  ..., 0.8079, 0.1513, 0.9237],\n",
              "         [0.6316, 0.3700, 0.9058,  ..., 0.1974, 0.2272, 0.1903],\n",
              "         [0.6985, 0.1541, 0.8542,  ..., 0.8980, 0.9086, 0.7584],\n",
              "         ...,\n",
              "         [0.2975, 0.9799, 0.3636,  ..., 0.5985, 0.8638, 0.5020],\n",
              "         [0.5062, 0.2292, 0.3821,  ..., 0.3907, 0.7468, 0.2293],\n",
              "         [0.6767, 0.6236, 0.0542,  ..., 0.4404, 0.4858, 0.5467]],\n",
              "\n",
              "        [[0.4918, 0.3272, 0.6479,  ..., 0.1134, 0.7789, 0.5768],\n",
              "         [0.6528, 0.0044, 0.0360,  ..., 0.9984, 0.5441, 0.4232],\n",
              "         [0.1046, 0.1134, 0.3920,  ..., 0.8846, 0.6541, 0.3630],\n",
              "         ...,\n",
              "         [0.0365, 0.2209, 0.6699,  ..., 0.5998, 0.7825, 0.9349],\n",
              "         [0.0181, 0.1823, 0.8423,  ..., 0.6802, 0.2826, 0.0679],\n",
              "         [0.6978, 0.6494, 0.3113,  ..., 0.6421, 0.7798, 0.4452]],\n",
              "\n",
              "        [[0.8881, 0.2748, 0.7992,  ..., 0.9882, 0.7665, 0.2109],\n",
              "         [0.3274, 0.6585, 0.8540,  ..., 0.2591, 0.6504, 0.8908],\n",
              "         [0.6652, 0.9705, 0.2207,  ..., 0.5079, 0.9996, 0.8852],\n",
              "         ...,\n",
              "         [0.5994, 0.0115, 0.5272,  ..., 0.0111, 0.7448, 0.7180],\n",
              "         [0.8152, 0.0050, 0.9280,  ..., 0.4315, 0.0633, 0.4912],\n",
              "         [0.6754, 0.8652, 0.8456,  ..., 0.1376, 0.6172, 0.5180]]])"
            ]
          },
          "metadata": {},
          "execution_count": 61
        }
      ]
    },
    {
      "cell_type": "code",
      "source": [
        "#create a tensor of all zeros\n",
        "\n",
        "zeros = torch.zeros(size=(7, 7))\n",
        "zeros"
      ],
      "metadata": {
        "colab": {
          "base_uri": "https://localhost:8080/"
        },
        "id": "h3AbkgOlIMqg",
        "outputId": "48f6ca5a-a446-43af-9f5e-3b6c62c19546"
      },
      "execution_count": 62,
      "outputs": [
        {
          "output_type": "execute_result",
          "data": {
            "text/plain": [
              "tensor([[0., 0., 0., 0., 0., 0., 0.],\n",
              "        [0., 0., 0., 0., 0., 0., 0.],\n",
              "        [0., 0., 0., 0., 0., 0., 0.],\n",
              "        [0., 0., 0., 0., 0., 0., 0.],\n",
              "        [0., 0., 0., 0., 0., 0., 0.],\n",
              "        [0., 0., 0., 0., 0., 0., 0.],\n",
              "        [0., 0., 0., 0., 0., 0., 0.]])"
            ]
          },
          "metadata": {},
          "execution_count": 62
        }
      ]
    },
    {
      "cell_type": "code",
      "source": [
        "#create a tensor of all ones\n",
        "\n",
        "ones= torch.ones(size=(3, 4))\n",
        "ones"
      ],
      "metadata": {
        "colab": {
          "base_uri": "https://localhost:8080/"
        },
        "id": "qriy4rHOI4Hb",
        "outputId": "196442c5-0546-46c8-eccf-71f0816fd853"
      },
      "execution_count": 63,
      "outputs": [
        {
          "output_type": "execute_result",
          "data": {
            "text/plain": [
              "tensor([[1., 1., 1., 1.],\n",
              "        [1., 1., 1., 1.],\n",
              "        [1., 1., 1., 1.]])"
            ]
          },
          "metadata": {},
          "execution_count": 63
        }
      ]
    },
    {
      "cell_type": "code",
      "source": [
        "#use torch.range\n",
        "torch.range(0, 10)"
      ],
      "metadata": {
        "colab": {
          "base_uri": "https://localhost:8080/"
        },
        "id": "UVo3AU_gJkM5",
        "outputId": "00a9e707-5a87-4ee3-8279-222c93581d82"
      },
      "execution_count": 64,
      "outputs": [
        {
          "output_type": "stream",
          "name": "stderr",
          "text": [
            "<ipython-input-64-a089c3bf7207>:2: UserWarning: torch.range is deprecated and will be removed in a future release because its behavior is inconsistent with Python's range builtin. Instead, use torch.arange, which produces values in [start, end).\n",
            "  torch.range(0, 10)\n"
          ]
        },
        {
          "output_type": "execute_result",
          "data": {
            "text/plain": [
              "tensor([ 0.,  1.,  2.,  3.,  4.,  5.,  6.,  7.,  8.,  9., 10.])"
            ]
          },
          "metadata": {},
          "execution_count": 64
        }
      ]
    },
    {
      "cell_type": "code",
      "source": [
        "one_to_ten= torch.arange(start=0, end= 10000, step=100)\n",
        "one_to_ten"
      ],
      "metadata": {
        "colab": {
          "base_uri": "https://localhost:8080/"
        },
        "id": "IVbC4HI5lez_",
        "outputId": "e85a7383-32b7-4150-8db9-258aa9868041"
      },
      "execution_count": 65,
      "outputs": [
        {
          "output_type": "execute_result",
          "data": {
            "text/plain": [
              "tensor([   0,  100,  200,  300,  400,  500,  600,  700,  800,  900, 1000, 1100,\n",
              "        1200, 1300, 1400, 1500, 1600, 1700, 1800, 1900, 2000, 2100, 2200, 2300,\n",
              "        2400, 2500, 2600, 2700, 2800, 2900, 3000, 3100, 3200, 3300, 3400, 3500,\n",
              "        3600, 3700, 3800, 3900, 4000, 4100, 4200, 4300, 4400, 4500, 4600, 4700,\n",
              "        4800, 4900, 5000, 5100, 5200, 5300, 5400, 5500, 5600, 5700, 5800, 5900,\n",
              "        6000, 6100, 6200, 6300, 6400, 6500, 6600, 6700, 6800, 6900, 7000, 7100,\n",
              "        7200, 7300, 7400, 7500, 7600, 7700, 7800, 7900, 8000, 8100, 8200, 8300,\n",
              "        8400, 8500, 8600, 8700, 8800, 8900, 9000, 9100, 9200, 9300, 9400, 9500,\n",
              "        9600, 9700, 9800, 9900])"
            ]
          },
          "metadata": {},
          "execution_count": 65
        }
      ]
    },
    {
      "cell_type": "code",
      "source": [
        "#creating tensors like\n",
        "\n",
        "ten_zeros= torch.zeros_like(input=one_to_ten)\n",
        "ten_zeros"
      ],
      "metadata": {
        "colab": {
          "base_uri": "https://localhost:8080/"
        },
        "id": "-t320D_nxgMO",
        "outputId": "e5effbc9-48ff-427d-95ff-d1106b97ce49"
      },
      "execution_count": 66,
      "outputs": [
        {
          "output_type": "execute_result",
          "data": {
            "text/plain": [
              "tensor([0, 0, 0, 0, 0, 0, 0, 0, 0, 0, 0, 0, 0, 0, 0, 0, 0, 0, 0, 0, 0, 0, 0, 0,\n",
              "        0, 0, 0, 0, 0, 0, 0, 0, 0, 0, 0, 0, 0, 0, 0, 0, 0, 0, 0, 0, 0, 0, 0, 0,\n",
              "        0, 0, 0, 0, 0, 0, 0, 0, 0, 0, 0, 0, 0, 0, 0, 0, 0, 0, 0, 0, 0, 0, 0, 0,\n",
              "        0, 0, 0, 0, 0, 0, 0, 0, 0, 0, 0, 0, 0, 0, 0, 0, 0, 0, 0, 0, 0, 0, 0, 0,\n",
              "        0, 0, 0, 0])"
            ]
          },
          "metadata": {},
          "execution_count": 66
        }
      ]
    },
    {
      "cell_type": "markdown",
      "source": [
        "TENSOR DATATYPES\n",
        "\n",
        "Note ❎Tensor datatypes are one of the 3 big issues you will run into with PyTorch and deep learning\n",
        "\n",
        "1. Tensors not the right datatype\n",
        "2. Tensors not the right shape\n",
        "3. tensors not on the right devices"
      ],
      "metadata": {
        "id": "W1xhcBo0yFuK"
      }
    },
    {
      "cell_type": "code",
      "source": [
        "float_32_tensor= torch.tensor([3.0, 6.0, 7.0],\n",
        "                              dtype=torch.float32,\n",
        "                              device= None,\n",
        "                              requires_grad=False\n",
        "                              )\n",
        "\n",
        "float_32_tensor"
      ],
      "metadata": {
        "colab": {
          "base_uri": "https://localhost:8080/"
        },
        "id": "D-hfiKRNx91P",
        "outputId": "db018d9f-0a39-48da-8a53-c32b36a5baf0"
      },
      "execution_count": 67,
      "outputs": [
        {
          "output_type": "execute_result",
          "data": {
            "text/plain": [
              "tensor([3., 6., 7.])"
            ]
          },
          "metadata": {},
          "execution_count": 67
        }
      ]
    },
    {
      "cell_type": "code",
      "source": [
        "float_16_tensor= float_32_tensor.type(torch.float16)\n",
        "float_16_tensor"
      ],
      "metadata": {
        "colab": {
          "base_uri": "https://localhost:8080/"
        },
        "id": "scN1o8iR3-h8",
        "outputId": "8895a9ba-726b-4693-b41b-1cef8eaed679"
      },
      "execution_count": 68,
      "outputs": [
        {
          "output_type": "execute_result",
          "data": {
            "text/plain": [
              "tensor([3., 6., 7.], dtype=torch.float16)"
            ]
          },
          "metadata": {},
          "execution_count": 68
        }
      ]
    },
    {
      "cell_type": "code",
      "source": [
        "float_32_tensor*float_16_tensor"
      ],
      "metadata": {
        "colab": {
          "base_uri": "https://localhost:8080/"
        },
        "id": "PNEpA5Dv4TNb",
        "outputId": "0a0bfedc-d293-4c51-fd40-98cbb25c3410"
      },
      "execution_count": 69,
      "outputs": [
        {
          "output_type": "execute_result",
          "data": {
            "text/plain": [
              "tensor([ 9., 36., 49.])"
            ]
          },
          "metadata": {},
          "execution_count": 69
        }
      ]
    },
    {
      "cell_type": "code",
      "source": [
        "int_32_tensor= torch.tensor([3, 6, 9],\n",
        "                            dtype= torch.long)\n",
        "int_32_tensor"
      ],
      "metadata": {
        "colab": {
          "base_uri": "https://localhost:8080/"
        },
        "id": "EMB17aRS4cYA",
        "outputId": "249dbc24-ee40-4e3b-a41c-cdd49803daeb"
      },
      "execution_count": 70,
      "outputs": [
        {
          "output_type": "execute_result",
          "data": {
            "text/plain": [
              "tensor([3, 6, 9])"
            ]
          },
          "metadata": {},
          "execution_count": 70
        }
      ]
    },
    {
      "cell_type": "code",
      "source": [
        "float_32_tensor*int_32_tensor"
      ],
      "metadata": {
        "colab": {
          "base_uri": "https://localhost:8080/"
        },
        "id": "3bg8rAy847kR",
        "outputId": "9ebfb189-4e77-46ac-ce06-a8f8faa5f349"
      },
      "execution_count": 71,
      "outputs": [
        {
          "output_type": "execute_result",
          "data": {
            "text/plain": [
              "tensor([ 9., 36., 63.])"
            ]
          },
          "metadata": {},
          "execution_count": 71
        }
      ]
    },
    {
      "cell_type": "code",
      "source": [
        "float_32_tensor.shape"
      ],
      "metadata": {
        "colab": {
          "base_uri": "https://localhost:8080/"
        },
        "id": "cvHKxIrW6A5Y",
        "outputId": "90b950c5-ca6d-47fb-8047-9369e45240ac"
      },
      "execution_count": 72,
      "outputs": [
        {
          "output_type": "execute_result",
          "data": {
            "text/plain": [
              "torch.Size([3])"
            ]
          },
          "metadata": {},
          "execution_count": 72
        }
      ]
    },
    {
      "cell_type": "markdown",
      "source": [
        "GETTING INFORMATION FROM TENSORS"
      ],
      "metadata": {
        "id": "tSnrSszpO2qq"
      }
    },
    {
      "cell_type": "code",
      "source": [
        "some_tensor= torch.rand(5, 7)\n",
        "some_tensor"
      ],
      "metadata": {
        "colab": {
          "base_uri": "https://localhost:8080/"
        },
        "id": "Lh0YhrHAOZd4",
        "outputId": "2ad7f033-cd4e-4a3d-93ff-c1f42b3f34e0"
      },
      "execution_count": 73,
      "outputs": [
        {
          "output_type": "execute_result",
          "data": {
            "text/plain": [
              "tensor([[0.9439, 0.9685, 0.9473, 0.5932, 0.3191, 0.5963, 0.3552],\n",
              "        [0.5045, 0.4414, 0.5414, 0.7546, 0.8254, 0.7624, 0.8626],\n",
              "        [0.8086, 0.3228, 0.4535, 0.1191, 0.1917, 0.2315, 0.1485],\n",
              "        [0.1239, 0.6136, 0.8808, 0.7296, 0.6835, 0.8970, 0.2576],\n",
              "        [0.3679, 0.6572, 0.6476, 0.3756, 0.9831, 0.4058, 0.2791]])"
            ]
          },
          "metadata": {},
          "execution_count": 73
        }
      ]
    },
    {
      "cell_type": "code",
      "source": [
        "print(some_tensor)\n",
        "print(f\"Datatype is {some_tensor.dtype}\"  )\n",
        "print(f\"shape is {some_tensor.shape}\" )\n",
        "print(f\"device is {some_tensor.device}\" )\n",
        "\n"
      ],
      "metadata": {
        "colab": {
          "base_uri": "https://localhost:8080/"
        },
        "id": "hG8GCW2TPUV9",
        "outputId": "acc02b77-edf3-4dda-ff5b-fa38bb85897a"
      },
      "execution_count": 74,
      "outputs": [
        {
          "output_type": "stream",
          "name": "stdout",
          "text": [
            "tensor([[0.9439, 0.9685, 0.9473, 0.5932, 0.3191, 0.5963, 0.3552],\n",
            "        [0.5045, 0.4414, 0.5414, 0.7546, 0.8254, 0.7624, 0.8626],\n",
            "        [0.8086, 0.3228, 0.4535, 0.1191, 0.1917, 0.2315, 0.1485],\n",
            "        [0.1239, 0.6136, 0.8808, 0.7296, 0.6835, 0.8970, 0.2576],\n",
            "        [0.3679, 0.6572, 0.6476, 0.3756, 0.9831, 0.4058, 0.2791]])\n",
            "Datatype is torch.float32\n",
            "shape is torch.Size([5, 7])\n",
            "device is cpu\n"
          ]
        }
      ]
    },
    {
      "cell_type": "markdown",
      "source": [
        "MANIPULATING TENSORS\n",
        "\n",
        "one can multiply\n",
        "divide\n",
        "add\n",
        "subtract\n",
        "matrix multiplication"
      ],
      "metadata": {
        "id": "U8HR6TTmSScP"
      }
    },
    {
      "cell_type": "code",
      "source": [
        "#create tensor\n",
        "\n",
        "tensor= torch.tensor([7, 7, 8])\n",
        "tensor+ 100"
      ],
      "metadata": {
        "colab": {
          "base_uri": "https://localhost:8080/"
        },
        "id": "zePa3kGeQgrI",
        "outputId": "0ae08fcd-c32c-4291-e312-d9d8e1b89f68"
      },
      "execution_count": 75,
      "outputs": [
        {
          "output_type": "execute_result",
          "data": {
            "text/plain": [
              "tensor([107, 107, 108])"
            ]
          },
          "metadata": {},
          "execution_count": 75
        }
      ]
    },
    {
      "cell_type": "code",
      "source": [
        "tensor + 10"
      ],
      "metadata": {
        "colab": {
          "base_uri": "https://localhost:8080/"
        },
        "id": "1fzuMdIXQRMe",
        "outputId": "f81718d6-4320-4e25-b9ae-ac1763b40394"
      },
      "execution_count": 76,
      "outputs": [
        {
          "output_type": "execute_result",
          "data": {
            "text/plain": [
              "tensor([17, 17, 18])"
            ]
          },
          "metadata": {},
          "execution_count": 76
        }
      ]
    },
    {
      "cell_type": "code",
      "source": [
        "tensor/2"
      ],
      "metadata": {
        "colab": {
          "base_uri": "https://localhost:8080/"
        },
        "id": "BYUv9c8DTDKv",
        "outputId": "5c5544a3-2e07-4398-cbd7-2dc4ff2769eb"
      },
      "execution_count": 77,
      "outputs": [
        {
          "output_type": "execute_result",
          "data": {
            "text/plain": [
              "tensor([3.5000, 3.5000, 4.0000])"
            ]
          },
          "metadata": {},
          "execution_count": 77
        }
      ]
    },
    {
      "cell_type": "code",
      "source": [
        "tensor- 10"
      ],
      "metadata": {
        "colab": {
          "base_uri": "https://localhost:8080/"
        },
        "id": "ZWS_H7U6TIVl",
        "outputId": "11cdeaeb-b4e9-43e4-9974-a2272b510398"
      },
      "execution_count": 78,
      "outputs": [
        {
          "output_type": "execute_result",
          "data": {
            "text/plain": [
              "tensor([-3, -3, -2])"
            ]
          },
          "metadata": {},
          "execution_count": 78
        }
      ]
    },
    {
      "cell_type": "code",
      "source": [
        "# using pytorch in built functions\n",
        "\n",
        "print(torch.add(tensor, 20))\n",
        "print(torch.mul(tensor, 2))\n",
        "print(torch.sub(tensor, 2))\n",
        "print(torch.div(tensor, 7))"
      ],
      "metadata": {
        "colab": {
          "base_uri": "https://localhost:8080/"
        },
        "id": "r-jEVuOdTNtX",
        "outputId": "20cda55c-6829-4f59-9251-b78f61d1d76e"
      },
      "execution_count": 79,
      "outputs": [
        {
          "output_type": "stream",
          "name": "stdout",
          "text": [
            "tensor([27, 27, 28])\n",
            "tensor([14, 14, 16])\n",
            "tensor([5, 5, 6])\n",
            "tensor([1.0000, 1.0000, 1.1429])\n"
          ]
        }
      ]
    },
    {
      "cell_type": "code",
      "source": [
        "#MATRIX MULTIPLICATION/ dot product\n",
        "print(tensor , \"*\", tensor)\n",
        "print(f\"equals: {tensor*tensor}\")\n"
      ],
      "metadata": {
        "id": "dcTTUOOxTmf9",
        "colab": {
          "base_uri": "https://localhost:8080/"
        },
        "outputId": "0b65a229-9e2a-449d-9b5e-4f99fc6d0468"
      },
      "execution_count": 80,
      "outputs": [
        {
          "output_type": "stream",
          "name": "stdout",
          "text": [
            "tensor([7, 7, 8]) * tensor([7, 7, 8])\n",
            "equals: tensor([49, 49, 64])\n"
          ]
        }
      ]
    },
    {
      "cell_type": "code",
      "source": [
        "torch.matmul(tensor, tensor)"
      ],
      "metadata": {
        "colab": {
          "base_uri": "https://localhost:8080/"
        },
        "id": "XDExtJcbW_re",
        "outputId": "b846a099-99ea-4c73-f65e-8d7f1e89ad5b"
      },
      "execution_count": 81,
      "outputs": [
        {
          "output_type": "execute_result",
          "data": {
            "text/plain": [
              "tensor(162)"
            ]
          },
          "metadata": {},
          "execution_count": 81
        }
      ]
    },
    {
      "cell_type": "markdown",
      "source": [
        "One of the most common errors in deep learning: shape errors"
      ],
      "metadata": {
        "id": "CgW_PxkfbiOe"
      }
    },
    {
      "cell_type": "code",
      "source": [
        "#Shapes for matrix multiplication\n",
        "tensor_A= torch.tensor([[1,4],\n",
        "                       [7,7],\n",
        "                       [8,9]])\n",
        "\n",
        "tensor_B= torch.tensor([[1,8],\n",
        "                        [8,0],\n",
        "                        [9,8]])\n",
        "\n",
        "torch.mm(tensor_A,tensor_B)"
      ],
      "metadata": {
        "colab": {
          "base_uri": "https://localhost:8080/",
          "height": 200
        },
        "id": "xiBYOAXVXKrf",
        "outputId": "7591d194-d333-4198-daa2-174bde171cad"
      },
      "execution_count": 82,
      "outputs": [
        {
          "output_type": "error",
          "ename": "RuntimeError",
          "evalue": "ignored",
          "traceback": [
            "\u001b[0;31m---------------------------------------------------------------------------\u001b[0m",
            "\u001b[0;31mRuntimeError\u001b[0m                              Traceback (most recent call last)",
            "\u001b[0;32m<ipython-input-82-7afecf4259d7>\u001b[0m in \u001b[0;36m<cell line: 10>\u001b[0;34m()\u001b[0m\n\u001b[1;32m      8\u001b[0m                         [9,8]])\n\u001b[1;32m      9\u001b[0m \u001b[0;34m\u001b[0m\u001b[0m\n\u001b[0;32m---> 10\u001b[0;31m \u001b[0mtorch\u001b[0m\u001b[0;34m.\u001b[0m\u001b[0mmm\u001b[0m\u001b[0;34m(\u001b[0m\u001b[0mtensor_A\u001b[0m\u001b[0;34m,\u001b[0m\u001b[0mtensor_B\u001b[0m\u001b[0;34m)\u001b[0m\u001b[0;34m\u001b[0m\u001b[0;34m\u001b[0m\u001b[0m\n\u001b[0m",
            "\u001b[0;31mRuntimeError\u001b[0m: mat1 and mat2 shapes cannot be multiplied (3x2 and 3x2)"
          ]
        }
      ]
    },
    {
      "cell_type": "code",
      "source": [
        "tensor_B.shape , tensor_A.shape"
      ],
      "metadata": {
        "colab": {
          "base_uri": "https://localhost:8080/"
        },
        "id": "UonhJp2vcqPv",
        "outputId": "f03a27fd-9afa-4580-bc69-09a25c3f1fbf"
      },
      "execution_count": 83,
      "outputs": [
        {
          "output_type": "execute_result",
          "data": {
            "text/plain": [
              "(torch.Size([3, 2]), torch.Size([3, 2]))"
            ]
          },
          "metadata": {},
          "execution_count": 83
        }
      ]
    },
    {
      "cell_type": "markdown",
      "source": [
        "to fix the shape issues , we can multiply the shape of one of our tensors using a **transpose**\n",
        "\n",
        "**Transpose **switches axis of one the tensors"
      ],
      "metadata": {
        "id": "SpoPeomac7yt"
      }
    },
    {
      "cell_type": "code",
      "source": [
        "tensor_A.T"
      ],
      "metadata": {
        "colab": {
          "base_uri": "https://localhost:8080/"
        },
        "id": "V7akRqNNc3Xn",
        "outputId": "d05c1db1-755b-4bb5-b81d-f017d804afae"
      },
      "execution_count": 84,
      "outputs": [
        {
          "output_type": "execute_result",
          "data": {
            "text/plain": [
              "tensor([[1, 7, 8],\n",
              "        [4, 7, 9]])"
            ]
          },
          "metadata": {},
          "execution_count": 84
        }
      ]
    },
    {
      "cell_type": "code",
      "source": [
        "torch.mm(tensor_A.T, tensor_B)"
      ],
      "metadata": {
        "colab": {
          "base_uri": "https://localhost:8080/"
        },
        "id": "coi-PW2Mde98",
        "outputId": "27e84d9b-118c-446c-cdfa-c1daa1c4476a"
      },
      "execution_count": 85,
      "outputs": [
        {
          "output_type": "execute_result",
          "data": {
            "text/plain": [
              "tensor([[129,  72],\n",
              "        [141, 104]])"
            ]
          },
          "metadata": {},
          "execution_count": 85
        }
      ]
    },
    {
      "cell_type": "code",
      "source": [
        "tensor_C=(tensor_B.T)\n",
        "tensor_C.shape"
      ],
      "metadata": {
        "colab": {
          "base_uri": "https://localhost:8080/"
        },
        "id": "DyLDAjLld4-q",
        "outputId": "650a6510-9399-4231-e1c2-1c28fe959d7a"
      },
      "execution_count": 86,
      "outputs": [
        {
          "output_type": "execute_result",
          "data": {
            "text/plain": [
              "torch.Size([2, 3])"
            ]
          },
          "metadata": {},
          "execution_count": 86
        }
      ]
    },
    {
      "cell_type": "markdown",
      "source": [
        "TENSOR AGGREGATION"
      ],
      "metadata": {
        "id": "y7YpO5o8R1le"
      }
    },
    {
      "cell_type": "code",
      "source": [
        "x=torch.arange(0, 1000, 100)\n",
        "x"
      ],
      "metadata": {
        "colab": {
          "base_uri": "https://localhost:8080/"
        },
        "id": "Hir1dkqjRzKA",
        "outputId": "075e6d51-4e08-4709-f190-aaa75947d1a8"
      },
      "execution_count": 87,
      "outputs": [
        {
          "output_type": "execute_result",
          "data": {
            "text/plain": [
              "tensor([  0, 100, 200, 300, 400, 500, 600, 700, 800, 900])"
            ]
          },
          "metadata": {},
          "execution_count": 87
        }
      ]
    },
    {
      "cell_type": "code",
      "source": [
        "torch.min(x)\n",
        "x.min()"
      ],
      "metadata": {
        "colab": {
          "base_uri": "https://localhost:8080/"
        },
        "id": "aZKul-Y-vbTk",
        "outputId": "f0224810-67c5-4482-a109-7447a08aa9f2"
      },
      "execution_count": 90,
      "outputs": [
        {
          "output_type": "execute_result",
          "data": {
            "text/plain": [
              "tensor(0)"
            ]
          },
          "metadata": {},
          "execution_count": 90
        }
      ]
    },
    {
      "cell_type": "code",
      "source": [
        "x.max()"
      ],
      "metadata": {
        "colab": {
          "base_uri": "https://localhost:8080/"
        },
        "id": "0vZtQHMxvp7N",
        "outputId": "ab95b60a-2ef8-4912-9ac5-f5b8649b2f2b"
      },
      "execution_count": 91,
      "outputs": [
        {
          "output_type": "execute_result",
          "data": {
            "text/plain": [
              "tensor(900)"
            ]
          },
          "metadata": {},
          "execution_count": 91
        }
      ]
    },
    {
      "cell_type": "code",
      "source": [
        "torch.mean(x.type(torch.float32))\n",
        "x.type(torch.float32).mean()"
      ],
      "metadata": {
        "colab": {
          "base_uri": "https://localhost:8080/"
        },
        "id": "UyqpoHnnvuL5",
        "outputId": "eb27c9b0-498d-4b94-cfc5-a3e5223f0e3a"
      },
      "execution_count": 95,
      "outputs": [
        {
          "output_type": "execute_result",
          "data": {
            "text/plain": [
              "tensor(450.)"
            ]
          },
          "metadata": {},
          "execution_count": 95
        }
      ]
    },
    {
      "cell_type": "code",
      "source": [
        "x.sum()"
      ],
      "metadata": {
        "colab": {
          "base_uri": "https://localhost:8080/"
        },
        "id": "luFLxFf3z8qR",
        "outputId": "14517cd7-b416-4722-e801-f2fb0c2003fd"
      },
      "execution_count": 96,
      "outputs": [
        {
          "output_type": "execute_result",
          "data": {
            "text/plain": [
              "tensor(4500)"
            ]
          },
          "metadata": {},
          "execution_count": 96
        }
      ]
    },
    {
      "cell_type": "code",
      "source": [
        " x.argmin()"
      ],
      "metadata": {
        "colab": {
          "base_uri": "https://localhost:8080/"
        },
        "id": "7m_bEBYr0Bxv",
        "outputId": "6a57176b-e814-47f7-8fa4-633c72278f26"
      },
      "execution_count": 97,
      "outputs": [
        {
          "output_type": "execute_result",
          "data": {
            "text/plain": [
              "tensor(0)"
            ]
          },
          "metadata": {},
          "execution_count": 97
        }
      ]
    },
    {
      "cell_type": "code",
      "source": [
        "x.argmax()"
      ],
      "metadata": {
        "colab": {
          "base_uri": "https://localhost:8080/"
        },
        "id": "O03ln3wM1424",
        "outputId": "20cace6e-5b53-4be9-e0b8-d4da7b6d0821"
      },
      "execution_count": 98,
      "outputs": [
        {
          "output_type": "execute_result",
          "data": {
            "text/plain": [
              "tensor(9)"
            ]
          },
          "metadata": {},
          "execution_count": 98
        }
      ]
    },
    {
      "cell_type": "code",
      "source": [],
      "metadata": {
        "id": "kTgPuC1k2YcY"
      },
      "execution_count": null,
      "outputs": []
    }
  ]
}