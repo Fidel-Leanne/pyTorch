{
  "nbformat": 4,
  "nbformat_minor": 0,
  "metadata": {
    "colab": {
      "provenance": [],
      "authorship_tag": "ABX9TyMgVmaU/SJQy983qQncXVRU",
      "include_colab_link": true
    },
    "kernelspec": {
      "name": "python3",
      "display_name": "Python 3"
    },
    "language_info": {
      "name": "python"
    }
  },
  "cells": [
    {
      "cell_type": "markdown",
      "metadata": {
        "id": "view-in-github",
        "colab_type": "text"
      },
      "source": [
        "<a href=\"https://colab.research.google.com/github/Fidel-Leanne/pyTorch/blob/master/pyTorchWorkflowFundamentals.ipynb\" target=\"_parent\"><img src=\"https://colab.research.google.com/assets/colab-badge.svg\" alt=\"Open In Colab\"/></a>"
      ]
    },
    {
      "cell_type": "code",
      "execution_count": 1,
      "metadata": {
        "colab": {
          "base_uri": "https://localhost:8080/",
          "height": 36
        },
        "id": "mESLx1RPlh79",
        "outputId": "e69fd035-3b34-4c56-e43a-473f5c2c4b0e"
      },
      "outputs": [
        {
          "output_type": "execute_result",
          "data": {
            "text/plain": [
              "'2.0.1+cu118'"
            ],
            "application/vnd.google.colaboratory.intrinsic+json": {
              "type": "string"
            }
          },
          "metadata": {},
          "execution_count": 1
        }
      ],
      "source": [
        "import torch\n",
        "from torch import nn\n",
        "import pandas as pd\n",
        "import numpy as np\n",
        "import matplotlib.pyplot as plt\n",
        "\n",
        "\n",
        "torch.__version__"
      ]
    },
    {
      "cell_type": "markdown",
      "source": [
        "Data preparation and loading(turning data into tensors)\n",
        "\n",
        "Data can be\n",
        "\n",
        "\n",
        "1.   Excel spreadsheet\n",
        "2.   images\n",
        "3.   DNA\n",
        "4.   text\n",
        "5.   videos\n",
        "6.   audio\n",
        "  lets showcase known data using linear regression\n",
        "\n",
        "\n"
      ],
      "metadata": {
        "id": "as44Dlztmuyh"
      }
    },
    {
      "cell_type": "code",
      "source": [
        "#create known parameter\n",
        "\n",
        "weight = 0.9\n",
        "bias= 0.4\n",
        "\n",
        "# create\n",
        "\n",
        "start = 0\n",
        "end =1\n",
        "\n",
        "step =0.02\n",
        "X= torch.arange(start , end, step).unsqueeze(dim=1)\n",
        "y= weight *X + bias\n",
        "\n",
        "X[:10], y[:10]"
      ],
      "metadata": {
        "colab": {
          "base_uri": "https://localhost:8080/"
        },
        "id": "EowllZwHmRGR",
        "outputId": "e47edb44-362a-4b3a-deed-b5ec7b1d4beb"
      },
      "execution_count": 2,
      "outputs": [
        {
          "output_type": "execute_result",
          "data": {
            "text/plain": [
              "(tensor([[0.0000],\n",
              "         [0.0200],\n",
              "         [0.0400],\n",
              "         [0.0600],\n",
              "         [0.0800],\n",
              "         [0.1000],\n",
              "         [0.1200],\n",
              "         [0.1400],\n",
              "         [0.1600],\n",
              "         [0.1800]]),\n",
              " tensor([[0.4000],\n",
              "         [0.4180],\n",
              "         [0.4360],\n",
              "         [0.4540],\n",
              "         [0.4720],\n",
              "         [0.4900],\n",
              "         [0.5080],\n",
              "         [0.5260],\n",
              "         [0.5440],\n",
              "         [0.5620]]))"
            ]
          },
          "metadata": {},
          "execution_count": 2
        }
      ]
    },
    {
      "cell_type": "code",
      "source": [
        "len(X), len(y)"
      ],
      "metadata": {
        "colab": {
          "base_uri": "https://localhost:8080/"
        },
        "id": "aF2-qSNPpx3q",
        "outputId": "475cc2fc-814f-4f1f-a4c5-221a71e913e9"
      },
      "execution_count": 3,
      "outputs": [
        {
          "output_type": "execute_result",
          "data": {
            "text/plain": [
              "(50, 50)"
            ]
          },
          "metadata": {},
          "execution_count": 3
        }
      ]
    },
    {
      "cell_type": "markdown",
      "source": [
        "Split data into training , validation and testing data"
      ],
      "metadata": {
        "id": "TneacR2Wqq--"
      }
    },
    {
      "cell_type": "code",
      "source": [
        "#create a train/test split\n",
        "\n",
        "train_split= int(0.8*len(X))\n",
        "X_train, y_train= X[:train_split] , y[:train_split]\n",
        "X_test, y_test= X[train_split:], y[train_split:]\n",
        "\n",
        "len(X_train), len(y_train), len(X_test), len(y_test)"
      ],
      "metadata": {
        "colab": {
          "base_uri": "https://localhost:8080/"
        },
        "id": "u3JGygYbqnom",
        "outputId": "2691a623-8bbc-4d4e-88bc-dae013d00257"
      },
      "execution_count": 4,
      "outputs": [
        {
          "output_type": "execute_result",
          "data": {
            "text/plain": [
              "(40, 40, 10, 10)"
            ]
          },
          "metadata": {},
          "execution_count": 4
        }
      ]
    },
    {
      "cell_type": "markdown",
      "source": [
        "how to visualise our data"
      ],
      "metadata": {
        "id": "AUj9mG1ks05n"
      }
    },
    {
      "cell_type": "code",
      "source": [
        "def plot_predictions(train_data=X_train,\n",
        "                     train_labels= y_train,\n",
        "                     test_data=X_test,\n",
        "                     test_labels= y_test,\n",
        "                     predictions= None):\n",
        "\n",
        " plt.figure(figsize=(10, 7))\n",
        " #plot training data in blue\n",
        " plt.scatter(train_data, train_labels, c=\"b\" , s= 4, label=\"Training data\")\n",
        "\n",
        " #plotting testing data in green\n",
        " plt.scatter(test_data, test_labels, c=\"g\" , s=4, label=(\"Testing data\"))\n",
        "\n",
        " #are there any predictions\n",
        " if predictions is not None:\n",
        "  #plot predictions\n",
        "  plt.scater(test_data, predictions, c=\"r\", s=4, label=(\"predictions\"))\n",
        "#show the legend\n",
        "plt.legend(prop={\"size\": 14});"
      ],
      "metadata": {
        "colab": {
          "base_uri": "https://localhost:8080/",
          "height": 473
        },
        "id": "9OK15TX3szG4",
        "outputId": "47c78545-2d6f-452b-f1eb-d349539e844e"
      },
      "execution_count": 5,
      "outputs": [
        {
          "output_type": "stream",
          "name": "stderr",
          "text": [
            "WARNING:matplotlib.legend:No artists with labels found to put in legend.  Note that artists whose label start with an underscore are ignored when legend() is called with no argument.\n"
          ]
        },
        {
          "output_type": "display_data",
          "data": {
            "text/plain": [
              "<Figure size 640x480 with 1 Axes>"
            ],
            "image/png": "[encoded data removed]"
          },
          "metadata": {}
        }
      ]
    },
    {
      "cell_type": "code",
      "source": [
        "plot_predictions();"
      ],
      "metadata": {
        "colab": {
          "base_uri": "https://localhost:8080/",
          "height": 532
        },
        "id": "HyzGNYuDv_ul",
        "outputId": "5343cb4a-be5a-4b62-bdba-9a226cce1d37"
      },
      "execution_count": 6,
      "outputs": [
        {
          "output_type": "display_data",
          "data": {
            "text/plain": [
              "<Figure size 1000x700 with 1 Axes>"
            ],
            "image/png": "[encoded data removed]"
          },
          "metadata": {}
        }
      ]
    },
    {
      "cell_type": "markdown",
      "source": [
        "Building a PyTorch Model\n",
        "\n",
        "> Starts with random values\n",
        "> looks at training data\n",
        "\n",
        "uses two algorithms\n",
        "1. Gradient descent\n",
        "2. Backpropagation\n",
        "\n"
      ],
      "metadata": {
        "id": "wfL70HVVwxmP"
      }
    },
    {
      "cell_type": "code",
      "source": [
        "#create linear regression model class\n",
        "\n",
        "class LinearRegressionModel(nn.Module):\n",
        "  def __init__(self) :\n",
        "   super().__init__()\n",
        "   self.weight= nn.Parameter(torch.randn(1,\n",
        "                                          requires_grad=True,\n",
        "                                          dtype=torch.float))\n",
        "\n",
        "   self.bias=nn.Parameter(torch.randn(1,\n",
        "                                      requires_grad=True,\n",
        "                                      dtype=torch.float))\n",
        "\n",
        "#forward method is to define the computation in the model\n",
        "   def forward(self, x: torch.Tensor)-> torch.Tensor:\n",
        "    return self.weight* x +self.bias\n"
      ],
      "metadata": {
        "id": "SmxNfSP0wJgP"
      },
      "execution_count": 8,
      "outputs": []
    },
    {
      "cell_type": "markdown",
      "source": [
        "### PyTorch model building essentials\n",
        "\n",
        "\n",
        "torch.nn\n",
        "torch.nn.Parameter\n",
        "torch.nn.Module\n",
        "\n",
        "1.   List item\n",
        "2.   List item\n",
        "\n"
      ],
      "metadata": {
        "id": "DQ5k_yiPnlXT"
      }
    },
    {
      "cell_type": "code",
      "source": [
        "##Checking the contents of our model\n",
        "#Create a random seed\n",
        "\n",
        "torch.manual_seed(42)\n",
        "\n",
        "\n",
        "#Create an instacne of the model (this is the subclass of the nn module)\n",
        "model_0=LinearRegressionModel()\n",
        "\n",
        "#Checkout the parameters\n",
        "\n",
        "list(model_0.parameters())"
      ],
      "metadata": {
        "colab": {
          "base_uri": "https://localhost:8080/"
        },
        "id": "iEYDZCbYj6X4",
        "outputId": "1eb75d9b-707c-49e9-da42-1d1a225739e2"
      },
      "execution_count": 15,
      "outputs": [
        {
          "output_type": "execute_result",
          "data": {
            "text/plain": [
              "[Parameter containing:\n",
              " tensor([0.3367], requires_grad=True),\n",
              " Parameter containing:\n",
              " tensor([0.1288], requires_grad=True)]"
            ]
          },
          "metadata": {},
          "execution_count": 15
        }
      ]
    },
    {
      "cell_type": "code",
      "source": [
        "model_0.state_dict()"
      ],
      "metadata": {
        "id": "0AhS6VhhneH1",
        "colab": {
          "base_uri": "https://localhost:8080/"
        },
        "outputId": "f7581a70-95b0-47d5-d996-8ad81f632a36"
      },
      "execution_count": 16,
      "outputs": [
        {
          "output_type": "execute_result",
          "data": {
            "text/plain": [
              "OrderedDict([('weight', tensor([0.3367])), ('bias', tensor([0.1288]))])"
            ]
          },
          "metadata": {},
          "execution_count": 16
        }
      ]
    },
    {
      "cell_type": "code",
      "source": [
        "weight , bias"
      ],
      "metadata": {
        "colab": {
          "base_uri": "https://localhost:8080/"
        },
        "id": "Teb-zw4yraVm",
        "outputId": "666f1a25-5e47-414d-f68d-e01577301367"
      },
      "execution_count": 17,
      "outputs": [
        {
          "output_type": "execute_result",
          "data": {
            "text/plain": [
              "(0.9, 0.4)"
            ]
          },
          "metadata": {},
          "execution_count": 17
        }
      ]
    },
    {
      "cell_type": "code",
      "source": [],
      "metadata": {
        "id": "azUiB3aFrflO"
      },
      "execution_count": null,
      "outputs": []
    }
  ]
}