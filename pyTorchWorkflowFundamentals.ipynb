{
  "nbformat": 4,
  "nbformat_minor": 0,
  "metadata": {
    "colab": {
      "provenance": [],
      "authorship_tag": "ABX9TyNDaP+1L1/k4ojhPalRCPPT",
      "include_colab_link": true
    },
    "kernelspec": {
      "name": "python3",
      "display_name": "Python 3"
    },
    "language_info": {
      "name": "python"
    }
  },
  "cells": [
    {
      "cell_type": "markdown",
      "metadata": {
        "id": "view-in-github",
        "colab_type": "text"
      },
      "source": [
        "<a href=\"https://colab.research.google.com/github/Fidel-Leanne/pyTorch/blob/master/pyTorchWorkflowFundamentals.ipynb\" target=\"_parent\"><img src=\"https://colab.research.google.com/assets/colab-badge.svg\" alt=\"Open In Colab\"/></a>"
      ]
    },
    {
      "cell_type": "code",
      "execution_count": 5,
      "metadata": {
        "colab": {
          "base_uri": "https://localhost:8080/",
          "height": 36
        },
        "id": "mESLx1RPlh79",
        "outputId": "2dc8a021-accf-4271-bc8d-dc94a05898f7"
      },
      "outputs": [
        {
          "output_type": "execute_result",
          "data": {
            "text/plain": [
              "'2.0.1+cu118'"
            ],
            "application/vnd.google.colaboratory.intrinsic+json": {
              "type": "string"
            }
          },
          "metadata": {},
          "execution_count": 5
        }
      ],
      "source": [
        "import torch\n",
        "from torch import nn\n",
        "import pandas as pd\n",
        "import numpy as np\n",
        "import matplotlib.pyplot as plt\n",
        "\n",
        "\n",
        "torch.__version__"
      ]
    },
    {
      "cell_type": "markdown",
      "source": [
        "Data preparation and loading(turning data into tensors)\n",
        "\n",
        "Data can be\n",
        "\n",
        "\n",
        "1.   Excel spreadsheet\n",
        "2.   images\n",
        "3.   DNA\n",
        "4.   text\n",
        "5.   videos\n",
        "6.   audio\n",
        "  lets showcase known data using linear regression\n",
        "\n",
        "\n"
      ],
      "metadata": {
        "id": "as44Dlztmuyh"
      }
    },
    {
      "cell_type": "code",
      "source": [
        "#create known parameter\n",
        "\n",
        "weight = 0.9\n",
        "bias= 0.4\n",
        "\n",
        "# create\n",
        "\n",
        "start = 0\n",
        "end =1\n",
        "\n",
        "step =0.02\n",
        "X= torch.arange(start , end, step).unsqueeze(dim=1)\n",
        "y= weight *X + bias\n",
        "\n",
        "X[:10], y[:10]"
      ],
      "metadata": {
        "colab": {
          "base_uri": "https://localhost:8080/"
        },
        "id": "EowllZwHmRGR",
        "outputId": "48b7fa5d-19a4-4ea9-bd1e-9df61bdb055d"
      },
      "execution_count": 6,
      "outputs": [
        {
          "output_type": "execute_result",
          "data": {
            "text/plain": [
              "(tensor([[0.0000],\n",
              "         [0.0200],\n",
              "         [0.0400],\n",
              "         [0.0600],\n",
              "         [0.0800],\n",
              "         [0.1000],\n",
              "         [0.1200],\n",
              "         [0.1400],\n",
              "         [0.1600],\n",
              "         [0.1800]]),\n",
              " tensor([[0.4000],\n",
              "         [0.4180],\n",
              "         [0.4360],\n",
              "         [0.4540],\n",
              "         [0.4720],\n",
              "         [0.4900],\n",
              "         [0.5080],\n",
              "         [0.5260],\n",
              "         [0.5440],\n",
              "         [0.5620]]))"
            ]
          },
          "metadata": {},
          "execution_count": 6
        }
      ]
    },
    {
      "cell_type": "code",
      "source": [],
      "metadata": {
        "id": "aF2-qSNPpx3q"
      },
      "execution_count": null,
      "outputs": []
    }
  ]
}